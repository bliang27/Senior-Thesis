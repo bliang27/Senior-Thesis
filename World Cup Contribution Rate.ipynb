{
 "cells": [
  {
   "cell_type": "markdown",
   "metadata": {},
   "source": [
    "# Load Data"
   ]
  },
  {
   "cell_type": "code",
   "execution_count": 1,
   "metadata": {
    "scrolled": true
   },
   "outputs": [],
   "source": [
    "%load_ext autoreload\n",
    "%autoreload 2\n",
    "import os; import sys; sys.path.append('../')\n",
    "import pandas as pd\n",
    "import tqdm\n",
    "import warnings\n",
    "import copy\n",
    "warnings.simplefilter(action='ignore', category=pd.errors.PerformanceWarning)\n",
    "\n",
    "import networkx as nx\n",
    "import numpy as np\n",
    "from collections import Counter\n",
    "from collections import OrderedDict"
   ]
  },
  {
   "cell_type": "code",
   "execution_count": 2,
   "metadata": {},
   "outputs": [],
   "source": [
    "## Configure file and folder names\n",
    "datafolder = \"../data\"\n",
    "spadl_h5 = os.path.join(datafolder,\"spadl-statsbomb.h5\")\n",
    "predictions_h5 = os.path.join(datafolder,\"predictions.h5\")"
   ]
  },
  {
   "cell_type": "code",
   "execution_count": 3,
   "metadata": {},
   "outputs": [
    {
     "name": "stdout",
     "output_type": "stream",
     "text": [
      "nb of games: 64\n"
     ]
    }
   ],
   "source": [
    "games = pd.read_hdf(spadl_h5,\"games\")\n",
    "games = games[games.competition_name == \"FIFA World Cup\"]\n",
    "print(\"nb of games:\", len(games))"
   ]
  },
  {
   "cell_type": "markdown",
   "metadata": {},
   "source": [
    "# Helper Functions"
   ]
  },
  {
   "cell_type": "code",
   "execution_count": 4,
   "metadata": {},
   "outputs": [],
   "source": [
    "def players_in_game(B):\n",
    "    team_id = B.loc[0][\"team_id\"]\n",
    "    team1 = []\n",
    "    team2 = []\n",
    "    players = {}\n",
    "    for i in range(len(B)):\n",
    "        player = B.loc[i][\"player_name\"]\n",
    "        if players.get(player) == None:\n",
    "            players[player] = [0,0]\n",
    "            if B.loc[i][\"team_id\"] == team_id:\n",
    "                team1.append(player)\n",
    "            else:\n",
    "                team2.append(player)\n",
    "            \n",
    "    return players, team1, team2"
   ]
  },
  {
   "cell_type": "code",
   "execution_count": 5,
   "metadata": {},
   "outputs": [],
   "source": [
    "def players_in_pos(pos):\n",
    "    contribution_action = ['pass', 'dribble', 'throw_in', 'corner_crossed', 'freekick_crossed', 'cross', 'shot', \n",
    "                  'freekick_short', 'goalkick', 'corner_short', 'shot_penalty']\n",
    "    shot_action = ['shot', 'shot_penalty']\n",
    "    \n",
    "    pos_players = []\n",
    "    for play in pos:\n",
    "        play_type = play['type_name']\n",
    "        player = play['player_name']\n",
    "        if (play_type in contribution_action and play['result_name'] == 'success') or play_type in shot_action:\n",
    "            if player not in pos_players:\n",
    "                pos_players.append(player)\n",
    "            \n",
    "    return pos_players"
   ]
  },
  {
   "cell_type": "code",
   "execution_count": 6,
   "metadata": {},
   "outputs": [],
   "source": [
    "def change_possession(action, action_team, possession_team, result):\n",
    "    end_pos = ['bad_touch', 'foul']\n",
    "    change_team = ['pass', 'dribble', 'throw_in', 'corner_crossed', 'freekick_crossed', 'cross', 'shot', \n",
    "                  'freekick_short', 'goalkick', 'corner_short', 'shot_penalty', 'keeper_pick_up']\n",
    "    success_change = ['tackle', 'interception', 'take_on', 'clearance', 'keeper_claim', 'keeper_save', \n",
    "                      'keeper_punch']\n",
    "    \n",
    "    if possession_team == None:\n",
    "        if result == 'success':\n",
    "            if action in change_team:\n",
    "                possession_team = action_team\n",
    "        else:\n",
    "            return False, None\n",
    "    \n",
    "    \n",
    "    if action in end_pos:\n",
    "        return True, None\n",
    "    \n",
    "    if action_team != possession_team:\n",
    "        if action in change_team:\n",
    "            return True, action_team\n",
    "        if result == 'success':\n",
    "            if action in success_change:\n",
    "                return True, action_team\n",
    "            \n",
    "    return False, possession_team"
   ]
  },
  {
   "cell_type": "code",
   "execution_count": 7,
   "metadata": {},
   "outputs": [],
   "source": [
    "def extract_possessions(actions):\n",
    "    all_possessions = []\n",
    "    curr_possession = []\n",
    "    possessing_team = actions.loc[0][\"team_id\"]\n",
    "        \n",
    "    for i in range(len(actions)):\n",
    "        action = actions.loc[i][\"type_name\"]\n",
    "        action_team = actions.loc[i][\"team_id\"]\n",
    "        result = actions.loc[i][\"result_name\"]\n",
    "        end_pos, possessing_team = change_possession(action, action_team, possessing_team, result)\n",
    "        \n",
    "        if end_pos:\n",
    "            all_possessions.append(copy.deepcopy(curr_possession))\n",
    "            curr_possession = []\n",
    "\n",
    "        curr_possession.append(actions.loc[i])\n",
    "\n",
    "    return all_possessions"
   ]
  },
  {
   "cell_type": "code",
   "execution_count": 8,
   "metadata": {},
   "outputs": [],
   "source": [
    "def count_contributions(actions, start_team):\n",
    "    possessions = extract_possessions(actions)\n",
    "    contributions, team1, team2 = players_in_game(actions)\n",
    "\n",
    "    for pos in possessions:\n",
    "        pos_players = []\n",
    "\n",
    "        pos_players = players_in_pos(pos)\n",
    "        \n",
    "        for play in pos:\n",
    "            if play['type_name'] == 'shot':\n",
    "                for player in pos_players:\n",
    "                    contributions[player][0] += 1\n",
    "\n",
    "                if play['team_id'] == start_team:\n",
    "                    for player in team1:\n",
    "                        contributions[player][1] += 1\n",
    "                else:\n",
    "                    for player in team2:\n",
    "                        contributions[player][1] += 1\n",
    "                        \n",
    "                break\n",
    "                        \n",
    "    return contributions"
   ]
  },
  {
   "cell_type": "markdown",
   "metadata": {},
   "source": [
    "# Compute Contribution Rates"
   ]
  },
  {
   "cell_type": "code",
   "execution_count": 9,
   "metadata": {},
   "outputs": [],
   "source": [
    "players = pd.read_hdf(spadl_h5,\"players\")\n",
    "teams = pd.read_hdf(spadl_h5,\"teams\")\n",
    "actiontypes = pd.read_hdf(spadl_h5, \"actiontypes\")\n",
    "bodyparts = pd.read_hdf(spadl_h5, \"bodyparts\")\n",
    "results = pd.read_hdf(spadl_h5, \"results\")"
   ]
  },
  {
   "cell_type": "code",
   "execution_count": 10,
   "metadata": {},
   "outputs": [
    {
     "name": "stderr",
     "output_type": "stream",
     "text": [
      "100%|██████████████████████████████████████████████████████████████████████████████████| 64/64 [02:08<00:00,  2.08s/it]\n"
     ]
    }
   ],
   "source": [
    "total_contributions = {}\n",
    "for player in players['player_name']:\n",
    "    total_contributions[player] = [0,0]\n",
    "\n",
    "roster = {}\n",
    "tourney_teams = {}\n",
    "    \n",
    "for game in tqdm.tqdm(list(games.itertuples())):\n",
    "    actions = pd.read_hdf(spadl_h5,f\"actions/game_{game.game_id}\")\n",
    "    actions = (\n",
    "        actions.merge(actiontypes)\n",
    "        .merge(results)\n",
    "        .merge(bodyparts)\n",
    "        .merge(players,\"left\",on=\"player_id\")\n",
    "        .merge(teams,\"left\",on=\"team_id\")\n",
    "        .sort_values([\"period_id\", \"time_seconds\", \"timestamp\"])\n",
    "        .reset_index(drop=True)\n",
    "    )\n",
    "    \n",
    "    for i in range(len(actions)):\n",
    "        player = actions.loc[i][\"player_name\"]\n",
    "        team = actions.loc[i][\"team_name\"]\n",
    "        if team not in tourney_teams:\n",
    "            tourney_teams[team] = 2\n",
    "        if player not in roster:\n",
    "            roster[player] = team\n",
    "    \n",
    "    contributions = count_contributions(actions, actions.loc[0][\"team_id\"])\n",
    "\n",
    "    for player in contributions.keys():\n",
    "        total_contributions[player][0] += contributions[player][0]\n",
    "        total_contributions[player][1] += contributions[player][1]"
   ]
  },
  {
   "cell_type": "code",
   "execution_count": 11,
   "metadata": {},
   "outputs": [],
   "source": [
    "iter_help = copy.deepcopy(total_contributions)\n",
    "for player in iter_help:\n",
    "    if total_contributions[player][1] == 0:\n",
    "        del total_contributions[player]"
   ]
  },
  {
   "cell_type": "code",
   "execution_count": 12,
   "metadata": {},
   "outputs": [
    {
     "name": "stdout",
     "output_type": "stream",
     "text": [
      "Heung-Min Son(South Korea): 0.8148148148148148\n",
      "Lionel Andrés Messi Cuccittini(Argentina): 0.7555555555555555\n",
      "Aaron Mooy(Australia): 0.7142857142857143\n",
      "Neymar da Silva Santos Junior(Brazil): 0.6947368421052632\n",
      "Kieran Trippier(England): 0.6875\n",
      "Toni Kroos(Germany): 0.6666666666666666\n",
      "Christian Alberto Cueva Bravo(Peru): 0.6666666666666666\n",
      "M\"Baye Babacar Niang(Senegal): 0.6666666666666666\n",
      "Hakim Ziyech(Morocco): 0.6666666666666666\n",
      "Francisco Román Alarcón Suárez(Spain): 0.6557377049180327\n",
      "Wahbi Khazri(Tunisia): 0.6470588235294118\n",
      "Mesut Özil(Germany): 0.6170212765957447\n",
      "Xherdan Shaqiri(Switzerland): 0.6153846153846154\n",
      "Philippe Coutinho Correia(Brazil): 0.6\n",
      "Aleksandar Mitrović(Serbia): 0.59375\n",
      "Sadio Mané(Senegal): 0.5833333333333334\n",
      "Luka Modrić(Croatia): 0.5757575757575758\n",
      "Shinji Kagawa(Japan): 0.5714285714285714\n",
      "Eden Hazard(Belgium): 0.569620253164557\n",
      "Kevin De Bruyne(Belgium): 0.5569620253164557\n",
      "Jae-Sung Lee(South Korea): 0.5555555555555556\n",
      "Christian Dannemann Eriksen(Denmark): 0.5526315789473685\n",
      "Salman Mohammed Al Faraj(Saudi Arabia): 0.5517241379310345\n",
      "Gylfi Þór Sigurðsson(Iceland): 0.5517241379310345\n",
      "Edgar Yoel Bárcenas Herrera(Panama): 0.55\n",
      "Mahmoud Ibrahim Hassan(Egypt): 0.5483870967741935\n",
      "Takashi Inui(Japan): 0.5384615384615384\n",
      "Edinson Roberto Cavani Gómez(Uruguay): 0.5365853658536586\n",
      "Carlos Alberto Vela Garrido(Mexico): 0.5357142857142857\n",
      "Javier Alejandro Mascherano(Argentina): 0.5333333333333333\n",
      "André Martín Carrillo Díaz(Peru): 0.5333333333333333\n",
      "Radamel Falcao García Zárate(Colombia): 0.53125\n",
      "Juan Fernando Quintero Paniagua(Colombia): 0.53125\n",
      "Antoine Griezmann(France): 0.5230769230769231\n",
      "Cristiano Ronaldo dos Santos Aveiro(Portugal): 0.5217391304347826\n",
      "Mohamed Salah(Egypt): 0.5217391304347826\n",
      "Raphaël Adelino José Guerreiro(Portugal): 0.5217391304347826\n",
      "Oghenekaro Etebo(Nigeria): 0.5\n",
      "Paul Pogba(France): 0.5\n",
      "Mathew Leckie(Australia): 0.5\n",
      "Sergej Milinković-Savić(Serbia): 0.5\n",
      "Ali Maâloul(Tunisia): 0.5\n",
      "Younès Belhanda(Morocco): 0.5\n",
      "Viktor Claesson(Sweden): 0.4888888888888889\n",
      "Marcus Berg(Sweden): 0.4888888888888889\n",
      "Salem Mohammed Al Dawsari(Saudi Arabia): 0.4827586206896552\n",
      "Granit Xhaka(Switzerland): 0.4807692307692308\n",
      "Sergio Ramos García(Spain): 0.47540983606557374\n",
      "Hirving Rodrigo Lozano Bahena(Mexico): 0.4642857142857143\n",
      "Celso Borges Mora(Costa Rica): 0.46153846153846156\n",
      "José Martín Cáceres Silva(Uruguay): 0.4489795918367347\n",
      "Jordan Brian Henderson(England): 0.4423076923076923\n",
      "Ivan Rakitić(Croatia): 0.43434343434343436\n",
      "Robert Lewandowski(Poland): 0.43333333333333335\n",
      "Roman Zobnin(Russia): 0.425531914893617\n",
      "Joel Nathaniel Campbell Samuels(Costa Rica): 0.4090909090909091\n",
      "Kamil Grosicki(Poland): 0.4\n",
      "Denis Cheryshev(Russia): 0.3829787234042553\n",
      "Ahmed Musa(Nigeria): 0.38235294117647056\n",
      "Johann Berg Guðmunds­son(Iceland): 0.38095238095238093\n",
      "Thomas Delaney(Denmark): 0.3684210526315789\n",
      "José Luis Rodríguez Francis(Panama): 0.35\n"
     ]
    }
   ],
   "source": [
    "count_teams = copy.deepcopy(tourney_teams)\n",
    "\n",
    "contribution_rate = {}\n",
    "for player in total_contributions.keys():\n",
    "        pos_num = total_contributions[player][1]\n",
    "        if pos_num >= 20:\n",
    "            contribution_rate[player] = total_contributions[player][0] / pos_num \n",
    "        \n",
    "ordered_rates = OrderedDict(sorted(contribution_rate.items(), key=lambda x: x[1], reverse=True))\n",
    "\n",
    "for player in ordered_rates:\n",
    "    team = roster[player]\n",
    "    if count_teams[team] > 0:\n",
    "        print(player + \"(\" + team + \"): \" + str(ordered_rates[player]))\n",
    "        count_teams[team] -= 1"
   ]
  },
  {
   "cell_type": "code",
   "execution_count": null,
   "metadata": {},
   "outputs": [],
   "source": []
  }
 ],
 "metadata": {
  "kernelspec": {
   "display_name": "Python 3",
   "language": "python",
   "name": "python3"
  },
  "language_info": {
   "codemirror_mode": {
    "name": "ipython",
    "version": 3
   },
   "file_extension": ".py",
   "mimetype": "text/x-python",
   "name": "python",
   "nbconvert_exporter": "python",
   "pygments_lexer": "ipython3",
   "version": "3.7.1"
  }
 },
 "nbformat": 4,
 "nbformat_minor": 2
}
