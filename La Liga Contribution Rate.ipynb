{
 "cells": [
  {
   "cell_type": "markdown",
   "metadata": {},
   "source": [
    "# Load Data"
   ]
  },
  {
   "cell_type": "code",
   "execution_count": 20,
   "metadata": {
    "scrolled": true
   },
   "outputs": [
    {
     "name": "stdout",
     "output_type": "stream",
     "text": [
      "The autoreload extension is already loaded. To reload it, use:\n",
      "  %reload_ext autoreload\n"
     ]
    }
   ],
   "source": [
    "%load_ext autoreload\n",
    "%autoreload 2\n",
    "import os; import sys; sys.path.append('../')\n",
    "import pandas as pd\n",
    "import tqdm\n",
    "import warnings\n",
    "import copy\n",
    "warnings.simplefilter(action='ignore', category=pd.errors.PerformanceWarning)\n",
    "\n",
    "import networkx as nx\n",
    "import numpy as np\n",
    "from collections import Counter\n",
    "from collections import OrderedDict"
   ]
  },
  {
   "cell_type": "code",
   "execution_count": 21,
   "metadata": {},
   "outputs": [],
   "source": [
    "## Configure file and folder names\n",
    "datafolder = \"../data\"\n",
    "spadl_h5 = os.path.join(datafolder,\"spadl-statsbomb.h5\")\n",
    "predictions_h5 = os.path.join(datafolder,\"predictions.h5\")"
   ]
  },
  {
   "cell_type": "code",
   "execution_count": 22,
   "metadata": {},
   "outputs": [
    {
     "name": "stdout",
     "output_type": "stream",
     "text": [
      "nb of games: 348\n"
     ]
    }
   ],
   "source": [
    "games = pd.read_hdf(spadl_h5,\"games\")\n",
    "games = games[games.competition_name == \"La Liga\"]\n",
    "print(\"nb of games:\", len(games))"
   ]
  },
  {
   "cell_type": "markdown",
   "metadata": {},
   "source": [
    "# Helper Functions"
   ]
  },
  {
   "cell_type": "code",
   "execution_count": 23,
   "metadata": {},
   "outputs": [],
   "source": [
    "def players_in_game(B):\n",
    "    team_id = B.loc[0][\"team_id\"]\n",
    "    team1 = []\n",
    "    team2 = []\n",
    "    players = {}\n",
    "    for i in range(len(B)):\n",
    "        player = B.loc[i][\"player_name\"]\n",
    "        if players.get(player) == None:\n",
    "            players[player] = [0,0]\n",
    "            if B.loc[i][\"team_id\"] == team_id:\n",
    "                team1.append(player)\n",
    "            else:\n",
    "                team2.append(player)\n",
    "            \n",
    "    return players, team1, team2"
   ]
  },
  {
   "cell_type": "code",
   "execution_count": 24,
   "metadata": {},
   "outputs": [],
   "source": [
    "def players_in_pos(pos):\n",
    "    contribution_action = ['pass', 'dribble', 'throw_in', 'corner_crossed', 'freekick_crossed', 'cross', 'shot', \n",
    "                  'freekick_short', 'goalkick', 'corner_short', 'shot_penalty']\n",
    "    shot_action = ['shot', 'shot_penalty']\n",
    "    \n",
    "    pos_players = []\n",
    "    for play in pos:\n",
    "        play_type = play['type_name']\n",
    "        player = play['player_name']\n",
    "        if (play_type in contribution_action and play['result_name'] == 'success') or play_type in shot_action:\n",
    "            if player not in pos_players:\n",
    "                pos_players.append(player)\n",
    "            \n",
    "    return pos_players"
   ]
  },
  {
   "cell_type": "code",
   "execution_count": 25,
   "metadata": {},
   "outputs": [],
   "source": [
    "def change_possession(action, action_team, possession_team, result):\n",
    "    end_pos = ['bad_touch', 'foul']\n",
    "    change_team = ['pass', 'dribble', 'throw_in', 'corner_crossed', 'freekick_crossed', 'cross', 'shot', \n",
    "                  'freekick_short', 'goalkick', 'corner_short', 'shot_penalty', 'keeper_pick_up']\n",
    "    success_change = ['tackle', 'interception', 'take_on', 'clearance', 'keeper_claim', 'keeper_save', \n",
    "                      'keeper_punch']\n",
    "    \n",
    "    if possession_team == None:\n",
    "        if result == 'success':\n",
    "            if action in change_team:\n",
    "                possession_team = action_team\n",
    "        else:\n",
    "            return False, None\n",
    "    \n",
    "    \n",
    "    if action in end_pos:\n",
    "        return True, None\n",
    "    \n",
    "    if action_team != possession_team:\n",
    "        if action in change_team:\n",
    "            return True, action_team\n",
    "        if result == 'success':\n",
    "            if action in success_change:\n",
    "                return True, action_team\n",
    "            \n",
    "    return False, possession_team"
   ]
  },
  {
   "cell_type": "code",
   "execution_count": 26,
   "metadata": {},
   "outputs": [],
   "source": [
    "def extract_possessions(actions):\n",
    "    all_possessions = []\n",
    "    curr_possession = []\n",
    "    possessing_team = actions.loc[0][\"team_id\"]\n",
    "        \n",
    "    for i in range(len(actions)):\n",
    "        action = actions.loc[i][\"type_name\"]\n",
    "        action_team = actions.loc[i][\"team_id\"]\n",
    "        result = actions.loc[i][\"result_name\"]\n",
    "        end_pos, possessing_team = change_possession(action, action_team, possessing_team, result)\n",
    "        \n",
    "        if end_pos:\n",
    "            all_possessions.append(copy.deepcopy(curr_possession))\n",
    "            curr_possession = []\n",
    "\n",
    "        curr_possession.append(actions.loc[i])\n",
    "\n",
    "    return all_possessions"
   ]
  },
  {
   "cell_type": "code",
   "execution_count": 27,
   "metadata": {},
   "outputs": [],
   "source": [
    "def count_contributions(actions, start_team):\n",
    "    possessions = extract_possessions(actions)\n",
    "    contributions, team1, team2 = players_in_game(actions)\n",
    "\n",
    "    for pos in possessions:\n",
    "        pos_players = []\n",
    "\n",
    "        pos_players = players_in_pos(pos)\n",
    "        \n",
    "        for play in pos:\n",
    "            if play['type_name'] == 'shot':\n",
    "                for player in pos_players:\n",
    "                    contributions[player][0] += 1\n",
    "\n",
    "                if play['team_id'] == start_team:\n",
    "                    for player in team1:\n",
    "                        contributions[player][1] += 1\n",
    "                else:\n",
    "                    for player in team2:\n",
    "                        contributions[player][1] += 1\n",
    "                        \n",
    "                break\n",
    "                        \n",
    "    return contributions"
   ]
  },
  {
   "cell_type": "markdown",
   "metadata": {},
   "source": [
    "# Compute Contribution Rates"
   ]
  },
  {
   "cell_type": "code",
   "execution_count": 28,
   "metadata": {},
   "outputs": [],
   "source": [
    "players = pd.read_hdf(spadl_h5,\"players\")\n",
    "teams = pd.read_hdf(spadl_h5,\"teams\")\n",
    "actiontypes = pd.read_hdf(spadl_h5, \"actiontypes\")\n",
    "bodyparts = pd.read_hdf(spadl_h5, \"bodyparts\")\n",
    "results = pd.read_hdf(spadl_h5, \"results\")"
   ]
  },
  {
   "cell_type": "code",
   "execution_count": 29,
   "metadata": {},
   "outputs": [
    {
     "name": "stderr",
     "output_type": "stream",
     "text": [
      "100%|████████████████████████████████████████████████████████████████████████████████████████████████████████████████████████████████████████████████████████████████████████████████████████| 348/348 [13:14<00:00,  2.06s/it]\n"
     ]
    }
   ],
   "source": [
    "total_contributions = {}\n",
    "for player in players['player_name']:\n",
    "    total_contributions[player] = [0,0]\n",
    "\n",
    "roster = {}\n",
    "tourney_teams = {}\n",
    "    \n",
    "for game in tqdm.tqdm(list(games.itertuples())):\n",
    "    actions = pd.read_hdf(spadl_h5,f\"actions/game_{game.game_id}\")\n",
    "    actions = (\n",
    "        actions.merge(actiontypes)\n",
    "        .merge(results)\n",
    "        .merge(bodyparts)\n",
    "        .merge(players,\"left\",on=\"player_id\")\n",
    "        .merge(teams,\"left\",on=\"team_id\")\n",
    "        .sort_values([\"period_id\", \"time_seconds\", \"timestamp\"])\n",
    "        .reset_index(drop=True)\n",
    "    )\n",
    "    \n",
    "    for i in range(len(actions)):\n",
    "        player = actions.loc[i][\"player_name\"]\n",
    "        team = actions.loc[i][\"team_name\"]\n",
    "        if team not in tourney_teams:\n",
    "            tourney_teams[team] = 2\n",
    "        if player not in roster:\n",
    "            roster[player] = team\n",
    "    \n",
    "    contributions = count_contributions(actions, actions.loc[0][\"team_id\"])\n",
    "\n",
    "    for player in contributions.keys():\n",
    "        total_contributions[player][0] += contributions[player][0]\n",
    "        total_contributions[player][1] += contributions[player][1]"
   ]
  },
  {
   "cell_type": "code",
   "execution_count": 30,
   "metadata": {},
   "outputs": [],
   "source": [
    "iter_help = copy.deepcopy(total_contributions)\n",
    "for player in iter_help:\n",
    "    if total_contributions[player][1] == 0:\n",
    "        del total_contributions[player]"
   ]
  },
  {
   "cell_type": "code",
   "execution_count": 34,
   "metadata": {},
   "outputs": [
    {
     "name": "stdout",
     "output_type": "stream",
     "text": [
      "Roberto Trashorras Gayoso(Rayo Vallecano): 0.6176470588235294\n",
      "Lionel Andrés Messi Cuccittini(Barcelona): 0.5596310596310596\n",
      "Xavier Hernández Creus(Barcelona): 0.5276763135712279\n",
      "Ronaldo de Assis Moreira(Barcelona): 0.517555266579974\n",
      "Frédéric Oumar Kanouté(Sevilla): 0.5168539325842697\n",
      "Neymar da Silva Santos Junior(Barcelona): 0.5160142348754448\n",
      "Sergio García De La Fuente(Espanyol): 0.5108695652173914\n",
      "Anderson Luís de Souza(Barcelona): 0.5047106325706595\n",
      "Luis Alberto Suárez Díaz(Barcelona): 0.49074074074074076\n",
      "Gareth Frank Bale(Real Madrid): 0.48148148148148145\n",
      "Fernando José Torres Sanz(Atlético Madrid): 0.48\n",
      "Antoine Griezmann(Real Sociedad): 0.4772727272727273\n",
      "Francisco Javier Yeste Navarro(Athletic Bilbao): 0.47540983606557374\n",
      "Luka Modrić(Real Madrid): 0.47435897435897434\n",
      "Samuel Eto\"o Fils(Barcelona): 0.4722222222222222\n",
      "Ander Herrera Agüera(Real Zaragoza): 0.4716981132075472\n",
      "Pablo Hernández Domínguez(Valencia): 0.46875\n",
      "Álvaro Cejudo Carmona(Osasuna): 0.4666666666666667\n",
      "Cristiano Ronaldo dos Santos Aveiro(Real Madrid): 0.44\n",
      "Francesc Fàbregas i Soler(Barcelona): 0.4359925788497217\n"
     ]
    }
   ],
   "source": [
    "count_teams = copy.deepcopy(tourney_teams)\n",
    "\n",
    "contribution_rate = {}\n",
    "for player in total_contributions.keys():\n",
    "        pos_num = total_contributions[player][1]\n",
    "        if pos_num >= 50:\n",
    "            contribution_rate[player] = total_contributions[player][0] / pos_num \n",
    "        \n",
    "ordered_rates = OrderedDict(sorted(contribution_rate.items(), key=lambda x: x[1], reverse=True))\n",
    "count = 20\n",
    "for player in ordered_rates:\n",
    "    team = roster[player]\n",
    "    if count > 0:\n",
    "    #if count_teams[team] > 0:\n",
    "        print(player + \"(\" + team + \"): \" + str(ordered_rates[player]))\n",
    "        count -= 1\n",
    "        #count_teams[team] -= 1"
   ]
  },
  {
   "cell_type": "code",
   "execution_count": 32,
   "metadata": {},
   "outputs": [
    {
     "name": "stdout",
     "output_type": "stream",
     "text": [
      "{'Alexis Alejandro Sánchez Sánchez': [337, 1013], 'Francesc Fàbregas i Soler': [470, 1078], 'Pedro Eliezer Rodríguez Ledesma': [767, 2396], 'Neymar da Silva Santos Junior': [580, 1124], 'Daniel Alves da Silva': [1286, 3036], 'Sergio Busquets i Burgos': [1068, 3047], 'Jordi Alba Ramos': [467, 1210], 'Gerard Piqué Bernabéu': [721, 2610], 'Andrés Iniesta Luján': [1541, 3751], 'Lionel Andrés Messi Cuccittini': [2609, 4662], 'Javier Alejandro Mascherano': [564, 2131], 'Sergi Roberto Carnicer': [131, 664], 'Xavier Hernández Creus': [1878, 3559], 'Víctor Valdés Arribas': [329, 3400], 'Thibaut Courtois': [4, 52], 'Diego da Silva Costa': [22, 67], 'Jorge Resurrección Merodio': [31, 96], 'Diego Roberto Godín Leal': [19, 114], 'Cristian Gabriel Rodríguez Barrotti': [2, 19], 'João Miranda de Souza Filho': [9, 52], 'Filipe Luis Kasmirski': [13, 74], 'Juan Francisco Torres Belén': [22, 108], 'Gabriel Fernández Arenas': [54, 136], 'Raúl García Escudero': [42, 104], 'Arda Turan': [59, 287], 'David Villa Sánchez': [322, 920], 'Tiago Cardoso Mendes': [25, 92], 'Grzegorz Krychowiak': [2, 12], 'Gerard Deulofeu Lázaro': [1, 17], 'Iago Aspas Juncal': [20, 28], 'Éver Maximiliano David Banega': [38, 105], 'Carlos Arturo Bacca Ahumada': [12, 23], 'Aleix Vidal Parreu': [36, 139], 'Kevin Gameiro': [12, 41], 'Denis Suárez Fernández': [9, 14], 'Jorge Andújar Moreno': [14, 41], 'Daniel Filipe Martins Carriço': [5, 23], 'Víctor Machín Pérez': [18, 41], 'Nicolás Martín Pareja': [4, 35], 'Diogo José Rosário Gomes Figueiras': [3, 13], 'António Alberto Bastos Pimparel': [3, 26], 'Claudio Andrés Bravo Muñoz': [109, 934], 'Luis Alberto Suárez Díaz': [371, 756], 'Ivan Rakitić': [355, 902], 'Rafael Alcântara do Nascimento': [91, 404], 'Jérémy Mathieu': [153, 659], 'Adriano Correia Claro': [433, 1405], 'Martín Montoya Torralbo': [115, 445], 'Marc Bartra Aregall': [138, 610], 'Alexandre Dimitri Song-Billong': [109, 376], 'Antoine Griezmann': [42, 88], 'Carlos Alberto Vela Garrido': [22, 76], 'Joseba Zaldúa Bengoetxea': [0, 14], 'Markel Bergara Larrañaga': [8, 60], 'Íñigo Martínez Berridi': [11, 67], 'David Zurutuza Veillet': [8, 29], 'Sergio Canales Madrazo': [14, 71], 'Xabier Prieto Argarate': [26, 94], 'José Ángel Valdés Díaz': [1, 27], 'Rubén Pardo Gutiérrez': [9, 48], 'Gorka Elustondo Urkola': [6, 28], 'Mikel González de Martín Martínez': [7, 70], 'Jon Ansotegi Gorostola': [3, 33], 'Adil Rami': [7, 59], 'Vicente Iborra De La Fuente': [11, 57], 'Steven N\"Kemboanza Mike Christopher Nzonzi': [5, 11], 'Michael Krohn-Dehli': [13, 32], 'Sergio Rico González': [0, 21], 'Sebastián Carlos Cristóforo Pepe': [1, 18], 'Yevhen Konoplyanka': [1, 11], 'Timothée Kolodziejczak': [1, 11], 'Juan Muñoz Muñoz': [0, 11], 'Benoît Trémoulinas': [5, 21], 'Ángel Fabián Di María Hernández': [25, 66], 'Álvaro Borja Morata Martín': [4, 21], 'Francisco Román Alarcón Suárez': [15, 66], 'Sergio Ramos García': [45, 210], 'Cristiano Ronaldo dos Santos Aveiro': [66, 150], 'Luka Modrić': [37, 78], 'Raphaël Varane': [6, 54], 'Marcelo Vieira da Silva Júnior': [52, 151], 'Daniel Carvajal Ramos': [20, 68], 'Gareth Frank Bale': [26, 54], 'Diego López Rodríguez': [5, 71], 'Karim Benzema': [60, 150], 'Kléper Laveran Lima Ferreira': [30, 142], 'Xabier Alonso Olano': [32, 83], 'Rene Krhin': [2, 12], 'Florin Andone': [3, 6], 'Tiago Manuel Dias Correia': [3, 13], 'José Ángel Crespo Rincón': [7, 23], 'Fidel Chaves de la Torre': [4, 13], 'Federico Vico Villegas': [1, 6], 'Luis Eduardo Delgado Pacheco': [4, 12], 'Juan Carlos Martín Corral': [3, 19], 'David Omar Rodríguez Barrera': [2, 12], 'Íñigo López Montaña': [8, 34], 'Patrick Claude Ekeng Ekeng': [2, 12], 'Adrián Javier Gunino Duque': [2, 6], 'Edimar Curitiba Fraga': [2, 6], 'Aleksandar Pantić': [3, 19], 'Thomas Vermaelen': [19, 132], 'Munir El Haddadi Mohamed': [67, 280], 'Juan Pablo Añor Acosta': [8, 31], 'Roberto José Rosales Altuve': [9, 31], 'José Luis García del Pozo': [14, 60], 'Charles Días Barbosa de Oliveira': [16, 40], 'Gonzalo Castro Irizábal': [40, 104], 'Pablo Fornals Malla': [1, 11], 'Miguel Torres Gómez': [20, 78], 'Ignacio Camacho Barnola': [14, 47], 'Duje Čop': [7, 15], 'Sérgio Paulo Barbosa Valente': [17, 66], 'Idriss Carlos Kameni': [9, 96], 'Weligton Róbson Pena de Oliveira': [4, 50], 'Roque Luis Santa Cruz Cantero': [9, 31], 'Marcos Alberto Angeleri': [4, 28], 'Sandro Ramírez Castillo': [22, 186], 'Eneko Bóveda Altube': [6, 29], 'Ander Capa Rodríguez': [6, 23], 'Raúl Albentosa Redal': [3, 8], 'Daniel García Carrillo': [1, 11], 'Abraham Minero Fernández': [1, 16], 'Federico Piovaccari': [4, 16], 'Saúl Berjón Pérez': [8, 23], 'Javier Lara Grande': [7, 16], 'Manuel Castellano Castro': [0, 16], 'Daniel Nieto Vela': [1, 4], 'Derek Owusu Boateng': [7, 41], 'Borja Ekiza Imaz': [2, 36], 'Jon Errasti Zabalete': [1, 16], 'Xabier Iruretagoiena Aranzamendi': [1, 4], 'Cristian Tello Herrera': [126, 663], 'Carles Puyol i Saforcada': [501, 2415], 'Johan Andrés Mojica Palacio': [8, 20], 'Saúl Ñíguez Esclapez': [12, 35], 'Rubén Rochina Naixes': [11, 31], 'Anaitz Arbilla Zabala': [4, 44], 'Rubén Iván Martínez Andrade': [8, 81], 'Alberto Bueno Calvo': [18, 40], 'Roberto Román Triguero': [19, 86], 'Iago Falqué Silva': [6, 9], 'Jonathan Viera Ramos': [20, 52], 'Samuele Longo': [1, 9], 'José Eduardo Rosa Vale e Castro': [7, 44], 'José Raúl Baena Urdiales': [15, 56], 'Roberto Trashorras Gayoso': [42, 68], 'Joaquín Oscar Larrivey': [12, 34], 'Luis Hernández Rodríguez': [1, 4], 'Miguel Ángel Guerrero Martín': [3, 4], 'Iván Cuéllar Sacristán': [0, 34], 'Arnaldo Antonio Sanabria Ayala': [0, 4], 'Alen Halilović': [7, 10], 'Ognjen Vranješ': [0, 4], 'Omar Mascarell González': [3, 10], 'Pablo Pérez Rodríguez': [4, 10], 'Alejandro Menéndez Díez': [7, 10], 'Carlos Castro García': [1, 10], 'Ismael López Blanco': [2, 10], 'Roberto Canella Suárez': [3, 33], 'Igor Lichnovsky Osorio': [0, 10], 'Rachid Aït-Atmane': [0, 4], 'Marc-André ter Stegen': [12, 83], 'Marco Asensio Willemsen': [5, 7], 'Rubén Duarte Sánchez': [0, 9], 'Víctor Sánchez Mata': [11, 124], 'Gerard Moreno Balaguero': [1, 7], 'Javier López Rodríguez': [7, 47], 'Pau López Sabata': [0, 7], 'Hernán Arsenio Pérez González': [2, 7], 'Papa Kouly Diop': [15, 57], 'Felipe Salvador Caicedo Corozo': [10, 22], 'Enzo Pablo Roco Roco': [3, 12], 'José Alberto Cañas Ruiz Herrera': [7, 34], 'Roberto Antonio Correa Silva': [1, 12], 'Francisco Montañés Claverías': [6, 18], 'Víctor Guillermo Álvarez Delgado': [3, 13], 'Alexis Ruano Delgado': [10, 64], 'Vicente Guaita Panadero': [5, 48], 'Sergio Escudero Palomo': [5, 19], 'Mehdi Lacen': [16, 57], 'Iván López Álvarez': [1, 7], 'Pedro León Sánchez Gil': [12, 53], 'Emiliano Buendía': [4, 14], 'Emiliano Daniel Velázquez Maldonado': [4, 18], 'Álvaro Arroyo Martínez': [0, 10], 'Juan Antonio Rodríguez Villamuela': [16, 74], 'Roberto Lago Soto': [1, 21], 'Papa Babacar Diawara': [2, 13], 'Fredy Hinestroza Arias': [6, 7], 'Alejandro Felip Selma': [0, 7], 'Thiago Alcântara do Nascimento': [271, 744], 'Antonio Rukavina': [4, 18], 'Julián Omar Ramos Suárez': [2, 7], 'Rubén Peña Jiménez': [3, 3], 'Mikel Balenziaga Oruesagasti': [6, 41], 'Javier Guerra Rodríguez': [6, 13], 'Lluis Sastre Reus': [2, 6], 'Daniel Hernández Santos': [0, 3], 'Óscar Javier González Marcos': [4, 29], 'Alberto Mateus Contreiras Gonçalves': [8, 37], 'Henrique Sereno Fonseca': [0, 10], 'Javier Baraja Vegas': [2, 15], 'Marc Valiente Hernández': [2, 11], 'Víctor Pérez Alonso': [2, 3], 'Alfreð Finnbogason': [2, 11], 'Alberto De La Bella Madureño': [14, 53], 'Gerónimo Rulli': [0, 26], 'Esteban Félix Granero Molina': [9, 53], 'Carlos Martínez Díez': [15, 38], 'Takashi Inui': [0, 7], 'Adrián González Morales': [22, 64], 'Borja González Tomás': [1, 7], 'Sergio Enrich Ametller': [2, 7], 'Gonzalo Escalante': [1, 7], 'David Juncà Reñé': [3, 7], 'Iván Ramis Barrios': [8, 51], 'Izet Hajrović': [0, 7], 'Asier Riesgo Unamuno': [2, 18], 'Josip Radošević': [3, 7], 'Jesús Joaquín Fernández Sáez de la Torre': [2, 10], 'Hélder Jorge Leal Rodrigues Barbosa': [1, 10], 'Ramon Olamilekan Azeez': [5, 16], 'Rodrigo Ríos Lozano': [4, 10], 'José Antonio García Rabasco': [21, 41], 'Ángel Trujillo Canorea': [6, 33], 'Esteban Andrés Suárez': [3, 14], 'Miguel Ángel García Pérez Roldán': [16, 36], 'Sebastián Dubarbier': [3, 16], 'Marcos Tébar Ramiro': [3, 10], 'Jonathan Sundy Zongo': [3, 17], 'Marco Natanel Torsiglieri': [2, 5], 'Rafael Ramos Lozano': [1, 5], 'Alejandro Arribas Garrido': [5, 55], 'Andrés Eduardo Fernández Moreno': [3, 52], 'Cristian Lobato Villegas': [0, 6], 'Oier Sanjurjo Mate': [2, 13], 'Roberto Torres Morales': [5, 10], 'Carlos Javier Acuña Caballero': [0, 6], 'Jordan Lotiès': [1, 10], 'Francisco Puñal Martínez': [26, 84], 'Damià Abella Pérez': [12, 76], 'Emiliano Daniel Armenteros': [6, 25], 'Álvaro Cejudo Carmona': [28, 60], 'Raoul Cédric Loé': [6, 21], 'Oriol Riera Magem': [9, 38], 'Francisco Andrés Silva Gajardo': [4, 10], 'Eric Bertrand Bailly': [1, 15], 'Tomás Pina Isla': [8, 40], 'Adrián López Álvarez': [18, 100], 'Víctor Ruíz Torre': [11, 75], 'Sergio Asenjo Andrés': [3, 45], 'Leonardo Carrilho Baptistão': [11, 60], 'Manuel Trigueros Muñoz': [10, 35], 'Mario Gaspar Pérez Martínez': [12, 41], 'Samuel Castillejo Azuaga': [8, 28], 'Cédric Bakambu': [7, 12], 'Bruno Soriano Llido': [24, 72], 'Roberto Soldado Rillo': [33, 98], 'Allan Romeo Nyom': [10, 37], 'Jean-Sylvain Claude Babin': [3, 24], 'Dimitri Foulquier': [5, 21], 'Jeison Fabián Murillo Cerón': [0, 12], 'Manuel Rolando Iturra Urrutia': [8, 33], 'Isaac Ajayi Success': [6, 23], 'Luís Carlos Ramos Martins': [1, 8], 'Héctor Yuste Cantón': [0, 8], 'Eddy Silvestre Pascual İsrafilov': [1, 8], 'Javier Márquez Moreno': [11, 41], 'Francisco Manuel Rico Castro': [7, 30], 'Roberto Fernández Alvarellos': [2, 15], 'Francisco Medina Luna': [19, 61], 'Youssef El-Arabi': [13, 33], 'Stéphane M\"Bia Etoundi': [0, 17], 'José Antonio Reyes Calderón': [21, 80], 'Sergi Darder Moll': [8, 18], 'Juan Miguel Jiménez López': [3, 18], 'Samuel García Sánchez': [3, 11], 'Ricardo Jorge Luz Horta': [8, 15], 'Arthur Etienne Boka': [1, 11], 'Aymeric Laporte': [6, 38], 'Ander Iturraspe Derteano': [15, 50], 'Mikel San José Domínguez': [8, 56], 'Iñaki Williams Arthuer': [2, 7], 'Beñat Etxebarria Urkiaga': [11, 57], 'Gorka Iraizoz Moreno': [7, 92], 'Javier Eraso Goñi': [3, 13], 'Óscar de Marcos Arana': [15, 64], 'Iago Herrerín Buisán': [2, 7], 'Sabin Merino Zuloaga': [4, 13], 'Xabier Etxeita Gorritxategi': [2, 19], 'Iker Muniain Goñi': [15, 49], 'Jefferson Andrés Lerma Solís': [7, 25], 'Zouhair Feddal': [1, 25], 'Víctor Camarasa Ferrando': [7, 33], 'José Luis Morales Nogales': [13, 26], 'Antonio García Aranda': [9, 37], 'Giuseppe Rossi': [20, 49], 'Iván López Mendoza': [12, 29], 'Diego Mariño Villar': [2, 21], 'Deyverson Brum Silva Acosta': [12, 25], 'David Navarro Pedrós': [9, 75], 'Simão Mate': [8, 35], 'Nabil Ghilas': [4, 31], 'Mauricio Andrés Cuero Castillo': [1, 14], 'José María Giménez de Vargas': [2, 29], 'Yannick Ferreira Carrasco': [5, 18], 'Jan Oblak': [1, 26], 'Fernando José Torres Sanz': [24, 50], 'Luciano Vietto': [9, 27], 'Óliver Torres Muñoz': [3, 23], 'Jackson Arley Martínez Valencia': [1, 11], 'José Manuel Pinto Colorado': [33, 324], 'Carlos Alberto Sánchez Moreno': [3, 7], 'Rubén Salvador Pérez Del Mármol': [14, 33], 'Damián Nicolás Suárez Suárez': [2, 14], 'David Rodríguez Lombán': [4, 36], 'Carles Gil de Pareja Vicent': [3, 7], 'Richmond Yiadom Boakye': [1, 7], 'Garry Mendes Rodrigues': [5, 9], 'Alberto Rivera Pizarro': [15, 41], 'Ferrán Corominas Telechea': [15, 58], 'Domingo Cisma González': [9, 43], 'Sergio Pelegrín López': [3, 14], 'Manuel Herrera Yagüe': [0, 7], 'Lucas Pérez Martínez': [24, 40], 'Luis Carlos Correia Pinto': [1, 18], 'Juan Francisco Moreno Fuertes': [9, 46], 'Sidnei Rechel da Silva Júnior': [11, 56], 'Fabricio Martín Agosto Ramírez': [2, 13], 'Haris Medunjanin': [5, 25], 'José Rodríguez Martínez': [2, 13], 'Ivan Ricardo Neves Abreu Cavaleiro': [5, 13], 'Alejandro Bergantiños García': [17, 56], 'José Verdú Nicolás': [1, 6], 'Juan Domínguez Lamas': [8, 38], 'Alberto Lopo García': [9, 90], 'Juan Isaac Cuenca López': [70, 226], 'Markel Susaeta Laskurain': [42, 101], 'Aritz Aduriz Zubeldia': [36, 93], 'Ibai Gómez Pérez': [7, 27], 'Mikel Rico Moreno': [17, 51], 'Carlos Gurpegi Nausia': [12, 64], 'Yuri Berchiche Izeta': [5, 10], 'Pape Cheikh Diop Gueye': [0, 9], 'John Guidetti': [5, 28], 'Claudio Beauvue': [3, 9], 'Gustavo Daniel Cabral Cáceres': [8, 75], 'Nemanja Radoja': [10, 42], 'Daniel Wass': [15, 28], 'Pedro Pablo Hernández': [9, 42], 'Jonathan Castro Otto': [12, 55], 'Hugo Mallo Novegil': [19, 66], 'Sergio Álvarez Conde': [1, 42], 'Carles Planas Antolínez': [2, 28], 'Dejan Dražić': [0, 9], 'Marcelo Alfonso Díaz Rojas': [0, 9], 'Josep Señé Escudero': [2, 9], 'José Ernesto Sosa': [0, 8], 'Santiago Mina Lorenzo': [6, 40], 'Andreu Fontàs Prat': [24, 88], 'Fabián Ariel Orellana Valenzuela': [33, 78], 'Yoel Rodríguez Oterino': [4, 17], 'Augusto Matías Fernández': [26, 64], 'Borja Oubiña Meléndez': [15, 45], 'Mario Bermejo Castanedo': [10, 34], 'Jon Aurtenetxe Borde': [4, 49], 'Lévy Clément Madinda': [1, 20], 'Alejandro López Sánchez': [9, 24], 'Celso Borges Mora': [10, 22], 'Fayçal Fajr': [17, 34], 'Federico Nicolás Cartabia': [8, 29], 'Pedro Mosquera Parada': [9, 31], 'Fernando Navarro i Corbacho': [26, 126], 'Laureano Sanabria Ruiz': [16, 54], 'Rubén Gracia Calmache': [32, 91], 'Jonás Manuel Gutiérrez': [3, 22], 'Manuel Fernández Muñíz': [1, 15], 'Juan Rafael Fuentes Hernández': [4, 19], 'Lucas Vázquez Iglesias': [3, 19], 'Héctor Alfredo Moreno Herrera': [7, 51], 'Cristhian Ricardo Stuani Curbelo': [6, 29], 'Francisco Casilla Cortés': [2, 43], 'Álvaro González Soberón': [5, 26], 'Sergio García De La Fuente': [47, 92], 'Salvador Sevilla López': [11, 31], 'Abraham González Casanova': [4, 21], 'Denis Cheryshev': [7, 27], 'Giovani dos Santos Ramírez': [70, 275], 'Gabriel Armando de Abreu': [1, 14], 'Jaume Vicent Costa Jordá': [1, 16], 'Mateo Pablo Musacchio': [10, 45], 'Javier Espinosa González': [4, 13], 'Jonathan dos Santos Ramírez': [23, 141], 'Christian Fernández Salas': [4, 28], 'Fernando Soriano Marco': [16, 39], 'Hernán Darío Pellerano': [3, 20], 'Nélson Augusto Tomar Marcos': [4, 28], 'Danilo Luiz da Silva': [3, 13], 'Toni Kroos': [19, 47], 'Keylor Navas Gamboa': [3, 32], 'James David Rodríguez Rubio': [15, 27], 'Simão Pedro Fonseca Sabrosa': [31, 77], 'Joan Capdevila Méndez': [18, 65], 'Juan Daniel Forlín': [8, 39], 'Joan Verdú Fernández': [42, 99], 'Juan Ángel Albín Leites': [15, 77], 'Diego Daniel Colotto': [4, 22], 'Christian Alfonso López': [1, 5], 'Miguel Ángel De las Cuevas Barberá': [10, 28], 'Sisinio González Martínez': [12, 36], 'Manuel Jesús Ortiz Toribio': [11, 69], 'Marc Bertrán Vilanova': [4, 33], 'Manuel Onwu Villafranca': [2, 4], 'Manuel Agudo Durán': [32, 94], 'Sergi Gómez Solà': [1, 26], 'Gerard Gumbau Garriga': [0, 25], 'Roger Martí Salvador': [3, 11], 'Víctor Casadesús Castaño': [18, 65], 'Rubén García Santos': [7, 28], 'Juan Francisco García García': [22, 86], 'Pablo Sarabia García': [13, 27], 'Miguel Marcos Madera': [4, 25], 'Jaime Gavilán Martínez': [6, 24], 'Rafael López Gómez': [10, 68], 'Ángel Lafita Castillo': [19, 76], 'Juan Valera Espín': [7, 53], 'Adrián Colunga Pérez': [11, 32], 'Jordi Codina Rodríguez': [2, 39], 'Júlio César Jacobi': [0, 10], 'Jorge Sammir Cruz Campos': [2, 10], 'Sergi Samper Montaña': [2, 12], 'Álvaro Medrán Just': [3, 7], 'Moisés Gómez Bordonado': [4, 16], 'Víctor Rodríguez Romero': [6, 21], 'Wanderson Maciel Sousa Campos': [5, 7], 'Stefan Šćepović': [0, 7], 'Abdoul Karim Yoda': [3, 11], 'Bernard Mensah': [1, 7], 'Álvaro Daniel Pereira Barragán': [0, 7], 'Santiago Vergini': [1, 7], 'Nicolás Hernán Otamendi': [4, 20], 'Shkodran Mustafi': [2, 27], 'Rodrigo Moreno Machado': [15, 27], 'Francisco Alcácer García': [9, 44], 'Daniel Parejo Muñoz': [32, 106], 'José Luis Gayá Peña': [6, 36], 'Antonio Barragán Fernández': [9, 42], 'Javier Fuego Martínez': [20, 89], 'João Pedro Cavaco Cancelo': [0, 16], 'André Filipe Tavares Gomes': [10, 27], 'Sofiane Feghouli': [22, 56], 'Álvaro Negredo Sánchez': [24, 60], 'Diego Alves Carreira': [8, 87], 'Lucas Alfonso Orbán Alegre': [1, 9], 'Aymen Abdennour': [3, 16], 'Enzo Nicolás Pérez': [6, 16], 'Guilherme Magdalena Siqueira': [7, 38], 'Rodrigo Javier de Paul': [5, 20], 'Filipe Augusto Carvalho Souza': [0, 11], 'Zakarya Bergdich': [0, 3], 'Stefan Mitrović': [0, 3], 'Álvaro Rubio Robles': [6, 23], 'Fausto Rossi': [2, 9], 'Valdet Rama': [1, 3], 'Jesús Rueda Ambrosio': [0, 3], 'Carlos González Peña': [1, 3], 'Oriol Romeu Vidal': [1, 8], 'Pablo Daniel Piatti': [13, 66], 'Miguel Alfonso Herrero Javaloyas': [7, 49], 'Juan Bernat Velasco': [4, 23], 'Ricardo Miguel Moreira da Costa': [9, 59], 'Eduardo Jesús Vargas Rojas': [0, 8], 'Matheus Dória Macedo': [0, 13], 'Adalberto Peñaranda Maestre': [3, 13], 'Cristiano Biraghi': [1, 6], 'Uche Henry Agbo': [0, 6], 'Robert Ibáñez Castro': [5, 15], 'Edgar Antonio Méndez Ortega': [3, 18], 'Diego Mainz García': [3, 23], 'Mario Mandžukić': [1, 11], 'Mario Suárez Mata': [6, 39], 'Diego Javier Llorente Ríos': [1, 7], 'Adrián Embarba Blázquez': [8, 18], 'Joaquín José Marín Ruiz': [3, 14], 'Jonhatan Montiel Caballero': [3, 7], 'Antonio Amaya Carazo': [6, 41], 'Asier Illarramendi Andonegi': [15, 55], 'Aritz Elustondo Irribaria': [1, 15], 'Mikel Oyarzabal Ugarte': [7, 15], 'Héctor Hernández Ortega': [1, 15], 'Diego Antonio Reyes Rosales': [0, 5], 'Jorge Franco Alviz': [2, 4], 'Joan Jordán Moreno': [2, 4], 'Tomer Hemed': [7, 20], 'Joaquín Navarro Jiménez': [5, 17], 'Pedro Bigas Rigo': [4, 32], 'Emilio Nsue López': [8, 35], 'Marc Fernández Gràcia': [0, 5], 'Alejandro Alfaro Ligero': [13, 43], 'Pedro Tonon Geromel': [1, 5], 'Jose Luis Martí Soler': [21, 84], 'Dudú Aouate': [5, 84], 'Michaël Pereira': [6, 32], 'Anderson Conceição Benedito': [0, 5], 'David Remeseiro Salgueiro': [1, 4], 'José María Martín-Bejarano Serrano': [0, 4], 'David Barral Torres': [17, 46], 'Kalu Uche': [5, 18], 'Jordi Xumetra Feliu': [3, 7], 'Pedro López Muñoz': [16, 63], 'Andreas Ivanschitz': [5, 17], 'Loukas Vyntra': [3, 14], 'Mohamed Lamine Sissoko Gillan': [0, 8], 'Héctor Rodas Ramírez': [3, 11], 'Jesús Fernández Collado': [0, 8], 'Jonathas Cristian de Jesus': [4, 7], 'Przemysław Tytoń': [1, 7], 'Mario Pašalić': [4, 7], 'Aarón Níguez Esclapez': [1, 5], 'José Eduardo Albácar Gallego': [3, 7], 'Jonathan Rodríguez Menéndez': [1, 6], 'Jorge Meré Pérez': [1, 6], 'Ignacio Cases Mora': [7, 18], 'Alejandro Barrera García': [1, 6], 'Alberto Lora Ramos': [3, 15], 'Jérémy Toulalan': [1, 5], 'Ignacio Monreal Eraso': [9, 48], 'Wilfredo Daniel Caballero': [2, 13], 'Joaquín Sánchez Rodríguez': [19, 52], 'Francisco Portillo Soler': [6, 15], 'Sergio Sánchez Ortega': [6, 34], 'Eliseu Pereira dos Santos': [19, 46], 'Martín Gastón Demichelis': [5, 23], 'Diego Mario Buonanotte Rende': [5, 21], 'Nordin Amrabat': [3, 9], 'Luis Alberto Romero Alconchel': [3, 17], 'Douglas Pereira dos Santos': [6, 20], 'Daniel Pinillos González': [0, 6], 'Borja García Freire': [2, 6], 'Eduard Campabadal Claros': [0, 6], 'José María López de Silva Sánchez': [0, 6], 'Unai López Cabrera': [5, 16], 'Juan Carlos Pérez López': [13, 52], 'Jorge Molina Vidal': [20, 49], 'Dídac Vilá Rosselló': [6, 60], 'José Antonio Caro Martínez': [5, 14], 'Álvaro Vadillo Cifuentes': [12, 41], 'Xavier Torres Buigues': [8, 37], 'Manuel Jesús Vázquez Florido': [2, 14], 'Ignacio Pérez Santamaría': [12, 67], 'José Antonio Delgado Villar': [8, 32], 'Javier Magro Matilla': [3, 22], 'Jordi Figueras Montel': [10, 51], 'Guillermo Sara': [1, 14], 'Markus Steinhöfer': [2, 14], 'Imanol Agirretxe Arruti': [9, 47], 'Armindo Tué Na Bangna': [4, 10], 'Gaël Kakuta': [9, 17], 'Jozabed Sánchez Ruiz': [2, 17], 'Luis Carlos Pereira Carneiro': [1, 17], 'Abdoulaye Ba': [2, 17], 'Emiliano Adrián Insúa Zapata': [7, 29], 'Cristian Darío Álvarez': [2, 28], 'Javier Ignacio Aquino Carmona': [7, 24], 'Álvaro Giménez Candela': [3, 14], 'José Ángel Alonso Martín': [0, 2], 'Miguel Filipe Nunes Cardoso': [5, 12], 'Jonathan Javier Rodríguez Portillo': [3, 12], 'Germán Darío Lux': [2, 12], 'Raúl Rodríguez Navas': [3, 19], 'Borja Fernández Fernández': [12, 48], 'Manuel del Moral Fernández': [39, 112], 'Jaime Jiménez Merlo': [0, 12], 'Charly Musonda Junior': [0, 1], 'Alfred John Momar N\"Diaye': [9, 27], 'Antonio Adán Garrido': [2, 27], 'Daniel Ceballos Fernández': [6, 14], 'Rubén Castro Martín': [21, 57], 'Bruno González Cabrera': [1, 14], 'Germán Alejandro Pezzella': [3, 14], 'Petros Matheus dos Santos Araújo': [4, 14], 'Ricky van Wolfswinkel': [4, 14], 'Heiko Westermann': [1, 14], 'Sami Khedira': [21, 79], 'Iker Casillas Fernández': [9, 156], 'Álvaro Arbeloa Coca': [13, 99], 'Orestis Karnezis': [1, 4], 'Alexandre Coeff': [1, 4], 'Tiago Abiola Delfim Almeida Ilori': [0, 4], 'Yacine Brahimi': [5, 18], 'Christian Daniel Bravo Araneda': [0, 4], 'Jesé Rodríguez Ruiz': [4, 30], 'Lucas Silva Borges': [0, 10], 'Antonio Rodríguez Dovale': [1, 18], 'Jordi Masip López': [1, 13], 'Diogo Ferreira Salomão': [3, 20], 'Roque Mesa Quevedo': [8, 24], 'Nabil El Zhar': [9, 47], 'Willian José da Silva': [10, 15], 'David García Santana': [4, 15], 'Pedro Taunausú Domínguez Placeres': [9, 15], 'Jerónimo Figueroa Cabrera': [12, 23], 'Mauricio Lemos Merladet': [2, 15], 'Sergio Ezequiel Araújo': [6, 24], 'Aythami Artiles Oliva': [8, 41], 'Javier Garrido Behovide': [5, 24], 'Javier Varas Herrera': [6, 57], 'Francisco José Perdomo Borges': [2, 15], 'Rúben Miguel Nunes Vezo': [1, 9], 'Zakaria Bakkali': [3, 9], 'Jaume Doménech Sánchez': [0, 9], 'Danilo Barbosa da Silva': [5, 9], 'Carlos Carbonell Gil': [0, 9], 'Aderllan Leandro de Jesus Santos': [1, 9], 'Francisco José Molinero Calderón': [7, 24], 'Rafael van der Vaart': [11, 37], 'Didier Digard': [2, 13], 'Juan Manuel Vargas Risco': [7, 13], 'Oier Olazábal Paredes': [1, 9], 'Juan Torres Ruiz': [4, 26], 'Jhon Andrés Córdoba Copete': [5, 25], 'Daniel João Santos Candeias': [0, 9], 'Alhassane Bangoura': [16, 60], 'Braian Damián Rodríguez Carballo': [0, 13], 'Lorenzo Enrique Reyes Vicencio': [2, 13], 'Cedric Mabwati Gerard': [3, 13], 'Thomas Teye Partey': [4, 19], 'Wellington Alves da Silva': [5, 12], 'José Manuel Jiménez Ortiz': [12, 65], 'José Manuel Casado Bizcocho': [16, 53], 'Thievy Guivane Bifouma Koulossa': [15, 33], 'Antonio Marín Molina': [2, 6], 'Julián Cuesta Díaz': [1, 6], 'Fernando Damián Tissone': [2, 18], 'Francisco Manuel Vélez Jiménez': [1, 6], 'Eric-Sylvain Bilal Abidal': [423, 1428], 'Fernando Llorente Torres': [24, 84], 'Ander Herrera Agüera': [25, 53], 'Jonás Ramalho Chimeno': [2, 12], 'Andoni Iraola Sagarna': [12, 84], 'Abdoulaye Doucouré': [2, 7], 'Hugo Miguel Almeida Costa Lopes': [1, 7], 'Haris Seferović': [4, 9], 'Liassine Cadamuro-Bentaïba': [5, 25], 'Marco Sangalli Fuentes': [2, 9], 'Javier Ros Añón': [1, 15], 'Daniel Estrada Agirrezablaga': [1, 37], 'Carlos Henrique Casimiro': [6, 10], 'Antonio Rodríguez Martínez': [5, 74], 'Jorge García Morcillo': [1, 10], 'Erik Morán Arribas': [1, 9], 'Gaizka Toquero Pinedo': [6, 48], 'Jesús Gámez Duarte': [9, 41], 'Stefan Savić': [0, 7], 'Ikechukwu Uche': [18, 53], 'Mubarak Wakaso': [7, 12], 'Dani Castellano Betancor': [3, 9], 'David Simón Rodríguez Santana': [3, 9], 'Juan Carlos Valerón Santana': [7, 27], 'Hernán Daniel Santana Trujillo': [2, 9], 'Juan Emmanuel Culio': [2, 9], 'Antolín Alcáraz Viveros': [2, 9], 'Alberto Moreno Pérez': [6, 24], 'Federico Julián Fazio': [6, 49], 'Jairo Samperio Bustara': [4, 22], 'Piotr Trochowski': [7, 40], 'Rafael Márquez Álvarez': [310, 1206], 'Giovanni van Bronckhorst': [93, 429], 'Samuel Eto\"o Fils': [527, 1116], 'Anderson Luís de Souza': [375, 743], 'Juliano Haus Belletti': [50, 294], 'Oleguer Presas Renom': [111, 643], 'Ludovic Giuly': [88, 376], 'Ronaldo de Assis Moreira': [398, 769], 'Ludovic Delporte': [6, 19], 'John Aloisi': [3, 8], 'Ricardo Sanzol Goñi': [0, 6], 'Enrique Corrales Martín': [3, 14], 'Iñaki Muñoz Oroz': [3, 31], 'Mohamed El Yaagoubi': [1, 11], 'José Romero Urtasun': [6, 34], 'César Cruchaga Lasa': [1, 18], 'David López Moreno': [15, 57], 'José Izquierdo Martínez': [2, 11], 'Valmiro Lópes Rocha': [18, 51], 'Pierre Achille Webó Kouamo': [18, 63], 'Sylvio Mendes Campos Junior': [165, 543], 'Paulo César Wanchope Watson': [0, 1], 'Francisco Esteban Granados': [0, 1], 'Carlos Manuel de Oliveira Magalhães': [0, 1], 'Raúl Iznata Zabala': [0, 1], 'Fernando Sanz Durán': [0, 5], 'Juan Jesús Calatayud Sánchez': [2, 15], 'Miguel Ángel Lozano Ayala': [8, 18], 'Márcio Amoroso dos Santos': [1, 1], 'Edgar Patricio De Carvalho Pacheco': [3, 5], 'Juan Jesús Gutiérrez Robles': [7, 31], 'Antonio Manuel Sánchez Gómez': [1, 1], 'Vladimir Manchev': [2, 5], 'Fabio Celestini': [11, 35], 'Juan Manuel Gómez Sánchez': [12, 37], 'Diego Camacho Quesada': [1, 13], 'José Alejandro Suárez Martín': [0, 13], 'Jose Antonio Culebras Arenas': [1, 22], 'Pablo Pinillos Caro': [8, 43], 'Jofre González Mateu': [2, 5], 'Juan Luis Mora Palacios': [0, 5], 'Iñaki Descarga Retegi': [5, 26], 'Felix Dja Ettien Yohou': [7, 19], 'Thiago Motta': [22, 202], 'Agustín García Iñiguez': [0, 3], 'Walter Horacio Peralta Saracho': [0, 3], 'Iván Díaz Ruiz': [0, 8], 'Gaspar Gálvez Burgos': [3, 8], 'Francisco Peña Romero': [10, 33], 'Raúl Valbuena Cano': [0, 3], 'Carles Domingo Pladevall': [0, 3], 'Laurent Viaud': [0, 3], 'Antonio Pacheco D\"Agosti': [7, 8], 'Santiago Denia Sánchez': [1, 3], 'Jaime Sánchez Fernández': [1, 3], 'Francisco Javier Rodríguez Vílchez': [1, 8], 'Mark Dennis González Hoffmann': [12, 28], 'Henrik Larsson': [34, 185], 'Mark van Bommel': [52, 153], 'Agustín Aranzábal Alkorta': [0, 4], 'Diego Alberto Milito': [18, 51], 'Alberto Zapater Arjol': [14, 51], 'Albert Celades López': [8, 46], 'Álvaro Luiz Maior de Aquino': [8, 31], 'Sávio Bortolini Pimentel': [9, 25], 'Ewerthon Henrique de Souza': [17, 34], 'César Sánchez Domínguez': [5, 84], 'Delio Cesar Toledo': [3, 10], 'Gabriel Alejandro Milito': [144, 558], 'Jose María Movilla Cubero': [10, 43], 'Leonardo Daniel Ponzio': [17, 39], 'José Edmílson Gomes de Moraes': [115, 514], 'Savo Milošević': [3, 5], 'Ricardo López Felipe': [2, 45], 'Rafael Clavero Prados': [1, 5], 'Zinédine Zidane': [2, 5], 'Iván Helguera Bujía': [3, 40], 'Miguel Ángel Salgado Fernández': [6, 22], 'Raúl González Blanco': [17, 87], 'David Beckham': [2, 20], 'Júlio César Clement Baptista': [2, 8], 'José Maria Gutiérrez Hernández': [28, 68], 'Roberto Carlos da Silva': [4, 20], 'Ronaldo Luíz Nazário de Lima': [1, 5], 'Róbson de Souza': [18, 49], 'Pablo Gabriel García Pérez': [0, 5], 'Gabriel Francisco García de la Torre': [10, 72], 'Marcos Antonio Senna da Silva': [11, 48], 'Francisco Sebastián Nadal Martorell': [2, 12], 'Roger García Junyent': [1, 6], 'Gonzalo Javier Rodríguez': [4, 38], 'Juan Manuel Peña Montaño': [2, 6], 'Juan Román Riquelme': [3, 6], 'Rodolfo Martín Arruabarrena': [2, 14], 'Mario Sebastián Viera Galain': [0, 18], 'Javier Rodríguez Venta': [8, 32], 'Juan Pablo Sorín': [2, 6], 'José Joaquín Moreno Verdú': [7, 14], 'José María Romero Poyón': [10, 28], 'Luciano Gabriel Figueroa Herrera': [1, 6], 'Jesús Navas González': [38, 95], 'Diego Ángel Capel Trinidad': [14, 54], 'Kepa Blanco Gonzalez': [1, 29], 'Luís Fabiano Clemente': [21, 47], 'Andrés Palop Cervera': [17, 82], 'Aitor Ocio Carrión': [6, 34], 'Ivica Dragutinovic': [16, 49], 'Enzo Maresca': [7, 37], 'David Castedo Escudero': [7, 31], 'Jordi López Felpeto': [8, 15], 'Frédéric Oumar Kanouté': [46, 89], 'Javier Pedro Saviola Fernández': [20, 143], 'Santiago Ezquerro Marín': [10, 70], 'Nenad Mirosavljević': [2, 12], 'Manuel Pérez Rodrigo': [3, 12], 'Fabián Larry Estoyanoff Poggio': [12, 42], 'Mário Fernando Magalhães da Silva': [1, 12], 'Armando Riveiro de Aguilar Malda': [3, 12], 'Jonathan Sesma González': [15, 49], 'Andrés José Fleurquin Rubio': [1, 12], 'Alejandro Varela López': [1, 12], 'Ramón de Quintana Dalmau': [1, 12], 'José Julián De La Cuesta Herrera': [1, 12], 'Matías Nicolás Pavoni': [4, 12], 'Roberto Suárez Álvarez': [1, 12], 'Oliverio Jesús Alvarez González': [4, 12], 'Enrique Fernando Ortiz Moruno': [6, 12], 'David Josué Jiménez Silva': [20, 57], 'Jorge Larena Avellaneda Roig': [0, 14], 'Francisco Javier García Guerrero': [1, 11], 'Sergio Fernández González': [4, 49], 'Matías Emanuel Lequi': [0, 14], 'Diego Rodolfo Placente': [1, 4], 'Iriney Santos Da Silva': [9, 32], 'Néstor Fabián Canobbio Bentaberry': [11, 31], 'Antonio Núñez Tena': [2, 4], 'Ángel Domingo López Ruano': [11, 45], 'João Fernando Nelo': [7, 14], 'Maximiliano Gastón López': [4, 36], 'Anderson Luis de Carvalho': [8, 16], 'Rubén Navarro Méndez': [0, 2], 'Elton Giovanni Machado': [0, 2], 'Franco Costanzo': [1, 2], 'Blagoy Georgiev': [1, 2], 'Alejandro Castro Fernández': [0, 2], 'Eduardo Alonso Álvarez': [2, 2], 'Santiago Carpintero Fernández': [1, 2], 'Josu Sarriegi Zumárraga': [3, 14], 'David Coromina Pararols': [0, 2], 'Rodolfo Bodipo Díaz': [1, 7], 'Miguel Ángel Moyà Rumbo': [5, 40], 'Antoni Lluis Adrover Colom': [0, 13], 'Alejandro Campano Hernando': [0, 4], 'Eduardo Nicolás Tuzzio': [0, 4], 'José Carlos de Araújo Nunes': [7, 58], 'Yoshito Ōkubo': [2, 4], 'David Cortés Caballero': [12, 49], 'Juan Fernando Arango Sáenz': [8, 23], 'Cristiano Doni': [3, 4], 'Francisco Javier Farinós Zapata': [1, 12], 'Eiður Smári Guðjohnsen': [107, 656], 'Gianluca Zambrotta': [143, 565], 'Jonathan Aspas Juncal': [0, 10], 'Jesús Perera López': [1, 10], 'Gustavo Adrián López Pablo': [4, 10], 'Pablo Andrés Contreras Fica': [1, 10], 'George Lucas Coser': [2, 10], 'Lilian Thuram': [68, 367], 'Héctor Font Romero': [2, 22], 'Javad Nekounam': [15, 45], 'Carlos Javier Cuéllar Jiménez': [2, 8], 'Javier Flaño Bezunartea': [2, 8], 'Raúl Albiol Tortajada': [6, 65], 'Emiliano Moretti': [2, 29], 'José Santiago Cañizares Ruíz': [1, 14], 'Luís Miguel Brito Garcia Monteiro': [13, 68], 'Vicente Rodríguez Guillén': [7, 32], 'David Albelda Aliqués': [13, 72], 'Hugo Miguel Ferreira Gomes Viana': [0, 5], 'Miguel Ángel Angulo Valderrey': [4, 16], 'Eduardo César Daude Gaspar': [3, 10], 'Roberto Fabián Ayala': [3, 24], 'Christian Bjørnshøj Poulsen': [14, 38], 'Antonio Puerta Pérez': [7, 21], 'Renato Dirnei Florencio': [12, 57], 'Francisco Javier Vicente Navarro': [2, 9], 'Julien Escudé': [10, 62], 'Fabio Cannavaro': [2, 26], 'Ruud van Nistelrooy': [17, 59], 'Émerson Ferreira da Rosa': [5, 15], 'Mahamadou Diarra': [18, 44], 'Andrés Nicolás D\"Alessandro': [12, 23], 'Carlos Andrés Diogo Enseñat': [21, 59], 'Pablo César Aimar Giordano': [13, 28], 'Ludovic Butelle': [1, 6], 'Carlos Marchena López': [14, 61], 'Fernando Morientes Sánchez': [3, 15], 'Jorge López Montaña': [15, 41], 'Miguel Pallardó González': [3, 27], 'Javier Martínez Aginaga': [20, 70], 'Ismael Urzáiz Aranda': [2, 12], 'Gaizka Bergara Picaza': [0, 6], 'Fernando Amorebieta Mardaras': [7, 57], 'Daniel Aranzubia Aguado': [5, 50], 'Ander Murillo García': [3, 14], 'Unai Expósito Medina': [1, 20], 'Javier Casas Cuevas': [2, 12], 'Igor Gabilondo del Campo': [8, 46], 'Francisco Javier Yeste Navarro': [29, 61], 'Alexander Kerzhakov': [2, 16], 'Gonzalo Gerardo Higuaín': [26, 100], 'Rubén de la Red Gutiérrez': [3, 23], 'Fernando Rubén Gago': [18, 61], 'Carlos Merino González': [3, 10], 'Tobias Grahn': [5, 10], 'Antonio Pinilla Miranda': [5, 10], 'Aníbal Samuel Matellán': [4, 16], 'Rubén Pérez Chueca': [1, 10], 'José María Calvo': [5, 12], 'David Generelo Miranda': [1, 16], 'César González Navas': [6, 29], 'David Cuéllar Tainta': [2, 16], 'Marco Antonio Ortega Cotano': [1, 10], 'Ángel Morales Cuerva': [2, 18], 'Sebastien Chabaud': [5, 10], 'Ismael Marchal Razquín': [4, 10], 'Javier García Portillo': [9, 19], 'Daniel González Güiza': [7, 22], 'Ángel Manuel Vivar Dorado': [11, 26], 'Gheorghe Craioveanu': [1, 11], 'Iván Sánchez Rico Soto': [19, 57], 'David García Cubillo': [2, 6], 'Mariano Andrés Pernía': [9, 23], 'David Belenguer Reverter': [5, 20], 'Luis García Conde': [1, 6], 'Diego Rivas Gutiérrez': [6, 27], 'Mario Gutiérrez Cotelo': [9, 20], 'Rubén Martín Pulido': [5, 21], 'Pedro Manuel Munitis Álvarez': [16, 44], 'Felipe Melo de Carvalho': [4, 14], 'Antonio Tomás González': [8, 31], 'David Aganzo Méndez': [2, 8], 'Juan José Expósito Ruíz': [2, 11], 'Oriol Lozano Farrán': [9, 41], 'Rubén González Rocha': [5, 33], 'Luis Fernández Gutiérrez': [10, 38], 'Víctor Javier Añino Bermúdez': [4, 11], 'Cristian Osvaldo Álvarez': [2, 10], 'Gonzalo Colsa Albendea': [13, 71], 'Nikola Žigić': [6, 20], 'Roberto Luis Gaspar de Deus Severo': [6, 31], 'Laurențiu Dumitru Roșu': [4, 15], 'César Arzo Amposta': [7, 28], 'José Manuel González Ortiz': [1, 13], 'Daniel Bautista Pina': [3, 13], 'Antonio Jesús Vázquez Muñoz': [15, 33], 'Aitor Tornavaca Fernández': [13, 33], 'Javier López Vallejo': [0, 13], 'Rafael Barber Rodríguez': [8, 32], 'Pedro Mario Álvarez Abrante': [6, 41], 'Juan Merino Ruíz ': [5, 13], 'Florent Sinama-Pongolle': [11, 69], 'Julen Guerrero López': [1, 8], 'Joseba Andoni Etxeberria Lizardi': [5, 14], 'Iñaki Lafuente Sancha': [2, 26], 'Luis Prieto Zalbidegoitia': [7, 30], 'Pablo Orbaiz Lesaka': [11, 42], 'Jesús María Lacruz Gómez': [1, 16], 'Ustaritz Aldekoaotalora Astarloa': [5, 42], 'Joseba Garmendia Elorriaga': [6, 28], 'Pablo Javier Zabaleta Girod': [5, 24], 'Luis García Fernández': [20, 58], 'Didier Domi': [1, 7], 'Fredson Câmara Pereira': [3, 7], 'Iván De la Peña López': [12, 25], 'Armando Miguel Correia de Sa': [1, 7], 'Eduardo Nascimento Costa': [2, 7], 'Raúl Tamudo Montero': [26, 84], 'Daniel Jarque Gonzalez': [6, 36], 'Martin Petrov': [5, 28], 'José Antonio García Calvo': [4, 26], 'Pablo Ibáñez Tébar': [9, 57], 'Antonio López Guerrero': [20, 104], 'Leonardo Neoren Franco': [1, 31], 'Luis Amaranto Perea Mosquera': [6, 59], 'Ariel Miguel Santiago Ibagaza': [13, 48], 'Luciano Martín Galletti': [9, 28], 'Peter Luccin': [10, 53], 'Maximiliano Rubén Rodríguez': [32, 87], 'Luis Carlos Cuartero Lafarga': [1, 6], 'Daniel Armand N\"Gom Komé': [7, 35], 'Jaime Asensio De La Fuente': [0, 5], 'Jorge Gonzalez Diaz': [2, 5], 'Francisco Javier Sánchez Broto': [0, 5], 'José Manuel Yanguas Calleja': [0, 5], 'Victoriano Rivas Álvaro': [3, 13], 'José Emilio Amavisca Gárate': [2, 8], 'Alex Fernandez Sanchez': [2, 8], 'Mauricio Roberto Pochettino Trossero': [2, 8], 'Óscar Serrano Rodriguez': [13, 43], 'David García De La Cruz': [0, 15], 'Antonio Álvarez Pérez': [3, 8], 'Hugo Benjamín Ibarra': [3, 8], 'Hoalid Regragui': [0, 1], 'Francisco Javier Casquero Paredes': [15, 82], 'Francisco Borja Enrique Ayesa': [0, 1], 'Ayoze Díaz Díaz': [10, 49], 'José Moratón Taeño': [0, 1], 'Stephane Dalmat': [0, 1], 'Jonatan Soriano Casas': [2, 10], 'Albert Riera Ortega': [6, 25], 'Ángel Martínez Cervera': [9, 29], 'Clemente Juan Rodríguez': [4, 10], 'Moisés Hurtado Pérez': [8, 33], 'Marc Torrejón Moya': [11, 48], 'Gnégnéri Yaya Touré': [256, 799], 'Bojan Krkíc Pérez': [192, 1099], 'Víctor Vázquez Solsona': [0, 10], 'Stefano Sorrentino': [0, 15], 'Silvestre Manuel Gonçalves Varela': [1, 13], 'Marco Gastón Ruben Rodríguez': [15, 43], 'Iago Bouzón Amodeo': [3, 20], 'Javier Camuñas Gallego': [18, 72], 'Carlos Jorge Neto Martins': [10, 19], 'Hipólito Fernández Serrano': [3, 20], 'Eduardo Moya Castillo': [1, 13], 'Enrique Álvarez San Juan': [0, 13], 'Francisco Joaquín Pérez Rufete': [5, 15], 'Francisco Javier Chica Torres': [15, 55], 'Saúl Fernández García': [1, 12], 'José Manuel Serrano Arenas': [0, 7], 'Laurent Courtois': [5, 7], 'Mathieu Berson': [2, 21], 'Vladan Kujović': [1, 7], 'Rahamat Riga Mustapha': [11, 21], 'Alexandre Geijo Pazos': [6, 24], 'Thierry Henry': [318, 894], 'Wesley Sneijder': [11, 24], 'Arjen Robben': [13, 23], 'Iván Gabriel Heinze': [1, 23], 'Óscar Sánchez Fuentes': [1, 13], 'Víctor Manuel Fernández Gutiérrez': [2, 13], 'Bartholomew Ogbeche': [2, 18], 'Alberto López Fernández': [1, 13], 'Alberto Marcos Rey': [3, 30], 'Joseba Llorente Etxarri': [13, 49], 'Santiago Cazorla González': [25, 47], 'Jon Dahl Tomasson': [0, 4], 'Robert Pirès ': [10, 23], 'Matías Ariel Fernández Fernández': [2, 8], 'Pascal Cygan': [1, 12], 'Fabricio Fabio Fuentes': [1, 12], 'Guillermo Luis Franco Farquarson': [4, 11], 'Sergio Leonel Agüero del Castillo': [34, 94], 'José Manuel Jurado Marín': [12, 47], 'Cléber Santana Loureiro': [1, 19], 'Christian Abbiati': [1, 13], 'Diego Forlán Corazo': [28, 80], 'Borja Valero Iglesias': [23, 56], 'Óscar Guido Trejo': [2, 21], 'Angelos Basinas': [4, 19], 'Héctor Berenguel del Piño': [3, 19], 'Fernando Varela Ramos': [11, 38], 'José Martín Cáceres Silva': [33, 171], 'Seydou Kéita': [337, 1439], 'Raúl Miguel Cámara': [1, 8], 'Jorge García Torre': [1, 3], 'Mate Bilić': [8, 24], 'Carmelo José González Jiménez': [5, 19], 'Andreu Guerao Mayoral': [2, 3], 'Francisco José Maldonado Collantes': [3, 3], 'Rafael Sastre Reus': [0, 15], 'Sergio Sánchez Sánchez': [0, 3], 'Gerard Autet Serrabasa': [1, 8], 'Diego Castro Giménez': [12, 43], 'Enrique Mateo Montoya': [2, 8], 'Sergio Matabuena Delgado': [0, 12], 'Román Fernando Martínez': [2, 8], 'Iván Daniel Alonso Vallejo': [11, 30], 'Juan Manuel Mata García': [19, 51], 'Rubén Baraja Vegas': [3, 37], 'Timo Hildebrand': [1, 5], 'Marco Antonio Simoes Caneira': [2, 5], 'Albert Luque Martos': [5, 16], 'Hélder Miguel Do Rosario Data': [1, 13], 'Iñaki Goitia Peña': [0, 9], 'Ibán Javier Cuadrado Alonso': [1, 12], 'Manuel Gaspar Haro': [5, 16], 'Antonio Galdeano Benítez': [8, 25], 'Salvador Ballesta Vialcho': [6, 21], 'Fernando Miguel Fernández Escribano': [7, 24], 'Adriano Ferreira Martins': [0, 9], 'Jesús María Herrero Gómez': [1, 5], 'Ricardo de Oliveira': [12, 24], 'Francisco Pavón Barahona': [2, 11], 'Matuzalém Francelino da Silva': [1, 5], 'Nuno Ricardo de Oliveira Ribeiro': [7, 44], 'Giorgios Seitaridis': [6, 24], 'Luis Javier García Sanz': [1, 21], 'Fabiano Eler dos Santos': [3, 24], 'Ángel Montoro Sánchez': [5, 9], 'Ángel Javier Arizmendi de Lucas': [20, 60], 'Aliaksandr Hleb': [18, 195], 'Carlos Bellvís LLorens': [4, 21], 'José Javier Barkero Saludes': [10, 23], 'Juan Pablo Colinas Ferreras': [2, 17], 'César Palacios Chocarro': [0, 8], 'Juan Ramón Cabrero Obrer': [0, 8], 'Mario Martínez Rubio': [3, 6], 'Gorka Brit Gallego': [1, 8], 'Juan Carlos Moreno Rodríguez': [1, 6], 'Sergio Boris González Monteagudo': [0, 8], 'Domingo Nagore Arbizu': [4, 8], 'Felipe Guréndez Aldanondo': [0, 6], 'Javier Del Pino González': [2, 8], 'Álvaro Antón Camarero': [1, 6], 'Khalid Boulahrouz': [1, 4], 'Pablo Hernández Domínguez': [30, 64], 'Manuel Henrique Tavares Fernandes': [3, 16], 'Hedwiges Maduro': [8, 45], 'Renan Brito Soares': [2, 18], 'Asier del Horno Cosgaya': [3, 8], 'Marco Storari': [0, 6], 'Christian Riganò': [2, 6], 'Bruno Cirillo': [1, 6], 'Emilio José Viqueira Moure': [2, 6], 'Sergio Rodríguez García': [4, 32], 'Ronald Louis Gaspercic': [0, 5], 'Óscar Montiel Marín': [1, 5], 'Pablo Redondo Martínez': [2, 5], 'David Sánchez Rodríguez': [1, 5], 'Gustavo Lionel Siviero': [1, 5], 'Mikel Aguirregomezkorta Larrea': [0, 5], 'Ezequiel Marcelo Garay': [5, 29], 'Lionel Sebastián Scaloni': [0, 3], 'Javier Ángel Balboa Osa': [1, 3], 'Marcos García Barreno': [5, 20], 'Alessio Tacchinardi': [0, 8], 'José Enrique de la Sánchez Diaz': [3, 8], 'José Francisco Molina Jiménez ': [2, 8], 'Gustavo Enrique Reggi': [3, 8], 'Sylvain N\"Diayé': [0, 8], 'Luis Manuel Rubiales Béjar': [1, 8], 'Narcisse-Olivier Kapo Obou': [2, 8], 'Damiano Tommasi': [1, 8], 'Cosmin Marius Contra': [5, 12], 'Maris Verpakovskis': [3, 9], 'Valentín Sergio Pachón Mosquero': [2, 9], 'Roberto Carlos Abbondanzieri': [2, 21], 'Javier Paredes Arango': [12, 36], 'Bruno Saltor Grau': [12, 37], 'Aitor López Rekarte': [1, 15], 'José Ortiz Bernal': [2, 20], 'Santiago Wilmer Acasiete Ariadela': [5, 22], 'Albert Crusat Domene': [6, 24], 'David Cobeño Iglesias': [2, 24], 'Carlos García Badías': [4, 19], 'Juan Manuel Ortiz Palazón': [7, 40], 'Boško Janković': [0, 3], 'Sergio Martínez Ballesteros': [1, 28], 'Guillermo Ariel Pereyra': [0, 3], 'Darko Kovačević': [3, 9], 'Íñigo Díaz de Cerio Conejero': [2, 9], 'Víctor Rubén López': [2, 9], 'Gaizka Garitano Aguirre': [2, 9], 'Mikel Aranburu Eizagirre': [5, 32], 'Johann Vogel': [0, 4], 'David Odonkor': [0, 4], 'Juan Gutiérrez Moreno': [4, 34], 'Branko Ilič': [2, 16], 'Rafael Augusto Sóbis do Nascimento': [2, 4], 'Robert de Pinho de Souza': [2, 14], 'Marcos dos Santos Assunção': [2, 4], 'Pedro Gonzalez Contreras Cano': [1, 4], 'Juan Alberto Andreu Alvarado': [5, 20], 'Jesús Capitán Prada': [7, 12], 'José Isidoro Gómez Torres': [6, 17], 'Luís Eduardo Schmidt': [8, 20], 'Anderson Silva de França': [0, 4], 'Richard Javier Morales Aguirre': [0, 4], 'Vicente Valcarce Cano': [2, 4], 'Francesc Arnau': [1, 8], 'Pablo González Couñago': [0, 4], 'Gerardo García León': [2, 4], 'Antonio Hidalgo Morilla': [0, 4], 'Jônatas Domingos': [2, 8], 'Ricardo Alexandre Martins Soares Pereira': [2, 12], 'Arturo García Muñoz': [7, 24], 'Juan de Dios Prados López': [2, 20], 'Hugo Mariano Pavone': [3, 6], 'Leandro Daniel Somoza': [3, 6], 'Willian Lanes Lanes de Lima': [0, 12], 'Marko Babić': [1, 6], 'Ion Vélez Martínez': [1, 6], 'Roberto Martínez Rípodas': [2, 6], 'Koikili Lertxundi Del Campo': [10, 50], 'José Andrés Guardado Hernández': [17, 56], 'Francisco Jiménez Tejada': [6, 18], 'Sergio González Soriano': [10, 49], 'Fabricio Coloccini': [6, 39], 'Manuel Pablo García Díaz': [4, 27], 'Cristian Hidalgo González': [12, 44], 'Julián de Guzmán': [4, 24], 'Sebastián Taborda Ramos': [1, 9], 'Adrián López Rodríguez': [2, 14], 'Gustavo Adolfo Munúa Vera': [2, 41], 'Christian Koffi Romaric N\"Dri': [8, 25], 'Sébastien Squillaci': [4, 16], 'Aquivaldo Mosquera Romaña': [1, 9], 'Tom De Mul': [1, 9], 'Diego Tardelli Martins': [2, 10], 'Antonio Baltasar Doblas Santana': [3, 18], 'Daniel Martín Alexandre': [4, 10], 'Oscar López Hernández': [1, 10], 'Pablo Álvarez Nuñez': [0, 23], 'Fabio Coltorti': [1, 13], 'Aldo Pedro Duscher': [10, 26], 'Mohamed Gasana Tchité': [6, 25], 'Iván Bolado Palacios': [4, 21], 'Juan Manuel Delgado Moreno': [1, 16], 'Jorge Manuel Almeida Gomes de Andrade': [3, 14], 'Miguel Ángel Ferrer Martínez': [3, 21], 'Daniel Alberto Díaz': [10, 79], 'Lucas Matías Licht': [4, 12], 'Francisco David Sousa Franquelo': [3, 12], 'Gustavo Nery De Sá Da Silva': [1, 12], 'Ebi Smolarek': [1, 12], 'Aitor Ramos Leniz': [3, 16], 'José Zahinos': [0, 2], 'Johnny Heitinga': [4, 25], 'Tomáš Ujfaluši': [10, 64], 'Paulo Assunção da Silva': [12, 67], 'José Manuel Rueda Sampedro': [2, 15], 'Rafael Romero Serrano': [1, 15], 'Alberto García Cabrera': [3, 14], 'Abel Gómez Moreno': [1, 20], 'Rosinei Adolfo': [3, 14], 'Ricardo Pérez de Zabalza Goytre': [4, 14], 'Daniel Aquino Pintos': [5, 14], 'Stéphane Jean François Pignol': [2, 14], 'David Gutiérrez de Coz': [2, 14], 'Enrique de Lucas Martínez': [5, 28], 'Álvaro Mejía Pérez': [4, 14], 'Juan Cruz Ochoa López': [4, 14], 'Alejandro Marañón Pérez': [3, 14], 'Íñigo Vélez De Mendizábal Fernández De García': [3, 14], 'Jaroslav Plašil': [4, 12], 'César Azpilicueta Tanco': [4, 22], 'Francisco Javier García Fernández': [2, 18], 'Miguel Flaño Bezunartea': [11, 59], 'Walter Gerardo Pandiani Urquiza': [7, 34], 'Martín Mauricio Astudillo': [3, 7], 'Enrique Sola Clemente': [8, 18], 'Juan Quero Barraso': [0, 2], 'Carlos Reina Aranda': [12, 34], 'Dimas Delgado Morgado': [0, 2], 'Sergio Ortega González': [1, 2], 'Asier Goiria Etxebarria': [0, 2], 'Marco Aurélio Brito Dos Prazeres': [1, 14], 'Luciano Fabián Monzón': [3, 14], 'Fernando Vega Torres': [1, 14], 'Achille Emaná Edzimbi': [5, 14], 'Casto Espinosa Barriga': [3, 21], 'Ivan Marcano Sierra': [2, 15], 'Jonathan Pereira Rodríguez': [11, 19], 'László Sepsi': [0, 11], 'Antonio Moral Segura': [4, 10], 'Zlatan Ibrahimović': [144, 338], 'Dmytro Chygrynskiy': [17, 141], 'Nivaldo Batista Santana': [1, 10], 'Vítor Hugo Gomes Passos': [6, 17], 'Justo Wilmar Villar Viveros': [0, 10], 'Carlos Lázaro Vallejo': [3, 10], 'José María Callejón Bueno': [8, 43], 'Grégory Coupet': [0, 5], 'Maxwell Scherrer Cabelino Andrade': [207, 678], 'Ben Sahar': [0, 8], 'Pablo Daniel Osvaldo': [11, 19], 'Jeffren Isaac Suárez Bermúdez': [28, 231], 'Matías Gustavo Alustiza': [0, 8], 'Vicente Moreno Peris': [0, 8], 'Carlos Calvo Sobrado': [4, 14], 'Leandro Andrés Gioda': [3, 14], 'David Prieto Gálvez': [0, 8], 'Francisco Jesús Pérez Malia': [7, 34], 'Sidi Yaya Keita': [1, 14], 'Jorge Miguel Dias Gonçalves': [0, 1], 'Nihat Kahveci': [3, 11], 'Sebastián Eguren Ledesma': [3, 11], 'Juliano Roberto Antonello': [0, 4], 'Ángel Luis Rodríguez Díaz': [3, 33], 'Juan Francisco Martínez Modesto': [17, 43], 'Telmário de Araújo Sacramento': [1, 13], 'Ricardo León Brito': [4, 13], 'Sergio Aragoneses Almeida': [0, 17], 'Ayoze García Pérez': [2, 18], 'Mikel Alonso Olano': [7, 17], 'Pablo Sicilia Roig': [1, 17], 'Ezequiel Luna': [2, 17], 'Juan Luis Hens Lorite': [4, 17], 'Luis Morán Sánchez': [4, 9], 'Cristian Portilla Rodríguez': [0, 4], 'Alberto Botía Rabasco': [4, 29], 'Grégory Arnolin': [0, 4], 'Iván Santiago Pérez Maceira': [0, 5], 'Lassad Hassen Nouioui': [0, 5], 'Alain Nef': [2, 6], 'Ersen Martin': [0, 6], 'Kanga Gauthier Akalé': [2, 11], 'Mogammat Nasief Morris': [6, 16], 'Sebastián Ricardo Nayar': [4, 6], 'Andrés Lamas Bervejillo': [2, 6], 'Vladimir Stojković': [0, 3], 'Eugen Polanski': [0, 3], 'Ángel Dealbert Ibáñez': [4, 26], 'Alejandro Damián Domínguez': [18, 40], 'Christoph Metzelder': [3, 11], 'Royston Ricky Drenthe': [3, 13], 'Miguel Palanca Fernández': [1, 6], 'Henok Goitom': [8, 26], 'Modeste M\"bami': [3, 16], 'Guilherme Oliveira Santos': [2, 12], 'Hernán Darío Bernardello': [8, 20], 'José Manuel Flores Moreno': [5, 20], 'Roberto Jiménez Gago': [4, 44], 'Jermaine Pennant': [0, 16], 'Matteo Contini': [4, 15], 'Jirí Jarošík': [2, 18], 'Humberto Andrés Suazo Pontivo': [1, 10], 'Pedro Ríos Maestre': [6, 59], 'Óscar Alfredo Ustari': [1, 15], 'Masoud Shojaei Soleimani': [5, 22], 'Krisztián Vadócz': [6, 19], 'Iván Hernández Soto': [2, 17], 'Natalio Lorenzo Poquet': [2, 4], 'Julio Álvarez Mosquera': [5, 13], 'Henrique Adriano Buss': [4, 25], 'Luis Manuel Villa López': [0, 4], 'Manuel Jesús Arana Rodríguez': [6, 29], 'Ibrahim Afellay': [35, 203], 'Jordi Amat Maas': [5, 42], 'Álvaro García Vázquez': [7, 42], 'Ernesto Galán Iñigo': [3, 6], 'Isaías Sánchez Cortés': [1, 6], 'Raúl Rodríguez Navarro': [13, 35], 'Javier Calleja Revilla': [1, 18], 'Nabil Baha': [4, 11], 'Jonathan de Guzmán': [6, 18], 'Martí Crespí Pascual': [2, 13], 'Kevin Martín García Martínez': [1, 10], 'Edson Ramos de Silva': [1, 10], 'João Victor de Albuquerque Bruno': [5, 21], 'Fernando Ezequiel Cavenaghi': [1, 10], 'David de Gea Quintana': [0, 26], 'Ibrahima Baldé': [2, 25], 'Álvaro Domínguez Soto': [1, 18], 'Fernando Martín Forestieri': [0, 7], 'Daniel Toribio Gutiérrez': [1, 4], 'Eduardo Ramos Gómez': [0, 4], 'Victor Obinna Nsofor': [4, 7], 'Manuel Torres Caturla': [1, 7], 'Milan Stepanov': [0, 4], 'Marius Stankevičius': [5, 19], 'Alain Didier Zokora-Déguy': [4, 21], 'Abdoulay Konko': [6, 15], 'Nicolás Ladislao Fedor Flores': [16, 54], 'Héctor Sánchez Cabrera': [0, 4], 'Manuel Martínez Lara': [1, 4], 'Sergio Gontán Gallardo': [0, 7], 'Nauzet Alemán Viera': [1, 7], 'Jacobo Sanz Ovejero': [0, 7], 'José Carlos Fernández Vázquez': [10, 38], 'Arouna Koné': [8, 14], 'David Fuster Torrijos': [0, 7], 'Nilmar Honorato da Silva': [9, 24], 'Mesut Özil': [17, 45], 'Ricardo Alberto Silveira de Carvalho': [2, 12], 'Emmanuel Adebayor': [1, 9], 'Diego Ifrán Sala': [2, 25], 'Vadim Demidov': [4, 20], 'Ignacio Javier Gómez Novo': [2, 7], 'André de Castro Pereira': [4, 12], 'Lassana Diarra': [10, 35], 'Klaas-Jan Huntelaar': [0, 5], 'Alhassane Keita': [1, 18], 'José Miguel González Rey': [2, 9], 'Abel Enrique Aguilar Tapia': [7, 30], 'Steve Franck Songo\"o': [0, 6], 'Juan Pablo Carrizo': [0, 6], 'Pablo Amo Aguado': [0, 6], 'Míchel Macedo Rocha Machado': [5, 13], 'Miguel Ángel Nieto de la Calle': [0, 1], 'Jorge Galán Anaut': [0, 10], 'Roberto López Esquiroz': [0, 10], 'Ricardo Izecson dos Santos Leite': [11, 45], 'Ivan Obradović': [4, 17], 'Saïd Boutahar': [0, 5], 'Marco Jhonnier Pérez Murillo': [0, 5], 'Maurizio Lanzaro': [2, 20], 'Braulio Nóbrega Rodríguez': [2, 5], 'MacDonald Mariga Wanyama': [2, 8], 'Antonio Ramiro Pérez': [2, 6], 'Cristian Eduardo Zapata Valencia': [0, 3], 'Joan Oriol i Gràcia': [2, 8], 'Pablo César Pintos Cabral': [1, 11], 'David Timor Copoví': [1, 30], 'Gorka Larrea García': [0, 6], 'Damián Ariel Escudero': [2, 7], 'Iñaki Bea Jauregi': [0, 5], 'Marcos Sebastián Aguirre': [2, 7], 'Jonas Gonçalves Oliveira': [8, 55], 'Alberto Facundo Costa ': [17, 41], 'Jesús Alberto Dátolo': [0, 5], 'Francisco Mérida Pérez': [0, 8], 'Elias Mendes Trindade': [0, 8], 'José Salomón Rondón Giménez': [6, 18], 'Quincy Owusu-Abeyie': [0, 3], 'Patrick Jan Mtiliga': [0, 3], 'Knut Olav Rindarøy': [0, 5], 'Yves Hadley Desmarets': [0, 5], 'Sergio Tejera Rodríguez': [1, 8], 'Akihiro Ienaga': [1, 8], 'Pablo Cendrós López': [1, 11], 'Alexandros Tziolis': [3, 12], 'Ariel Gerardo Nahuelpán Osten': [3, 16], 'Kennedy Bakircioglu': [5, 16], 'Francisco Femenía Far': [4, 11], 'David Sergio Trézéguet': [6, 11], 'Jorge López Marco': [2, 11], 'Sendoa Aguirre Basterretxea': [2, 7], 'Noé Elias Pamarot': [0, 7], 'Nelson Antonio Haedo Valdez': [6, 19], 'Abraham Paz Cruz': [1, 7], 'Tiago Filipe Figueiras Gomes': [3, 7], 'Matías Lionel Fritzler': [2, 11], 'Antonio Manuel Luna Rodríguez': [1, 23], 'Diego Perotti': [7, 24], 'Mouhamadou Dabo': [0, 3], 'Gary Alexis Medel Soto': [11, 39], 'Bernardo José Espinosa Zúñiga': [0, 4], 'Mamadou Koné': [2, 3], 'Eduardo Bedia Peláez': [0, 3], 'Markus Rosenberg': [3, 7], 'Julián Luque Conde': [0, 7], 'Mohamed Adama Sarr': [0, 4], 'Radamel Falcao García Zárate': [18, 37], 'Eduardo Antonio Salvio': [1, 18], 'Diego Ribas da Cunha': [3, 6], 'Felipe Mattioni Rohde': [5, 9], 'Ádám Pintér': [6, 21], 'Guirane N\"Daw': [1, 3], 'Paulo César Da Silva Barrios': [1, 12], 'Nicolás Santiago Bertolo': [1, 3], 'Jeffrey Sarpong': [0, 2], 'Adrián Sardinero Corpa': [0, 8], 'José Manuel Catalá Mazuecos': [1, 6], 'Marcelo Andrés Silva Fernández': [0, 3], 'Fabián Andrés Vargas Rivera': [3, 9], 'Dejan Lekić': [4, 11], 'Jefferson Antonio Montero Vite': [7, 21], 'Vladimír Weiss': [7, 21], 'Gianni Michel Eugene Zuiverloon': [1, 3], 'Yohan Mollo': [0, 2], 'Jaime Romero Gómez': [2, 9], 'Daniel González Benítez': [1, 6], 'José Antonio Dorado Ramírez': [2, 22], 'Alejandro Pozuelo Melero': [3, 14], 'Paulo Afonso Santos Júnior': [1, 5], 'Philippe Coutinho Correia': [2, 8], 'Rui Pedro da Rocha Fonte': [0, 8], 'Cristian Gómez García': [3, 8], 'Khouma El Hadji Babacar': [0, 1], 'Mario Fernández Cuesta': [0, 1], 'Marcos Gullón Ferrera': [1, 1], 'Iñigo Pérez Soto': [0, 8], 'Fábio Alexandre da Silva Coentrão': [3, 35], 'Pablo Domingo Cáceres Rodríguez': [1, 9], 'Emir Spahić': [2, 17], 'Mehmet Topal': [0, 3], 'José Ángel Gómez Campaña': [1, 5], 'Rúben Micael Freitas da Ressurreição': [6, 12], 'Efraín Juárez Váldez': [0, 3], 'Hélder Manuel Marques Postiga': [8, 35], 'Fernando José da Silva Freitas Meira': [0, 3], 'Pablo Edson Barrera Acosta': [0, 3], 'David Mateos Ramajo': [0, 3], 'Rafael García García': [3, 9], 'Mikel Labaka Zurriarain': [0, 9], 'Miguel Ángel Sánchez Muñoz': [2, 9], 'Pedro Roberto Silva Botelho': [3, 14], 'Miguel Pérez Cuesta': [6, 18], 'Rubén Suárez Estrada': [1, 9], 'Joris Mathijsen': [0, 6], 'Sebastián Bruno Fernández Miglierina': [2, 15], 'Jukka Raitala': [3, 14], 'Sílvio Manuel Azevedo Ferreira Sá Pereira': [0, 15], 'José Luis Moreno Barroso': [1, 5], 'Gonzalo Pablo Castellani': [0, 5], 'Marc Muniesa Martínez': [0, 14], 'Abdelaziz Barrada': [7, 14], 'Tsepo Peter Masilela': [1, 3], 'Franco Zuculini': [3, 18], 'Pablo Sebastián Valeira Álvarez': [1, 9], 'Roland Conde Lamah': [8, 19], 'Rovérsio Rodrigues de Barros': [1, 7], 'Juan Luis Gómez López': [2, 15], 'Abdelkader Mohamed Ghezzal': [1, 5], 'Jorge Pulido Mayoral': [1, 9], 'Pape Maly Diamanka': [2, 9], 'Diego Benito Rey': [1, 9], 'Aitor Núñez Martín': [2, 9], 'Odion Jude Ighalo': [3, 11], 'Franco Daniel Jara': [0, 4], 'Borja Gómez Pérez': [1, 11], 'Danijel Pranjić': [1, 7], 'Chu-Young Park': [2, 14], 'Ignacio Insa Bohigues': [1, 7], 'Fernando Macedo Da Silva Rodilla': [1, 3], 'Edinaldo Gomes Pereira': [0, 4], 'Gabriel Andrei Torje': [9, 22], 'Antonio Floro Flores': [2, 7], 'Geoffrey Kondogbia': [5, 13], 'Michael Essien': [3, 10], 'Borja Viguera Manzanares': [0, 4], 'Alex Sandro Mendonça Dos Santos': [1, 7], 'Franco Damián Vázquez': [1, 18], 'Nicki Niels Bille Nielsen': [2, 18], 'Andrija Delibašić': [6, 33], 'Issam El Adoua': [0, 9], 'Sérgio da Silva Pinto': [0, 9], 'Christian Lell': [1, 10], 'Obafemi Akinwunmi Martins': [4, 10], 'Adrián San Miguel del Castillo': [0, 14], 'Joel Nathaniel Campbell Samuels': [3, 14], 'Alejandro Martínez Sánchez': [2, 5], 'Dorlan Mauricio Pabón Ríos': [9, 19], 'Emmanuel Nosakhare Igiebor': [3, 5], 'João Pedro da Silva Pereira': [10, 37], 'Aly Cissokho': [5, 23], 'David López Silva': [6, 16], 'Manuel Lanzarote Bruno': [2, 8], 'Jean Marie Dongou Tsafack': [0, 14], 'Nikolaos Karabelas': [1, 6], 'Jérémy Perbet': [0, 7], 'Bojan Jokić': [1, 7], 'Vitorino Gabriel Pacheco Antunes': [0, 2], 'Bartlomiej Pawłowski': [1, 2], 'Pedro Andrés Morales Flores': [0, 2], 'Flávio Nunes Ferreira': [0, 2], 'Pablo Javier Pérez': [0, 2], 'Marko Marin': [1, 7], 'Bryan Martín Rabello Mella': [2, 7], 'Alejandro Gálvez Jimena': [1, 26], 'José Ignacio Martínez García': [3, 11], 'Alberto Perea Correoso': [2, 11], 'Bruno Alexandre Vilela Gama': [2, 13], 'Luís Miguel Afonso Fernandes': [11, 21], 'Nélson Miguel Castro Oliveira': [3, 13], 'Pablo Ínsua Blanco': [1, 3], 'Alejandro Fernández Iglesias': [1, 8], 'Isaac Gómez Sánchez': [0, 15], 'Jonathan Vila Pereira': [0, 7], 'Andrés José Túñez Arceo': [1, 7], 'Stefan Babović': [1, 9], 'Lucas Antonio Wílchez': [2, 9], 'Raúl Goni Bayo': [3, 9]}"
     ]
    },
    {
     "name": "stdout",
     "output_type": "stream",
     "text": [
      "\n"
     ]
    }
   ],
   "source": [
    "print(total_contributions)"
   ]
  },
  {
   "cell_type": "markdown",
   "metadata": {},
   "source": [
    "# Convert to CSV"
   ]
  },
  {
   "cell_type": "code",
   "execution_count": 42,
   "metadata": {},
   "outputs": [],
   "source": [
    "df = pd.DataFrame.from_dict(ordered_rates, orient='index')\n",
    "df.to_csv('Womens_World_Cup.csv')"
   ]
  },
  {
   "cell_type": "code",
   "execution_count": null,
   "metadata": {},
   "outputs": [],
   "source": []
  }
 ],
 "metadata": {
  "kernelspec": {
   "display_name": "Python 3",
   "language": "python",
   "name": "python3"
  },
  "language_info": {
   "codemirror_mode": {
    "name": "ipython",
    "version": 3
   },
   "file_extension": ".py",
   "mimetype": "text/x-python",
   "name": "python",
   "nbconvert_exporter": "python",
   "pygments_lexer": "ipython3",
   "version": "3.7.1"
  }
 },
 "nbformat": 4,
 "nbformat_minor": 2
}
