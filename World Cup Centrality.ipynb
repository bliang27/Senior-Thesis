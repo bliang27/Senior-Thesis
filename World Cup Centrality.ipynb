{
 "cells": [
  {
   "cell_type": "markdown",
   "metadata": {},
   "source": [
    "# Load Data"
   ]
  },
  {
   "cell_type": "code",
   "execution_count": 1,
   "metadata": {},
   "outputs": [],
   "source": [
    "%load_ext autoreload\n",
    "%autoreload 2\n",
    "import os; import sys; sys.path.append('../')\n",
    "import pandas as pd\n",
    "import tqdm\n",
    "import warnings\n",
    "import copy\n",
    "warnings.simplefilter(action='ignore', category=pd.errors.PerformanceWarning)\n",
    "\n",
    "import networkx as nx\n",
    "import numpy as np\n",
    "from collections import Counter\n",
    "from collections import OrderedDict\n",
    "import matplotlib.pyplot as plt"
   ]
  },
  {
   "cell_type": "code",
   "execution_count": 2,
   "metadata": {},
   "outputs": [],
   "source": [
    "## Configure file and folder names\n",
    "datafolder = \"../data\"\n",
    "spadl_h5 = os.path.join(datafolder,\"spadl-statsbomb.h5\")\n",
    "predictions_h5 = os.path.join(datafolder,\"predictions.h5\")"
   ]
  },
  {
   "cell_type": "code",
   "execution_count": 3,
   "metadata": {},
   "outputs": [
    {
     "name": "stdout",
     "output_type": "stream",
     "text": [
      "nb of games: 64\n"
     ]
    }
   ],
   "source": [
    "games = pd.read_hdf(spadl_h5,\"games\")\n",
    "games = games[games.competition_name == \"FIFA World Cup\"]\n",
    "print(\"nb of games:\", len(games))"
   ]
  },
  {
   "cell_type": "markdown",
   "metadata": {},
   "source": [
    "# Helper Functions"
   ]
  },
  {
   "cell_type": "code",
   "execution_count": 4,
   "metadata": {},
   "outputs": [],
   "source": [
    "def change_possession(action, action_team, possession_team, result):\n",
    "    end_pos = ['bad_touch', 'foul']\n",
    "    change_team = ['pass', 'dribble', 'throw_in', 'corner_crossed', 'freekick_crossed', 'cross', 'shot', \n",
    "                  'freekick_short', 'goalkick', 'corner_short', 'shot_penalty', 'keeper_pick_up']\n",
    "    success_change = ['tackle', 'interception', 'take_on', 'clearance', 'keeper_claim', 'keeper_save', \n",
    "                      'keeper_punch']\n",
    "    \n",
    "    if possession_team == None:\n",
    "        if result == 'success':\n",
    "            if action in change_team:\n",
    "                possession_team = action_team\n",
    "        else:\n",
    "            return False, None\n",
    "    \n",
    "    \n",
    "    if action in end_pos:\n",
    "        return True, None\n",
    "    \n",
    "    if action_team != possession_team:\n",
    "        if action in change_team:\n",
    "            return True, action_team\n",
    "        if result == 'success':\n",
    "            if action in success_change:\n",
    "                return True, action_team\n",
    "            \n",
    "    return False, possession_team"
   ]
  },
  {
   "cell_type": "code",
   "execution_count": 5,
   "metadata": {},
   "outputs": [],
   "source": [
    "def extract_possessions(actions):\n",
    "    all_possessions = []\n",
    "    curr_possession = []\n",
    "    team1 = []\n",
    "    team2 = []\n",
    "    \n",
    "    possessing_team = actions.loc[0][\"team_name\"]\n",
    "    team1_name = actions.loc[0][\"team_name\"]\n",
    "    \n",
    "    for i in range(len(actions)):\n",
    "        # Extract possession\n",
    "        action = actions.loc[i][\"type_name\"]\n",
    "        action_team = actions.loc[i][\"team_name\"]\n",
    "        \n",
    "        if action_team != team1_name:\n",
    "            team2_name = action_team\n",
    "        \n",
    "        result = actions.loc[i][\"result_name\"]\n",
    "        end_pos, possessing_team = change_possession(action, action_team, possessing_team, result)\n",
    "        \n",
    "        if end_pos:\n",
    "            all_possessions.append(copy.deepcopy(curr_possession))\n",
    "            curr_possession = []\n",
    "\n",
    "        curr_possession.append(actions.loc[i])\n",
    "        \n",
    "        # Identify players\n",
    "        if (len(team1) == 14 and len(team2) == 14):\n",
    "            continue\n",
    "        \n",
    "        player = actions.loc[i][\"player_name\"]\n",
    "        if action_team == team1_name:\n",
    "            if player not in team1:\n",
    "                team1.append(player)\n",
    "        else:\n",
    "            if player not in team2:\n",
    "                team2.append(player)\n",
    "\n",
    "    return all_possessions, team1, team2, team1_name, team2_name"
   ]
  },
  {
   "cell_type": "code",
   "execution_count": 6,
   "metadata": {},
   "outputs": [],
   "source": [
    "def pos_pass_list(pos):\n",
    "    edges = []\n",
    "    pass_action = ['pass', 'throw_in', 'corner_crossed', 'freekick_crossed', 'cross', \n",
    "                  'freekick_short', 'goalkick', 'corner_short']\n",
    "    mult = 1\n",
    "    \n",
    "    for i in range(len(pos)):\n",
    "        action = pos[i]\n",
    "          \n",
    "        if action[\"type_name\"] == 'shot' and mult < 2:\n",
    "            mult = 1.5 \n",
    "        \n",
    "        if action[\"type_name\"] == 'shot' and action['result_name'] == 'success':\n",
    "            mult = 2\n",
    "            \n",
    "        if action[\"type_name\"] in pass_action:\n",
    "            if action[\"result_name\"] == 'success':\n",
    "                passer = action[\"player_name\"]\n",
    "                team = action[\"team_name\"]\n",
    "                j = 1\n",
    "                while i+j < len(pos) and (pos[i+j][\"team_name\"] != team):\n",
    "                    j += 1\n",
    "                try:\n",
    "                    passer = action[\"player_name\"]\n",
    "                    receiver = pos[i+j][\"player_name\"]\n",
    "                    edges.append((passer, receiver))\n",
    "                except:\n",
    "                    continue\n",
    "                \n",
    "    return edges, mult"
   ]
  },
  {
   "cell_type": "code",
   "execution_count": 7,
   "metadata": {},
   "outputs": [],
   "source": [
    "def create_graph(passes):\n",
    "    G = nx.DiGraph((x, y, {'weight': v}) for (x, y), v in Counter(passes).items())\n",
    "    return G"
   ]
  },
  {
   "cell_type": "code",
   "execution_count": 9,
   "metadata": {},
   "outputs": [],
   "source": [
    "def get_metrics(G):\n",
    "    \n",
    "    metrics = []\n",
    "    metrics.append(nx.degree_centrality(G))\n",
    "    metrics.append(nx.closeness_centrality(G))\n",
    "    metrics.append(nx.betweenness_centrality(G))\n",
    "    metrics.append(nx.load_centrality(G))\n",
    "    metrics.append(nx.harmonic_centrality(G))\n",
    "        \n",
    "    return metrics"
   ]
  },
  {
   "cell_type": "code",
   "execution_count": 10,
   "metadata": {},
   "outputs": [],
   "source": [
    "def weighted_average(weights, x):\n",
    "    total = 0\n",
    "    for i in range(len(x)):\n",
    "        total += weights[i] * x[i]\n",
    "        \n",
    "    return total / sum(weights)"
   ]
  },
  {
   "cell_type": "code",
   "execution_count": 45,
   "metadata": {},
   "outputs": [],
   "source": [
    "def compute_average(player_metrics):\n",
    "    average = {}\n",
    "    \n",
    "    for player in player_metrics:\n",
    "        if len(player_metrics[player][0]) < 100:\n",
    "            continue\n",
    "        \n",
    "        weights = player_metrics[player][0]\n",
    "        \n",
    "        average[player] = []\n",
    "        for i in range(1, len(player_metrics[player])):\n",
    "            average[player].append(weighted_average(weights, player_metrics[player][i]))\n",
    "    \n",
    "    return average"
   ]
  },
  {
   "cell_type": "code",
   "execution_count": 22,
   "metadata": {},
   "outputs": [],
   "source": [
    "def world_cup_team_placements():\n",
    "    placements = {}\n",
    "    placements['France'] = 1.5\n",
    "    placements['Croatia'] = 1.5\n",
    "    placements['Belgium'] = 3.5\n",
    "    placements['England'] = 3.5\n",
    "    placements['Uruguay'] = 6.5\n",
    "    placements['Brazil'] = 6.5\n",
    "    placements['Russia'] = 6.5\n",
    "    placements['Sweden'] = 6.5\n",
    "    placements['Portugal'] = 12.5\n",
    "    placements['Argentina'] = 12.5\n",
    "    placements['Mexico'] = 12.5\n",
    "    placements['Japan'] = 12.5\n",
    "    placements['Spain'] = 12.5\n",
    "    placements['Denmark'] = 12.5\n",
    "    placements['Switzerland'] = 12.5\n",
    "    placements['Colombia'] = 12.5\n",
    "    placements['Saudi Arabia'] = 24.5\n",
    "    placements['Iran'] = 24.5\n",
    "    placements['Peru'] = 24.5\n",
    "    placements['Nigeria'] = 24.5\n",
    "    placements['Serbia'] = 24.5\n",
    "    placements['South Korea'] = 24.5\n",
    "    placements['Tunisia'] = 24.5\n",
    "    placements['Senegal'] = 24.5\n",
    "    placements['Egypt'] = 24.5\n",
    "    placements['Morocco'] = 24.5\n",
    "    placements['Australia'] = 24.5\n",
    "    placements['Iceland'] = 24.5\n",
    "    placements['Costa Rica'] = 24.5\n",
    "    placements['Germany'] = 24.5\n",
    "    placements['Panama'] = 24.5\n",
    "    placements['Poland'] = 24.5\n",
    "    \n",
    "    return placements"
   ]
  },
  {
   "cell_type": "markdown",
   "metadata": {},
   "source": [
    "# Compute Network Metrics"
   ]
  },
  {
   "cell_type": "code",
   "execution_count": 12,
   "metadata": {},
   "outputs": [],
   "source": [
    "players = pd.read_hdf(spadl_h5,\"players\")\n",
    "teams = pd.read_hdf(spadl_h5,\"teams\")\n",
    "actiontypes = pd.read_hdf(spadl_h5, \"actiontypes\")\n",
    "bodyparts = pd.read_hdf(spadl_h5, \"bodyparts\")\n",
    "results = pd.read_hdf(spadl_h5, \"results\")"
   ]
  },
  {
   "cell_type": "code",
   "execution_count": 20,
   "metadata": {},
   "outputs": [
    {
     "name": "stderr",
     "output_type": "stream",
     "text": [
      "100%|██████████████████████████████████████████████████████████████████████████████████████████████████████████████████████████████████████████████████████████████████████████████████████████| 64/64 [01:40<00:00,  1.73s/it]\n"
     ]
    }
   ],
   "source": [
    "pos_metrics = {}\n",
    "roster = {}\n",
    "\n",
    "for game in tqdm.tqdm(list(games.itertuples())):\n",
    "    actions = pd.read_hdf(spadl_h5,f\"actions/game_{game.game_id}\")\n",
    "    actions = (\n",
    "        actions.merge(actiontypes)\n",
    "        .merge(results)\n",
    "        .merge(bodyparts)\n",
    "        .merge(players,\"left\",on=\"player_id\")\n",
    "        .merge(teams,\"left\",on=\"team_id\")\n",
    "        .sort_values([\"period_id\", \"time_seconds\", \"timestamp\"])\n",
    "        .reset_index(drop=True)\n",
    "    )\n",
    "    \n",
    "    possessions, team1, team2, team1_name, team2_name = extract_possessions(actions)\n",
    "    \n",
    "    for player in team1:\n",
    "        if player not in roster:\n",
    "            roster[player] = team1_name\n",
    "    for player in team2:\n",
    "        if player not in roster:\n",
    "            roster[player] = team2_name\n",
    "    \n",
    "    for pos in possessions:\n",
    "        passes, mult = pos_pass_list(pos)\n",
    "        \n",
    "        if len(passes) < 3:\n",
    "            continue\n",
    "        \n",
    "        G = create_graph(passes)\n",
    "        \n",
    "        metrics = get_metrics(G)\n",
    "        \n",
    "        for player in metrics[0]:\n",
    "            if player in pos_metrics:\n",
    "                pos_metrics[player][0].append(mult)\n",
    "                for i in range(len(metrics)):\n",
    "                    pos_metrics[player][i+1].append(metrics[i][player]) \n",
    "            else:\n",
    "                pos_metrics[player] = []\n",
    "                pos_metrics[player].append([mult])\n",
    "                for i in range(len(metrics)):\n",
    "                    pos_metrics[player].append([metrics[i][player]]) "
   ]
  },
  {
   "cell_type": "code",
   "execution_count": 51,
   "metadata": {},
   "outputs": [],
   "source": [
    "player_avg = compute_average(pos_metrics)\n",
    "placements = world_cup_team_placements()"
   ]
  },
  {
   "cell_type": "markdown",
   "metadata": {},
   "source": [
    "# Degree Centrality"
   ]
  },
  {
   "cell_type": "code",
   "execution_count": 52,
   "metadata": {},
   "outputs": [
    {
     "name": "stdout",
     "output_type": "stream",
     "text": [
      "Salman Mohammed Al Faraj (Saudi Arabia) : 0.6713413900913903\n",
      "Simon Thorup Kjær (Denmark) : 0.6538847117794485\n",
      "Granit Xhaka (Switzerland) : 0.6474925392500326\n",
      "Abdullah Ibrahim Otayf (Saudi Arabia) : 0.6455301587301587\n",
      "Marcelo Brozović (Croatia) : 0.6274988421540149\n",
      "Éver Maximiliano David Banega (Argentina) : 0.6235810485810485\n",
      "Javier Alejandro Mascherano (Argentina) : 0.6235062032475828\n",
      "Toby Alderweireld (Belgium) : 0.622043279928794\n",
      "Manuel Obafemi Akanji (Switzerland) : 0.6200191570881228\n",
      "Vincent Kompany (Belgium) : 0.610767871625536\n",
      "Toni Kroos (Germany) : 0.6084645152826972\n",
      "Kyle Walker (England) : 0.6054269752593775\n",
      "William Silva de Carvalho (Portugal) : 0.604338125187182\n",
      "Andrés Iniesta Luján (Spain) : 0.6027696793002919\n",
      "John Stones (England) : 0.6017425810904078\n",
      "Luka Modrić (Croatia) : 0.5917154740684155\n",
      "Carlos Joel Salcedo Hernández (Mexico) : 0.5910275319567353\n",
      "Sergio Ramos García (Spain) : 0.5908143842833355\n",
      "Matías Vecino Falero (Uruguay) : 0.5874650734201298\n",
      "Philippe Coutinho Correia (Brazil) : 0.5854857819905216\n",
      "Héctor Miguel Herrera López (Mexico) : 0.5842305730859948\n",
      "Benjamin Pavard (France) : 0.5788050856307434\n",
      "Raphaël Adelino José Guerreiro (Portugal) : 0.5729813664596274\n",
      "Rodrigo Bentancur Colmán (Uruguay) : 0.5632389162561576\n",
      "Davinson Sánchez Mina (Colombia) : 0.5561349578955211\n",
      "Paul Pogba (France) : 0.5430265339966832\n",
      "Marcelo Vieira da Silva Júnior (Brazil) : 0.535208428419291\n",
      "Joshua Kimmich (Germany) : 0.5340234102026555\n",
      "Gaku Shibasaki (Japan) : 0.527186725604447\n",
      "Maya Yoshida (Japan) : 0.5174486461251167\n",
      "Juan Guillermo Cuadrado Bello (Colombia) : 0.5145652958152958\n",
      "Roman Zobnin (Russia) : 0.47532367785824015\n"
     ]
    }
   ],
   "source": [
    "count_teams = {}\n",
    "for team in placements:\n",
    "    count_teams[team] = 2\n",
    "\n",
    "ordered_players = OrderedDict(sorted(player_avg.items(), key=lambda x: x[1][0], reverse=True))\n",
    "for player in ordered_players:\n",
    "    team = roster[player]\n",
    "    if count_teams[team] > 0:\n",
    "        print(player + \" (\" + team + \") : \" + str(ordered_players[player][0]))\n",
    "        count_teams[team] -= 1"
   ]
  },
  {
   "cell_type": "markdown",
   "metadata": {},
   "source": [
    "# Closeness Centrality"
   ]
  },
  {
   "cell_type": "code",
   "execution_count": 53,
   "metadata": {},
   "outputs": [
    {
     "name": "stdout",
     "output_type": "stream",
     "text": [
      "Andrés Iniesta Luján (Spain) : 0.4519586166204719\n",
      "Salman Mohammed Al Faraj (Saudi Arabia) : 0.44574903484255746\n",
      "Francisco Román Alarcón Suárez (Spain) : 0.4370359318044097\n",
      "Éver Maximiliano David Banega (Argentina) : 0.4320219273351625\n",
      "Eden Hazard (Belgium) : 0.42918521219449246\n",
      "Xherdan Shaqiri (Switzerland) : 0.4244970136476023\n",
      "Abdullah Ibrahim Otayf (Saudi Arabia) : 0.4225309966240616\n",
      "Neymar da Silva Santos Junior (Brazil) : 0.41725902550559896\n",
      "Vincent Kompany (Belgium) : 0.41111692594408855\n",
      "Granit Xhaka (Switzerland) : 0.4103903992318051\n",
      "Simon Thorup Kjær (Denmark) : 0.40931906825383996\n",
      "Philippe Coutinho Correia (Brazil) : 0.4084422758545679\n",
      "Toni Kroos (Germany) : 0.40073750445926054\n",
      "Lionel Andrés Messi Cuccittini (Argentina) : 0.40023746181855796\n",
      "Jesse Lingard (England) : 0.39561635599466427\n",
      "Matías Vecino Falero (Uruguay) : 0.39532643365875214\n",
      "Kyle Walker (England) : 0.3945035846256702\n",
      "Marcelo Brozović (Croatia) : 0.3944165011721003\n",
      "Rodrigo Bentancur Colmán (Uruguay) : 0.39343942914414787\n",
      "Raphaël Adelino José Guerreiro (Portugal) : 0.3931061638275639\n",
      "William Silva de Carvalho (Portugal) : 0.3923835415465857\n",
      "Paul Pogba (France) : 0.3921930874864382\n",
      "Antoine Griezmann (France) : 0.39149176794282087\n",
      "Joshua Kimmich (Germany) : 0.3897907333479108\n",
      "Héctor Miguel Herrera López (Mexico) : 0.38829975678571454\n",
      "Juan Guillermo Cuadrado Bello (Colombia) : 0.3879770010538109\n",
      "Ivan Rakitić (Croatia) : 0.38729258651206644\n",
      "Gaku Shibasaki (Japan) : 0.3738154648748425\n",
      "Carlos Joel Salcedo Hernández (Mexico) : 0.3703502123293565\n",
      "Maya Yoshida (Japan) : 0.3590625554810037\n",
      "Davinson Sánchez Mina (Colombia) : 0.3548946294683539\n",
      "Roman Zobnin (Russia) : 0.32281159298604983\n"
     ]
    }
   ],
   "source": [
    "count_teams = {}\n",
    "for team in placements:\n",
    "    count_teams[team] = 2\n",
    "\n",
    "ordered_players = OrderedDict(sorted(player_avg.items(), key=lambda x: x[1][1], reverse=True))\n",
    "for player in ordered_players:\n",
    "    team = roster[player]\n",
    "    if count_teams[team] > 0:\n",
    "        print(player + \" (\" + team + \") : \" + str(ordered_players[player][1]))\n",
    "        count_teams[team] -= 1"
   ]
  },
  {
   "cell_type": "markdown",
   "metadata": {},
   "source": [
    "# Betweenness Centrality"
   ]
  },
  {
   "cell_type": "code",
   "execution_count": 57,
   "metadata": {},
   "outputs": [
    {
     "name": "stdout",
     "output_type": "stream",
     "text": [
      "Vincent Kompany (Belgium) : 0.28916985285598423\n",
      "John Stones (England) : 0.28307324016563135\n",
      "Carlos Joel Salcedo Hernández (Mexico) : 0.2812947745469868\n",
      "Sergio Ramos García (Spain) : 0.2782908749985836\n",
      "Marcelo Brozović (Croatia) : 0.2777698833733317\n",
      "Javier Alejandro Mascherano (Argentina) : 0.27743036550507805\n",
      "Granit Xhaka (Switzerland) : 0.2754015108919742\n",
      "Simon Thorup Kjær (Denmark) : 0.27155214424951263\n",
      "Kyle Walker (England) : 0.2700903017942124\n",
      "William Silva de Carvalho (Portugal) : 0.2684865728261955\n",
      "Salman Mohammed Al Faraj (Saudi Arabia) : 0.2642300986050986\n",
      "Toni Kroos (Germany) : 0.26407782733540325\n",
      "Rodrigo Bentancur Colmán (Uruguay) : 0.2619475232621784\n",
      "Toby Alderweireld (Belgium) : 0.26192268703950944\n",
      "Éver Maximiliano David Banega (Argentina) : 0.2603277674706246\n",
      "João Miranda de Souza Filho (Brazil) : 0.2583520646020645\n",
      "Davinson Sánchez Mina (Colombia) : 0.25145999453511186\n",
      "N\"Golo Kanté (France) : 0.24732484948002195\n",
      "Raphaël Varane (France) : 0.24518295006522145\n",
      "Abdullah Ibrahim Otayf (Saudi Arabia) : 0.24380317460317466\n",
      "Manuel Obafemi Akanji (Switzerland) : 0.2433093869731801\n",
      "Maya Yoshida (Japan) : 0.24141938025210083\n",
      "Philippe Coutinho Correia (Brazil) : 0.23857528398405176\n",
      "Jorge Resurrección Merodio (Spain) : 0.23682011569138436\n",
      "Dejan Lovren (Croatia) : 0.23564814814814808\n",
      "Diego Roberto Godín Leal (Uruguay) : 0.2302579365079365\n",
      "Gaku Shibasaki (Japan) : 0.2295819101198848\n",
      "Héctor Miguel Herrera López (Mexico) : 0.22656339644291446\n",
      "Juan Guillermo Cuadrado Bello (Colombia) : 0.20935064935064931\n",
      "Raphaël Adelino José Guerreiro (Portugal) : 0.18071240353849047\n",
      "Joshua Kimmich (Germany) : 0.16851498286246713\n",
      "Roman Zobnin (Russia) : 0.16575323677858234\n"
     ]
    }
   ],
   "source": [
    "count_teams = {}\n",
    "for team in placements:\n",
    "    count_teams[team] = 2\n",
    "\n",
    "ordered_players = OrderedDict(sorted(player_avg.items(), key=lambda x: x[1][2], reverse=True))\n",
    "for player in ordered_players:\n",
    "    team = roster[player]\n",
    "    if count_teams[team] > 0:\n",
    "        print(player + \" (\" + team + \") : \" + str(ordered_players[player][2]))\n",
    "        count_teams[team] -= 1"
   ]
  },
  {
   "cell_type": "markdown",
   "metadata": {},
   "source": [
    "# Load Centrality"
   ]
  },
  {
   "cell_type": "code",
   "execution_count": 55,
   "metadata": {},
   "outputs": [
    {
     "name": "stdout",
     "output_type": "stream",
     "text": [
      "Vincent Kompany (Belgium) : 0.2891855424245935\n",
      "John Stones (England) : 0.28304736024844707\n",
      "Carlos Joel Salcedo Hernández (Mexico) : 0.2813474504846185\n",
      "Sergio Ramos García (Spain) : 0.2782816695557595\n",
      "Marcelo Brozović (Croatia) : 0.2777698833733317\n",
      "Javier Alejandro Mascherano (Argentina) : 0.2773828528857264\n",
      "Granit Xhaka (Switzerland) : 0.2753323097328548\n",
      "Simon Thorup Kjær (Denmark) : 0.2714303118908382\n",
      "Kyle Walker (England) : 0.2701161656468919\n",
      "William Silva de Carvalho (Portugal) : 0.2685002994908655\n",
      "Salman Mohammed Al Faraj (Saudi Arabia) : 0.2642300986050986\n",
      "Toni Kroos (Germany) : 0.264109256344105\n",
      "Rodrigo Bentancur Colmán (Uruguay) : 0.26197745621236995\n",
      "Toby Alderweireld (Belgium) : 0.26192964075557534\n",
      "Éver Maximiliano David Banega (Argentina) : 0.2604866694152408\n",
      "João Miranda de Souza Filho (Brazil) : 0.25839299589299586\n",
      "Davinson Sánchez Mina (Colombia) : 0.2514817298854857\n",
      "N\"Golo Kanté (France) : 0.24734853269336035\n",
      "Raphaël Varane (France) : 0.24508475135206428\n",
      "Abdullah Ibrahim Otayf (Saudi Arabia) : 0.24377142857142864\n",
      "Manuel Obafemi Akanji (Switzerland) : 0.2433148604269294\n",
      "Maya Yoshida (Japan) : 0.24138655462184874\n",
      "Philippe Coutinho Correia (Brazil) : 0.2384915933197924\n",
      "Jorge Resurrección Merodio (Spain) : 0.2368773691068467\n",
      "Dejan Lovren (Croatia) : 0.23564814814814808\n",
      "Diego Roberto Godín Leal (Uruguay) : 0.23023687855645403\n",
      "Gaku Shibasaki (Japan) : 0.22960702565132943\n",
      "Héctor Miguel Herrera López (Mexico) : 0.22660323835022625\n",
      "Juan Guillermo Cuadrado Bello (Colombia) : 0.20922438672438667\n",
      "Raphaël Adelino José Guerreiro (Portugal) : 0.18071240353849047\n",
      "Joshua Kimmich (Germany) : 0.16847473877741173\n",
      "Roman Zobnin (Russia) : 0.16584924292297556\n"
     ]
    }
   ],
   "source": [
    "count_teams = {}\n",
    "for team in placements:\n",
    "    count_teams[team] = 2\n",
    "\n",
    "ordered_players = OrderedDict(sorted(player_avg.items(), key=lambda x: x[1][3], reverse=True))\n",
    "for player in ordered_players:\n",
    "    team = roster[player]\n",
    "    if count_teams[team] > 0:\n",
    "        print(player + \" (\" + team + \") : \" + str(ordered_players[player][3]))\n",
    "        count_teams[team] -= 1"
   ]
  },
  {
   "cell_type": "markdown",
   "metadata": {},
   "source": [
    "# Harmonic Centrality"
   ]
  },
  {
   "cell_type": "code",
   "execution_count": 56,
   "metadata": {},
   "outputs": [
    {
     "name": "stdout",
     "output_type": "stream",
     "text": [
      "Jorge Resurrección Merodio (Spain) : 3.079237739872068\n",
      "Francisco Román Alarcón Suárez (Spain) : 3.067658310681568\n",
      "Vincent Kompany (Belgium) : 2.688946819603754\n",
      "John Stones (England) : 2.5676138716356114\n",
      "Nacer Chadli (Belgium) : 2.5328936078936084\n",
      "Rodrigo Bentancur Colmán (Uruguay) : 2.505172413793104\n",
      "Éver Maximiliano David Banega (Argentina) : 2.469624819624819\n",
      "Lionel Andrés Messi Cuccittini (Argentina) : 2.4688380281690137\n",
      "Gaku Shibasaki (Japan) : 2.4571830419931677\n",
      "Kyle Walker (England) : 2.448975791433891\n",
      "Marcelo Vieira da Silva Júnior (Brazil) : 2.4189943709113035\n",
      "Maya Yoshida (Japan) : 2.407396708683474\n",
      "Manuel Obafemi Akanji (Switzerland) : 2.407068965517241\n",
      "Xherdan Shaqiri (Switzerland) : 2.386700537955768\n",
      "Abdullah Ibrahim Otayf (Saudi Arabia) : 2.377533333333333\n",
      "Salman Mohammed Al Faraj (Saudi Arabia) : 2.375631313131314\n",
      "Neymar da Silva Santos Junior (Brazil) : 2.374613170205109\n",
      "William Silva de Carvalho (Portugal) : 2.3518328840970355\n",
      "Joshua Kimmich (Germany) : 2.3337601078167127\n",
      "Toni Kroos (Germany) : 2.327364554637281\n",
      "Kylian Mbappé Lottin (France) : 2.305124288709194\n",
      "Simon Thorup Kjær (Denmark) : 2.276608187134503\n",
      "Raphaël Adelino José Guerreiro (Portugal) : 2.2760210803689063\n",
      "Diego Roberto Godín Leal (Uruguay) : 2.272495507637017\n",
      "Juan Guillermo Cuadrado Bello (Colombia) : 2.244772727272728\n",
      "Antoine Griezmann (France) : 2.241878214700515\n",
      "Ivan Perišić (Croatia) : 2.2336888227513234\n",
      "Carlos Joel Salcedo Hernández (Mexico) : 2.2088600927096507\n",
      "Dejan Lovren (Croatia) : 2.1295723762141665\n",
      "Héctor Miguel Herrera López (Mexico) : 2.091566265060241\n",
      "Davinson Sánchez Mina (Colombia) : 1.9690699754080039\n",
      "Roman Zobnin (Russia) : 1.5701228878648235\n"
     ]
    }
   ],
   "source": [
    "count_teams = {}\n",
    "for team in placements:\n",
    "    count_teams[team] = 2\n",
    "\n",
    "ordered_players = OrderedDict(sorted(player_avg.items(), key=lambda x: x[1][4], reverse=True))\n",
    "for player in ordered_players:\n",
    "    team = roster[player]\n",
    "    if count_teams[team] > 0:\n",
    "        print(player + \" (\" + team + \") : \" + str(ordered_players[player][4]))\n",
    "        count_teams[team] -= 1"
   ]
  },
  {
   "cell_type": "code",
   "execution_count": null,
   "metadata": {},
   "outputs": [],
   "source": []
  }
 ],
 "metadata": {
  "kernelspec": {
   "display_name": "Python 3",
   "language": "python",
   "name": "python3"
  },
  "language_info": {
   "codemirror_mode": {
    "name": "ipython",
    "version": 3
   },
   "file_extension": ".py",
   "mimetype": "text/x-python",
   "name": "python",
   "nbconvert_exporter": "python",
   "pygments_lexer": "ipython3",
   "version": "3.7.1"
  }
 },
 "nbformat": 4,
 "nbformat_minor": 2
}
