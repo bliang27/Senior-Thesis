{
 "cells": [
  {
   "cell_type": "markdown",
   "metadata": {},
   "source": [
    "# Load Data"
   ]
  },
  {
   "cell_type": "code",
   "execution_count": 3,
   "metadata": {},
   "outputs": [
    {
     "name": "stdout",
     "output_type": "stream",
     "text": [
      "The autoreload extension is already loaded. To reload it, use:\n",
      "  %reload_ext autoreload\n"
     ]
    }
   ],
   "source": [
    "%load_ext autoreload\n",
    "%autoreload 2\n",
    "import os; import sys; sys.path.append('../')\n",
    "import pandas as pd\n",
    "import tqdm\n",
    "import warnings\n",
    "import copy\n",
    "warnings.simplefilter(action='ignore', category=pd.errors.PerformanceWarning)\n",
    "\n",
    "import networkx as nx\n",
    "import numpy as np\n",
    "from collections import Counter\n",
    "from collections import OrderedDict\n",
    "import matplotlib.pyplot as plt\n",
    "import csv"
   ]
  },
  {
   "cell_type": "code",
   "execution_count": 4,
   "metadata": {},
   "outputs": [],
   "source": [
    "## Configure file and folder names\n",
    "datafolder = \"../data\"\n",
    "spadl_h5 = os.path.join(datafolder,\"spadl-statsbomb.h5\")\n",
    "predictions_h5 = os.path.join(datafolder,\"predictions.h5\")"
   ]
  },
  {
   "cell_type": "code",
   "execution_count": 5,
   "metadata": {},
   "outputs": [
    {
     "name": "stdout",
     "output_type": "stream",
     "text": [
      "nb of games: 348\n"
     ]
    }
   ],
   "source": [
    "games = pd.read_hdf(spadl_h5,\"games\")\n",
    "games = games[games.competition_name == \"La Liga\"]\n",
    "print(\"nb of games:\", len(games))"
   ]
  },
  {
   "cell_type": "markdown",
   "metadata": {},
   "source": [
    "# Helper Functions"
   ]
  },
  {
   "cell_type": "code",
   "execution_count": 6,
   "metadata": {},
   "outputs": [],
   "source": [
    "def teams_in_game(actions):\n",
    "    team1 = actions.loc[0][\"team_name\"]\n",
    "    for i in range(1, len(actions)):\n",
    "        team2 = actions.loc[i][\"team_name\"]\n",
    "        if (team2 != team1):\n",
    "            return team1, team2"
   ]
  },
  {
   "cell_type": "code",
   "execution_count": 7,
   "metadata": {},
   "outputs": [],
   "source": [
    "def game_pass_list(actions, team1):\n",
    "    edges1 = []\n",
    "    edges2 = []\n",
    "    pass_action = ['pass', 'throw_in', 'corner_crossed', 'freekick_crossed', 'cross', \n",
    "                  'freekick_short', 'goalkick', 'corner_short']\n",
    "    \n",
    "    for i in range(len(actions)):\n",
    "        action = actions.loc[i][\"type_name\"]\n",
    "          \n",
    "        if action in pass_action:\n",
    "            if actions.loc[i][\"result_name\"] == 'success':\n",
    "                passer = actions.loc[i][\"player_name\"]\n",
    "                team = actions.loc[i][\"team_name\"]\n",
    "                j = 1\n",
    "                while i+j < len(actions) and (actions.loc[i+j][\"team_name\"] != team):\n",
    "                    j += 1\n",
    "                try:\n",
    "                    passer = actions.loc[i][\"player_name\"]\n",
    "                    receiver = actions.loc[i+j][\"player_name\"]\n",
    "                    if team == team1:\n",
    "                        edges1.append((passer, receiver))\n",
    "                    else:\n",
    "                        edges2.append((passer, receiver))\n",
    "                except:\n",
    "                    continue\n",
    "                \n",
    "    return edges1, edges2"
   ]
  },
  {
   "cell_type": "code",
   "execution_count": 8,
   "metadata": {},
   "outputs": [],
   "source": [
    "def create_graph(passes):\n",
    "    G = nx.DiGraph((x, y, {'weight': v}) for (x, y), v in Counter(passes).items())\n",
    "    return G"
   ]
  },
  {
   "cell_type": "code",
   "execution_count": 9,
   "metadata": {},
   "outputs": [],
   "source": [
    "def get_total_links(G):\n",
    "    DV = G.degree(weight='weight')\n",
    "    return sum(deg for n, deg in DV)/2"
   ]
  },
  {
   "cell_type": "code",
   "execution_count": 10,
   "metadata": {},
   "outputs": [],
   "source": [
    "def get_metrics(G):\n",
    "    total_links = get_total_links(G)\n",
    "    density = nx.density(G)\n",
    "    diameter = nx.diameter(G.to_undirected())\n",
    "    average_clustering = nx.average_clustering(G)\n",
    "    \n",
    "    return total_links, density, diameter, average_clustering"
   ]
  },
  {
   "cell_type": "code",
   "execution_count": 11,
   "metadata": {},
   "outputs": [],
   "source": [
    "def compute_average(team_props):\n",
    "    average = {}\n",
    "    \n",
    "    for team in team_props.keys():\n",
    "        average[team] = [np.mean(team_props[team][0]), np.mean(team_props[team][1]), \n",
    "                         np.mean(team_props[team][2]), np.mean(team_props[team][3])]\n",
    "    \n",
    "    return average"
   ]
  },
  {
   "cell_type": "code",
   "execution_count": 12,
   "metadata": {},
   "outputs": [
    {
     "data": {
      "text/plain": [
       "{'Barcelona': 1.416666667,\n",
       " 'Las Palmas': 11.0,\n",
       " 'Rayo Vallecano': 12.8,\n",
       " 'Real Madrid': 1.833333333,\n",
       " 'Real Murcia': 19.0,\n",
       " 'Valencia': 5.666666667,\n",
       " 'Celta Vigo': 10.66666667,\n",
       " 'Villarreal': 6.090909091,\n",
       " 'Sevilla': 5.666666667,\n",
       " 'Atlético Madrid': 5.5,\n",
       " 'Real Betis': 12.66666667,\n",
       " 'Athletic Bilbao': 9.583333333,\n",
       " 'Getafe': 12.91666667,\n",
       " 'Real Valladolid': 16.2,\n",
       " 'Deportivo La Coruna': 12.5,\n",
       " 'Real Zaragoza': 13.75,\n",
       " 'Recreativo Huelva': 14.66666667,\n",
       " 'Mallorca': 11.77777778,\n",
       " 'Deportivo Alavés': 18.0,\n",
       " 'Gimnàstic Tarragona': 20.0,\n",
       " 'Real Sociedad': 11.77777778,\n",
       " 'Elche': 14.5,\n",
       " 'Cádiz': 19.0,\n",
       " 'Eibar': 15.0,\n",
       " 'Albacete': 20.0,\n",
       " 'Espanyol': 11.33333333,\n",
       " 'Almería': 14.66666667,\n",
       " 'Málaga': 10.2,\n",
       " 'Racing Santander': 13.625,\n",
       " 'Hércules': 19.0,\n",
       " 'Córdoba': 20.0,\n",
       " 'Granada': 16.2,\n",
       " 'Osasuna': 12.6,\n",
       " 'Levante': 14.11111111,\n",
       " 'Tenerife': 19.0,\n",
       " 'Xerez': 20.0,\n",
       " 'Sporting Gijón': 15.4,\n",
       " 'Numancia': 19.0}"
      ]
     },
     "execution_count": 12,
     "metadata": {},
     "output_type": "execute_result"
    }
   ],
   "source": [
    "def la_liga_team_placements():\n",
    "    placements = {}\n",
    "    \n",
    "    with open('./Contributions/La_Liga_Standings.csv', newline='', encoding='utf-8') as f:\n",
    "        reader = csv.reader(f)\n",
    "        for row in reader:\n",
    "            if row[-1] != \"Average\":\n",
    "                placements[row[0]] = float(row[-1])\n",
    "                \n",
    "    return placements\n",
    "    \n",
    "la_liga_team_placements()"
   ]
  },
  {
   "cell_type": "markdown",
   "metadata": {},
   "source": [
    "# Compute Network Metrics"
   ]
  },
  {
   "cell_type": "code",
   "execution_count": 13,
   "metadata": {},
   "outputs": [],
   "source": [
    "players = pd.read_hdf(spadl_h5,\"players\")\n",
    "teams = pd.read_hdf(spadl_h5,\"teams\")\n",
    "actiontypes = pd.read_hdf(spadl_h5, \"actiontypes\")\n",
    "bodyparts = pd.read_hdf(spadl_h5, \"bodyparts\")\n",
    "results = pd.read_hdf(spadl_h5, \"results\")"
   ]
  },
  {
   "cell_type": "code",
   "execution_count": 14,
   "metadata": {},
   "outputs": [
    {
     "name": "stderr",
     "output_type": "stream",
     "text": [
      "100%|████████████████████████████████████████████████████████████████████████████████████████████████████████████████████████████████████████████████████████████████████████████████████████| 348/348 [06:09<00:00,  1.08it/s]\n"
     ]
    }
   ],
   "source": [
    "team_props = {}\n",
    "\n",
    "for game in tqdm.tqdm(list(games.itertuples())):\n",
    "    actions = pd.read_hdf(spadl_h5,f\"actions/game_{game.game_id}\")\n",
    "    actions = (\n",
    "        actions.merge(actiontypes)\n",
    "        .merge(results)\n",
    "        .merge(bodyparts)\n",
    "        .merge(players,\"left\",on=\"player_id\")\n",
    "        .merge(teams,\"left\",on=\"team_id\")\n",
    "        .sort_values([\"period_id\", \"time_seconds\", \"timestamp\"])\n",
    "        .reset_index(drop=True)\n",
    "    )\n",
    "    \n",
    "    team1, team2 = teams_in_game(actions)\n",
    "    passes1, passes2 = game_pass_list(actions, team1)\n",
    "    G1 = create_graph(passes1)\n",
    "    G2 = create_graph(passes2)\n",
    "    \n",
    "    total_links1, density1, diameter1, avg_clustering1 = get_metrics(G1)\n",
    "    total_links2, density2, diameter2, avg_clustering2 = get_metrics(G2)\n",
    "\n",
    "    if team1 in team_props:\n",
    "        team_props[team1][0].append(total_links1)\n",
    "        team_props[team1][1].append(density1)\n",
    "        team_props[team1][2].append(diameter1)\n",
    "        team_props[team1][3].append(avg_clustering1)\n",
    "    else:\n",
    "        team_props[team1] = [[total_links1], [density1], [diameter1], [avg_clustering1]]\n",
    "        \n",
    "    if team2 in team_props:\n",
    "        team_props[team2][0].append(total_links2)\n",
    "        team_props[team2][1].append(density2)\n",
    "        team_props[team2][2].append(diameter2)\n",
    "        team_props[team2][3].append(avg_clustering2)\n",
    "    else:\n",
    "        team_props[team2] = [[total_links2], [density2], [diameter2], [avg_clustering2]]   "
   ]
  },
  {
   "cell_type": "code",
   "execution_count": 15,
   "metadata": {},
   "outputs": [],
   "source": [
    "average = compute_average(team_props)\n",
    "placements = la_liga_team_placements()"
   ]
  },
  {
   "cell_type": "code",
   "execution_count": 16,
   "metadata": {},
   "outputs": [
    {
     "name": "stdout",
     "output_type": "stream",
     "text": [
      "Barcelona (1.42) : [596.8879310344828, 0.6804074756660965, 2.089080459770115, 0.7810436931552017]\n",
      "Las Palmas (11.00) : [351.0, 0.6126373626373627, 2.0, 0.7003518548776995]\n",
      "Rayo Vallecano (12.80) : [307.0, 0.5909645909645911, 2.2222222222222223, 0.70315095658855]\n",
      "Real Madrid (1.83) : [301.65, 0.6100274725274726, 2.2, 0.7096731225522281]\n",
      "Real Murcia (19.00) : [288.0, 0.6923076923076923, 2.0, 0.7513054936902687]\n",
      "Valencia (5.67) : [286.3, 0.5641483516483516, 2.4, 0.6680709341143378]\n",
      "Celta Vigo (10.67) : [282.1, 0.5922161172161171, 2.1, 0.689893766841552]\n",
      "Villarreal (6.09) : [279.07142857142856, 0.5694662480376766, 2.2857142857142856, 0.6699338339419647]\n",
      "Sevilla (5.67) : [269.3157894736842, 0.5773086562560247, 2.210526315789474, 0.6744806978806865]\n",
      "Atlético Madrid (5.50) : [268.15, 0.5668956043956044, 2.2, 0.6630671155032054]\n",
      "Real Betis (12.67) : [265.46153846153845, 0.585869258946182, 2.076923076923077, 0.677547615700256]\n",
      "Athletic Bilbao (9.58) : [265.44444444444446, 0.5706006956006955, 2.0555555555555554, 0.6795712206230902]\n",
      "Getafe (12.92) : [262.0, 0.5697048049989226, 2.176470588235294, 0.6706160778851648]\n",
      "Real Valladolid (16.20) : [258.0, 0.565149136577708, 2.142857142857143, 0.6634366237434547]\n",
      "Deportivo La Coruna (12.50) : [254.76923076923077, 0.5817131586362355, 2.076923076923077, 0.6773326497435804]\n",
      "Real Zaragoza (13.75) : [248.84615384615384, 0.5502254156100309, 2.3846153846153846, 0.6681081291270874]\n",
      "Recreativo Huelva (14.67) : [244.2, 0.5664835164835165, 2.2, 0.6422229339069143]\n",
      "Mallorca (11.78) : [241.8, 0.5695970695970696, 2.1, 0.6423081494864885]\n",
      "Deportivo Alavés (18.00) : [238.0, 0.6089743589743589, 2.0, 0.7317565614601764]\n",
      "Gimnàstic Tarragona (20.00) : [238.0, 0.6043956043956044, 2.0, 0.6534818781201787]\n",
      "Real Sociedad (11.78) : [237.15384615384616, 0.5667537590614514, 2.1538461538461537, 0.6675026032934178]\n",
      "Elche (14.50) : [236.66666666666666, 0.5311355311355311, 2.3333333333333335, 0.6667037828101718]\n",
      "Cádiz (19.00) : [232.0, 0.5054945054945055, 3.0, 0.5485533060111921]\n",
      "Eibar (15.00) : [228.0, 0.521978021978022, 2.3333333333333335, 0.6485276259139255]\n",
      "Albacete (20.00) : [224.0, 0.5054945054945055, 3.0, 0.5953211035638888]\n",
      "Espanyol (11.33) : [222.89473684210526, 0.5570657412762676, 2.1578947368421053, 0.6516085197173896]\n",
      "Almería (14.67) : [221.1818181818182, 0.539624012351285, 2.3636363636363638, 0.6317564858138155]\n",
      "Málaga (10.20) : [219.8, 0.5264346764346766, 2.0, 0.6336531608595547]\n",
      "Racing Santander (13.62) : [217.53846153846155, 0.5283178360101437, 2.1538461538461537, 0.637663669327029]\n",
      "Hércules (19.00) : [214.0, 0.4835164835164835, 2.0, 0.6079666009390498]\n",
      "Córdoba (20.00) : [214.0, 0.543956043956044, 2.0, 0.6137107019760284]\n",
      "Granada (16.20) : [212.88888888888889, 0.5192307692307693, 2.2222222222222223, 0.6268303406928152]\n",
      "Osasuna (12.60) : [206.0, 0.523076923076923, 2.2666666666666666, 0.6307432051495181]\n",
      "Levante (14.11) : [200.35714285714286, 0.5221088435374149, 2.142857142857143, 0.6420278168531505]\n",
      "Tenerife (19.00) : [194.5, 0.48443223443223443, 2.5, 0.5835328994848948]\n",
      "Xerez (20.00) : [184.5, 0.5219780219780219, 2.5, 0.5991574569560784]\n",
      "Sporting Gijón (15.40) : [180.85714285714286, 0.48469387755102034, 2.4285714285714284, 0.6112578529332149]\n",
      "Numancia (19.00) : [169.0, 0.45604395604395603, 3.0, 0.555326442466741]\n"
     ]
    }
   ],
   "source": [
    "ordered_teams = OrderedDict(sorted(average.items(), key=lambda x: x[1][0], reverse=True))\n",
    "for team in ordered_teams:\n",
    "    print(team + \" (\" + '{:.2f}'.format(placements[team]) + \") : \" + str(ordered_teams[team]))"
   ]
  },
  {
   "cell_type": "markdown",
   "metadata": {},
   "source": [
    "# World Cup Regression "
   ]
  },
  {
   "cell_type": "code",
   "execution_count": 17,
   "metadata": {},
   "outputs": [],
   "source": [
    "from scipy import stats"
   ]
  },
  {
   "cell_type": "code",
   "execution_count": 21,
   "metadata": {},
   "outputs": [
    {
     "data": {
      "image/png": "[encoded data removed]",
      "text/plain": [
       "<Figure size 432x288 with 1 Axes>"
      ]
     },
     "metadata": {
      "needs_background": "light"
     },
     "output_type": "display_data"
    },
    {
     "name": "stdout",
     "output_type": "stream",
     "text": [
      "slope: -0.0453468493518406\n",
      "r: -0.6183431551115334\n",
      "p: 3.5158841230538114e-05\n",
      "std_err 0.009605901867460702\n",
      "\n"
     ]
    },
    {
     "data": {
      "image/png": "[encoded data removed]",
      "text/plain": [
       "<Figure size 432x288 with 1 Axes>"
      ]
     },
     "metadata": {
      "needs_background": "light"
     },
     "output_type": "display_data"
    },
    {
     "name": "stdout",
     "output_type": "stream",
     "text": [
      "slope: -45.55364682847384\n",
      "r: -0.4458639741530254\n",
      "p: 0.005023456028945225\n",
      "std_err 15.241981443744063\n",
      "\n"
     ]
    },
    {
     "data": {
      "image/png": "[encoded data removed]",
      "text/plain": [
       "<Figure size 432x288 with 1 Axes>"
      ]
     },
     "metadata": {
      "needs_background": "light"
     },
     "output_type": "display_data"
    },
    {
     "name": "stdout",
     "output_type": "stream",
     "text": [
      "slope: 5.659563583218859\n",
      "r: 0.29643412375260864\n",
      "p: 0.07073709037147892\n",
      "std_err 3.039002854679263\n",
      "\n"
     ]
    },
    {
     "data": {
      "image/png": "[encoded data removed]",
      "text/plain": [
       "<Figure size 432x288 with 1 Axes>"
      ]
     },
     "metadata": {
      "needs_background": "light"
     },
     "output_type": "display_data"
    },
    {
     "name": "stdout",
     "output_type": "stream",
     "text": [
      "slope: -58.959810573030474\n",
      "r: -0.5598267534373438\n",
      "p: 0.00025764764461691487\n",
      "std_err 14.544579975392601\n",
      "\n"
     ]
    }
   ],
   "source": [
    "metrics = [\"Total Links\", \"Density\", \"Diameter\", \"Clustering Coefficient\"]\n",
    "\n",
    "for i in range(4):\n",
    "\n",
    "    X = []\n",
    "    y = []\n",
    "\n",
    "    for team in ordered_teams:\n",
    "        X.append(ordered_teams[team][i])\n",
    "        y.append(placements[team])\n",
    "\n",
    "    slope, intercept, r_value, p_value, std_err = stats.linregress(X,y)\n",
    "    \n",
    "    yPred1 = [intercept + slope * x for x in X]\n",
    "    plt.scatter(X, y,alpha=0.5)\n",
    "    plt.plot(X, yPred1, 'r', label=\"Linear\")\n",
    "    plt.title(\"L2 Linear Regression: \" + metrics[i])\n",
    "    plt.ylabel(\"Average Placement\")\n",
    "    plt.xlabel(metrics[i])\n",
    "    plt.show()\n",
    "    \n",
    "    print(\"slope:\", slope)\n",
    "    print(\"r:\", r_value)\n",
    "    print(\"p:\", p_value)\n",
    "    print(\"std_err\", std_err)\n",
    "    print()"
   ]
  },
  {
   "cell_type": "code",
   "execution_count": null,
   "metadata": {},
   "outputs": [],
   "source": []
  }
 ],
 "metadata": {
  "kernelspec": {
   "display_name": "Python 3",
   "language": "python",
   "name": "python3"
  },
  "language_info": {
   "codemirror_mode": {
    "name": "ipython",
    "version": 3
   },
   "file_extension": ".py",
   "mimetype": "text/x-python",
   "name": "python",
   "nbconvert_exporter": "python",
   "pygments_lexer": "ipython3",
   "version": "3.7.1"
  }
 },
 "nbformat": 4,
 "nbformat_minor": 2
}
