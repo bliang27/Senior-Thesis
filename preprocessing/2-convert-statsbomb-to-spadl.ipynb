{
 "cells": [
  {
   "cell_type": "code",
   "execution_count": 1,
   "metadata": {},
   "outputs": [],
   "source": [
    "%load_ext autoreload\n",
    "%autoreload 2\n",
    "import os; import sys; sys.path.insert(0,'../')\n",
    "import warnings\n",
    "import pandas as pd\n",
    "warnings.simplefilter(action='ignore', category=pd.errors.PerformanceWarning)\n",
    "\n",
    "import preprocessing.spadl.api as spadl"
   ]
  },
  {
   "cell_type": "code",
   "execution_count": 2,
   "metadata": {},
   "outputs": [],
   "source": [
    "## Configure file and folder names\n",
    "datafolder = \"../data\"\n",
    "statsbomb_json =  os.path.join(datafolder,\"statsbomb-root\",\"open-data-master\",\"data\")\n",
    "statsbomb_h5 = os.path.join(datafolder,\"statsbomb.h5\")\n",
    "spadl_h5 = os.path.join(datafolder,\"spadl-statsbomb.h5\")"
   ]
  },
  {
   "cell_type": "markdown",
   "metadata": {},
   "source": [
    "### Convert raw Statsbomb json files to Statsbomb HDF5 file"
   ]
  },
  {
   "cell_type": "code",
   "execution_count": 3,
   "metadata": {},
   "outputs": [
    {
     "name": "stdout",
     "output_type": "stream",
     "text": [
      "...Adding competitions to ../data\\statsbomb.h5\n",
      "...Adding matches to ../data\\statsbomb.h5\n",
      "...Adding players and teams to ../data\\statsbomb.h5\n"
     ]
    },
    {
     "name": "stderr",
     "output_type": "stream",
     "text": [
      "converting events files to ../data\\statsbomb.h5: 100%|███████████████████████████████| 809/809 [02:38<00:00,  4.59it/s]\n"
     ]
    }
   ],
   "source": [
    "spadl.statsbombjson_to_statsbombh5(statsbomb_json,statsbomb_h5)"
   ]
  },
  {
   "cell_type": "markdown",
   "metadata": {},
   "source": [
    "### Inspect StatsBomb HDF5 file"
   ]
  },
  {
   "cell_type": "code",
   "execution_count": 4,
   "metadata": {
    "scrolled": true
   },
   "outputs": [
    {
     "name": "stdout",
     "output_type": "stream",
     "text": [
      "# matches\n",
      "Index(['away_score', 'away_team_gender', 'away_team_group', 'away_team_id',\n",
      "       'away_team_name', 'competition_id', 'competition_name', 'country_name',\n",
      "       'data_version', 'home_score', 'home_team_gender', 'home_team_group',\n",
      "       'home_team_id', 'home_team_name', 'id', 'kick_off', 'last_updated',\n",
      "       'managers', 'match_date', 'match_id', 'match_status', 'match_week',\n",
      "       'name', 'season_id', 'season_name', 'shot_fidelity_version',\n",
      "       'xy_fidelity_version'],\n",
      "      dtype='object') \n",
      "\n",
      "# players\n",
      "Index(['country_id', 'country_name', 'extra', 'jersey_number', 'player_id',\n",
      "       'player_name', 'player_nickname'],\n",
      "      dtype='object') \n",
      "\n",
      "# teams\n",
      "Index(['team_id', 'team_name'], dtype='object') \n",
      "\n",
      "# competitions\n",
      "Index(['competition_gender', 'competition_id', 'competition_name',\n",
      "       'country_name', 'match_available', 'match_updated', 'season_id',\n",
      "       'season_name'],\n",
      "      dtype='object') \n",
      "\n",
      "# events\n",
      "Index(['counterpress', 'duration', 'extra', 'id', 'index', 'location',\n",
      "       'minute', 'period', 'play_pattern_id', 'play_pattern_name', 'player_id',\n",
      "       'player_name', 'position_id', 'position_name', 'possession',\n",
      "       'possession_team_id', 'possession_team_name', 'related_events',\n",
      "       'second', 'team_id', 'team_name', 'timestamp', 'type_id', 'type_name',\n",
      "       'under_pressure', 'match_id'],\n",
      "      dtype='object') \n",
      "\n"
     ]
    }
   ],
   "source": [
    "tablenames = [\"matches\",\"players\",\"teams\",\"competitions\"]\n",
    "tables = {name : pd.read_hdf(statsbomb_h5,key=name) for name in tablenames}\n",
    "\n",
    "match_id = tables[\"matches\"].match_id[0]\n",
    "tables[\"events\"] = pd.read_hdf(statsbomb_h5,f\"events/match_{match_id}\")\n",
    "\n",
    "for k,df in tables.items():\n",
    "    print(\"#\",k)\n",
    "    print(df.columns,\"\\n\")"
   ]
  },
  {
   "cell_type": "markdown",
   "metadata": {},
   "source": [
    "### Convert Statsbomb data (in a HDF5 file) to the SPADL format (in a HDF5 file)"
   ]
  },
  {
   "cell_type": "code",
   "execution_count": 5,
   "metadata": {},
   "outputs": [
    {
     "name": "stdout",
     "output_type": "stream",
     "text": [
      "...Converting matches to games\n",
      "...Converting players\n",
      "...Converting teams\n",
      "...Converting competitions\n",
      "...Inserting actiontypes\n",
      "...Inserting bodyparts\n",
      "...Inserting results\n",
      "... computing playergames (minutes played in each game\n"
     ]
    },
    {
     "name": "stderr",
     "output_type": "stream",
     "text": [
      "  0%|                                                                                        | 0/799 [00:00<?, ?game/s]\n"
     ]
    },
    {
     "ename": "ValueError",
     "evalue": "DataFrame constructor not properly called!",
     "output_type": "error",
     "traceback": [
      "\u001b[1;31m---------------------------------------------------------------------------\u001b[0m",
      "\u001b[1;31mValueError\u001b[0m                                Traceback (most recent call last)",
      "\u001b[1;32m<ipython-input-5-c9bc8a2c909f>\u001b[0m in \u001b[0;36m<module>\u001b[1;34m\u001b[0m\n\u001b[1;32m----> 1\u001b[1;33m \u001b[0mspadl\u001b[0m\u001b[1;33m.\u001b[0m\u001b[0mstatsbombh5_to_spadlh5\u001b[0m\u001b[1;33m(\u001b[0m\u001b[0mstatsbomb_h5\u001b[0m\u001b[1;33m,\u001b[0m\u001b[0mspadl_h5\u001b[0m\u001b[1;33m)\u001b[0m\u001b[1;33m\u001b[0m\u001b[1;33m\u001b[0m\u001b[0m\n\u001b[0m",
      "\u001b[1;32m~\\Anaconda3\\lib\\site-packages\\socceraction\\spadl\\statsbomb.py\u001b[0m in \u001b[0;36mconvert_to_spadl\u001b[1;34m(sbh5, spadlh5)\u001b[0m\n\u001b[0;32m    152\u001b[0m     \u001b[1;32mfor\u001b[0m \u001b[0mgame_id\u001b[0m \u001b[1;32min\u001b[0m \u001b[0mtqdm\u001b[0m\u001b[1;33m.\u001b[0m\u001b[0mtqdm\u001b[0m\u001b[1;33m(\u001b[0m\u001b[0mlist\u001b[0m\u001b[1;33m(\u001b[0m\u001b[0mgames\u001b[0m\u001b[1;33m.\u001b[0m\u001b[0mgame_id\u001b[0m\u001b[1;33m)\u001b[0m\u001b[1;33m,\u001b[0m\u001b[0munit\u001b[0m\u001b[1;33m=\u001b[0m\u001b[1;34m\"game\"\u001b[0m\u001b[1;33m)\u001b[0m\u001b[1;33m:\u001b[0m\u001b[1;33m\u001b[0m\u001b[1;33m\u001b[0m\u001b[0m\n\u001b[0;32m    153\u001b[0m         \u001b[0mevents\u001b[0m \u001b[1;33m=\u001b[0m \u001b[0mpd\u001b[0m\u001b[1;33m.\u001b[0m\u001b[0mread_hdf\u001b[0m\u001b[1;33m(\u001b[0m\u001b[0msbh5\u001b[0m\u001b[1;33m,\u001b[0m \u001b[1;34mf\"events/match_{game_id}\"\u001b[0m\u001b[1;33m)\u001b[0m\u001b[1;33m\u001b[0m\u001b[1;33m\u001b[0m\u001b[0m\n\u001b[1;32m--> 154\u001b[1;33m         \u001b[0mpg\u001b[0m \u001b[1;33m=\u001b[0m \u001b[0mget_playergames\u001b[0m\u001b[1;33m(\u001b[0m\u001b[0mevents\u001b[0m\u001b[1;33m,\u001b[0m\u001b[0mgame_id\u001b[0m\u001b[1;33m)\u001b[0m\u001b[1;33m\u001b[0m\u001b[1;33m\u001b[0m\u001b[0m\n\u001b[0m\u001b[0;32m    155\u001b[0m         \u001b[0mplayer_games\u001b[0m\u001b[1;33m.\u001b[0m\u001b[0mappend\u001b[0m\u001b[1;33m(\u001b[0m\u001b[0mpg\u001b[0m\u001b[1;33m)\u001b[0m\u001b[1;33m\u001b[0m\u001b[1;33m\u001b[0m\u001b[0m\n\u001b[0;32m    156\u001b[0m     \u001b[0mplayer_gamesdf\u001b[0m \u001b[1;33m=\u001b[0m \u001b[0mpd\u001b[0m\u001b[1;33m.\u001b[0m\u001b[0mconcat\u001b[0m\u001b[1;33m(\u001b[0m\u001b[0mplayer_games\u001b[0m\u001b[1;33m)\u001b[0m\u001b[1;33m\u001b[0m\u001b[1;33m\u001b[0m\u001b[0m\n",
      "\u001b[1;32m~\\Anaconda3\\lib\\site-packages\\socceraction\\spadl\\statsbomb.py\u001b[0m in \u001b[0;36mget_playergames\u001b[1;34m(events, game_id)\u001b[0m\n\u001b[0;32m    190\u001b[0m         \u001b[1;31m#minutes_played = substitution.minute\u001b[0m\u001b[1;33m\u001b[0m\u001b[1;33m\u001b[0m\u001b[1;33m\u001b[0m\u001b[0m\n\u001b[0;32m    191\u001b[0m         \u001b[0mplayers\u001b[0m\u001b[1;33m[\u001b[0m\u001b[0msubstitution\u001b[0m\u001b[1;33m.\u001b[0m\u001b[0mplayer_id\u001b[0m\u001b[1;33m]\u001b[0m\u001b[1;33m[\u001b[0m\u001b[1;34m\"minutes_played\"\u001b[0m\u001b[1;33m]\u001b[0m \u001b[1;33m=\u001b[0m \u001b[0msubstitution\u001b[0m\u001b[1;33m.\u001b[0m\u001b[0mminute\u001b[0m\u001b[1;33m\u001b[0m\u001b[1;33m\u001b[0m\u001b[0m\n\u001b[1;32m--> 192\u001b[1;33m     \u001b[0mpg\u001b[0m \u001b[1;33m=\u001b[0m \u001b[0mpd\u001b[0m\u001b[1;33m.\u001b[0m\u001b[0mDataFrame\u001b[0m\u001b[1;33m(\u001b[0m\u001b[0mplayers\u001b[0m\u001b[1;33m.\u001b[0m\u001b[0mvalues\u001b[0m\u001b[1;33m(\u001b[0m\u001b[1;33m)\u001b[0m\u001b[1;33m)\u001b[0m\u001b[1;33m.\u001b[0m\u001b[0mfillna\u001b[0m\u001b[1;33m(\u001b[0m\u001b[1;36m0\u001b[0m\u001b[1;33m)\u001b[0m\u001b[1;33m\u001b[0m\u001b[1;33m\u001b[0m\u001b[0m\n\u001b[0m\u001b[0;32m    193\u001b[0m     \u001b[1;32mfor\u001b[0m \u001b[0mcol\u001b[0m \u001b[1;32min\u001b[0m \u001b[0mpg\u001b[0m\u001b[1;33m.\u001b[0m\u001b[0mcolumns\u001b[0m\u001b[1;33m:\u001b[0m\u001b[1;33m\u001b[0m\u001b[1;33m\u001b[0m\u001b[0m\n\u001b[0;32m    194\u001b[0m         \u001b[1;32mif\u001b[0m \u001b[1;34m'_id'\u001b[0m \u001b[1;32min\u001b[0m \u001b[0mcol\u001b[0m\u001b[1;33m:\u001b[0m\u001b[1;33m\u001b[0m\u001b[1;33m\u001b[0m\u001b[0m\n",
      "\u001b[1;32m~\\Anaconda3\\lib\\site-packages\\pandas\\core\\frame.py\u001b[0m in \u001b[0;36m__init__\u001b[1;34m(self, data, index, columns, dtype, copy)\u001b[0m\n\u001b[0;32m    420\u001b[0m                                          dtype=values.dtype, copy=False)\n\u001b[0;32m    421\u001b[0m             \u001b[1;32melse\u001b[0m\u001b[1;33m:\u001b[0m\u001b[1;33m\u001b[0m\u001b[1;33m\u001b[0m\u001b[0m\n\u001b[1;32m--> 422\u001b[1;33m                 \u001b[1;32mraise\u001b[0m \u001b[0mValueError\u001b[0m\u001b[1;33m(\u001b[0m\u001b[1;34m'DataFrame constructor not properly called!'\u001b[0m\u001b[1;33m)\u001b[0m\u001b[1;33m\u001b[0m\u001b[1;33m\u001b[0m\u001b[0m\n\u001b[0m\u001b[0;32m    423\u001b[0m \u001b[1;33m\u001b[0m\u001b[0m\n\u001b[0;32m    424\u001b[0m         \u001b[0mNDFrame\u001b[0m\u001b[1;33m.\u001b[0m\u001b[0m__init__\u001b[0m\u001b[1;33m(\u001b[0m\u001b[0mself\u001b[0m\u001b[1;33m,\u001b[0m \u001b[0mmgr\u001b[0m\u001b[1;33m,\u001b[0m \u001b[0mfastpath\u001b[0m\u001b[1;33m=\u001b[0m\u001b[1;32mTrue\u001b[0m\u001b[1;33m)\u001b[0m\u001b[1;33m\u001b[0m\u001b[1;33m\u001b[0m\u001b[0m\n",
      "\u001b[1;31mValueError\u001b[0m: DataFrame constructor not properly called!"
     ]
    }
   ],
   "source": [
    "spadl.statsbombh5_to_spadlh5(statsbomb_h5,spadl_h5)"
   ]
  },
  {
   "cell_type": "markdown",
   "metadata": {},
   "source": [
    "### Inspect SPADL HDF5 file"
   ]
  },
  {
   "cell_type": "code",
   "execution_count": null,
   "metadata": {
    "scrolled": true
   },
   "outputs": [],
   "source": [
    "tablenames = [\"games\",\"players\",\"teams\",\"competitions\",\"actiontypes\",\"bodyparts\",\"results\"]\n",
    "tables = {name : pd.read_hdf(spadl_h5,key=name) for name in tablenames}\n",
    "\n",
    "game_id = tables[\"games\"].game_id[0]\n",
    "tables[\"actions\"] = pd.read_hdf(spadl_h5,f\"actions/game_{game_id}\")\n",
    "\n",
    "for k,df in tables.items():\n",
    "    print(\"#\",k)\n",
    "    print(df.columns,\"\\n\")"
   ]
  },
  {
   "cell_type": "markdown",
   "metadata": {},
   "source": [
    "### (optional) Plotting actions\n",
    "Extra library required: ```pip install matplotsoccer```"
   ]
  },
  {
   "cell_type": "code",
   "execution_count": null,
   "metadata": {},
   "outputs": [],
   "source": [
    "import matplotsoccer\n",
    "\n",
    "tablenames = [\n",
    "    \"games\",\n",
    "    \"players\",\n",
    "    \"teams\",\n",
    "    \"competitions\",\n",
    "    \"actiontypes\",\n",
    "    \"bodyparts\",\n",
    "    \"results\",\n",
    "]\n",
    "tables = {name: pd.read_hdf(spadl_h5, key=name) for name in tablenames}\n",
    "\n",
    "# Select England vs Belgium game at World Cup\n",
    "games = tables[\"games\"].merge(tables[\"competitions\"])\n",
    "game_id = games[(games.competition_name == \"FIFA World Cup\") \n",
    "              & (games.away_team_name == \"England\")\n",
    "              & (games.home_team_name == \"Belgium\")].game_id.values[0]\n",
    "\n",
    "actions = pd.read_hdf(spadl_h5, f\"actions/game_{game_id}\")\n",
    "actions = (\n",
    "    actions.merge(tables[\"actiontypes\"])\n",
    "    .merge(tables[\"results\"])\n",
    "    .merge(tables[\"bodyparts\"])\n",
    "    .merge(tables[\"players\"],\"left\",on=\"player_id\")\n",
    "    .merge(tables[\"teams\"],\"left\",on=\"team_id\")\n",
    "    .sort_values([\"period_id\", \"time_seconds\", \"timestamp\"])\n",
    "    .reset_index(drop=True)\n",
    ")\n",
    "\n",
    "# use nickname if available else use full name\n",
    "actions[\"player\"] = actions[[\"player_nickname\",\"player_name\"]].apply(lambda x: x[0] if x[0] else x[1],axis=1)\n",
    "\n",
    "#shot = 128\n",
    "shot = 2201\n",
    "a = actions[shot-4:shot+1]\n",
    "\n",
    "games = tables[\"games\"]\n",
    "g = list(games[games.game_id == a.game_id.values[0]].itertuples())[0]\n",
    "minute = int((a.period_id.values[0]-1)*45 +a.time_seconds.values[0] // 60) + 1\n",
    "game_info = f\"{g.match_date} {g.home_team_name} {g.home_score}-{g.away_score} {g.away_team_name} {minute}'\"\n",
    "\n",
    "print(game_info)\n",
    "\n",
    "labels = a[[\"time_seconds\", \"type_name\", \"player\", \"team_name\"]]\n",
    "matplotsoccer.actions(\n",
    "    location=a[[\"start_x\", \"start_y\", \"end_x\", \"end_y\"]],\n",
    "    action_type=a.type_name,\n",
    "    team= a.team_name,\n",
    "    result= a.result_name == \"success\",\n",
    "    label=labels,\n",
    "    labeltitle=[\"time\",\"actiontype\",\"player\",\"team\"],\n",
    "    zoom=False,\n",
    "    figsize=6\n",
    ")\n",
    "matplotsoccer.actions(\n",
    "    location=a[[\"start_x\", \"start_y\", \"end_x\", \"end_y\"]],\n",
    "    action_type=a.type_name,\n",
    "    team=a.team_name,\n",
    "    result=a.result_name == \"success\",\n",
    "    label=labels,\n",
    "    labeltitle=[\"time\",\"actiontype\",\"player\",\"team\"],\n",
    "    zoom=True,\n",
    ")"
   ]
  },
  {
   "cell_type": "code",
   "execution_count": null,
   "metadata": {},
   "outputs": [],
   "source": []
  }
 ],
 "metadata": {
  "kernelspec": {
   "display_name": "Python 3",
   "language": "python",
   "name": "python3"
  },
  "language_info": {
   "codemirror_mode": {
    "name": "ipython",
    "version": 3
   },
   "file_extension": ".py",
   "mimetype": "text/x-python",
   "name": "python",
   "nbconvert_exporter": "python",
   "pygments_lexer": "ipython3",
   "version": "3.7.1"
  }
 },
 "nbformat": 4,
 "nbformat_minor": 2
}
