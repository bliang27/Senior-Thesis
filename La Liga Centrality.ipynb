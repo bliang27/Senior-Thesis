{
 "cells": [
  {
   "cell_type": "markdown",
   "metadata": {},
   "source": [
    "# Load Data"
   ]
  },
  {
   "cell_type": "code",
   "execution_count": 2,
   "metadata": {},
   "outputs": [],
   "source": [
    "%load_ext autoreload\n",
    "%autoreload 2\n",
    "import os; import sys; sys.path.append('../')\n",
    "import pandas as pd\n",
    "import tqdm\n",
    "import warnings\n",
    "import copy\n",
    "warnings.simplefilter(action='ignore', category=pd.errors.PerformanceWarning)\n",
    "\n",
    "import networkx as nx\n",
    "import numpy as np\n",
    "from collections import Counter\n",
    "from collections import OrderedDict\n",
    "import matplotlib.pyplot as plt"
   ]
  },
  {
   "cell_type": "code",
   "execution_count": 3,
   "metadata": {},
   "outputs": [],
   "source": [
    "## Configure file and folder names\n",
    "datafolder = \"../data\"\n",
    "spadl_h5 = os.path.join(datafolder,\"spadl-statsbomb.h5\")\n",
    "predictions_h5 = os.path.join(datafolder,\"predictions.h5\")"
   ]
  },
  {
   "cell_type": "code",
   "execution_count": 4,
   "metadata": {},
   "outputs": [
    {
     "name": "stdout",
     "output_type": "stream",
     "text": [
      "nb of games: 348\n"
     ]
    }
   ],
   "source": [
    "games = pd.read_hdf(spadl_h5,\"games\")\n",
    "games = games[games.competition_name == \"La Liga\"]\n",
    "print(\"nb of games:\", len(games))"
   ]
  },
  {
   "cell_type": "markdown",
   "metadata": {},
   "source": [
    "# Helper Functions"
   ]
  },
  {
   "cell_type": "code",
   "execution_count": 5,
   "metadata": {},
   "outputs": [],
   "source": [
    "def change_possession(action, action_team, possession_team, result):\n",
    "    end_pos = ['bad_touch', 'foul']\n",
    "    change_team = ['pass', 'dribble', 'throw_in', 'corner_crossed', 'freekick_crossed', 'cross', 'shot', \n",
    "                  'freekick_short', 'goalkick', 'corner_short', 'shot_penalty', 'keeper_pick_up']\n",
    "    success_change = ['tackle', 'interception', 'take_on', 'clearance', 'keeper_claim', 'keeper_save', \n",
    "                      'keeper_punch']\n",
    "    \n",
    "    if possession_team == None:\n",
    "        if result == 'success':\n",
    "            if action in change_team:\n",
    "                possession_team = action_team\n",
    "        else:\n",
    "            return False, None\n",
    "    \n",
    "    \n",
    "    if action in end_pos:\n",
    "        return True, None\n",
    "    \n",
    "    if action_team != possession_team:\n",
    "        if action in change_team:\n",
    "            return True, action_team\n",
    "        if result == 'success':\n",
    "            if action in success_change:\n",
    "                return True, action_team\n",
    "            \n",
    "    return False, possession_team"
   ]
  },
  {
   "cell_type": "code",
   "execution_count": 6,
   "metadata": {},
   "outputs": [],
   "source": [
    "def extract_possessions(actions):\n",
    "    all_possessions = []\n",
    "    curr_possession = []\n",
    "    team1 = []\n",
    "    team2 = []\n",
    "    \n",
    "    possessing_team = actions.loc[0][\"team_name\"]\n",
    "    team1_name = actions.loc[0][\"team_name\"]\n",
    "    \n",
    "    for i in range(len(actions)):\n",
    "        # Extract possession\n",
    "        action = actions.loc[i][\"type_name\"]\n",
    "        action_team = actions.loc[i][\"team_name\"]\n",
    "        \n",
    "        if action_team != team1_name:\n",
    "            team2_name = action_team\n",
    "        \n",
    "        result = actions.loc[i][\"result_name\"]\n",
    "        end_pos, possessing_team = change_possession(action, action_team, possessing_team, result)\n",
    "        \n",
    "        if end_pos:\n",
    "            all_possessions.append(copy.deepcopy(curr_possession))\n",
    "            curr_possession = []\n",
    "\n",
    "        curr_possession.append(actions.loc[i])\n",
    "        \n",
    "        # Identify players\n",
    "        if (len(team1) == 14 and len(team2) == 14):\n",
    "            continue\n",
    "        \n",
    "        player = actions.loc[i][\"player_name\"]\n",
    "        if action_team == team1_name:\n",
    "            if player not in team1:\n",
    "                team1.append(player)\n",
    "        else:\n",
    "            if player not in team2:\n",
    "                team2.append(player)\n",
    "\n",
    "    return all_possessions, team1, team2, team1_name, team2_name"
   ]
  },
  {
   "cell_type": "code",
   "execution_count": 7,
   "metadata": {},
   "outputs": [],
   "source": [
    "def pos_pass_list(pos):\n",
    "    edges = []\n",
    "    pass_action = ['pass', 'throw_in', 'corner_crossed', 'freekick_crossed', 'cross', \n",
    "                  'freekick_short', 'goalkick', 'corner_short']\n",
    "    mult = 1\n",
    "    \n",
    "    for i in range(len(pos)):\n",
    "        action = pos[i]\n",
    "          \n",
    "        if action[\"type_name\"] == 'shot' and mult < 2:\n",
    "            mult = 1.5 \n",
    "        \n",
    "        if action[\"type_name\"] == 'shot' and action['result_name'] == 'success':\n",
    "            mult = 2\n",
    "            \n",
    "        if action[\"type_name\"] in pass_action:\n",
    "            if action[\"result_name\"] == 'success':\n",
    "                passer = action[\"player_name\"]\n",
    "                team = action[\"team_name\"]\n",
    "                j = 1\n",
    "                while i+j < len(pos) and (pos[i+j][\"team_name\"] != team):\n",
    "                    j += 1\n",
    "                try:\n",
    "                    passer = action[\"player_name\"]\n",
    "                    receiver = pos[i+j][\"player_name\"]\n",
    "                    edges.append((passer, receiver))\n",
    "                except:\n",
    "                    continue\n",
    "                \n",
    "    return edges, mult"
   ]
  },
  {
   "cell_type": "code",
   "execution_count": 8,
   "metadata": {},
   "outputs": [],
   "source": [
    "def create_graph(passes):\n",
    "    G = nx.DiGraph((x, y, {'weight': v}) for (x, y), v in Counter(passes).items())\n",
    "    return G"
   ]
  },
  {
   "cell_type": "code",
   "execution_count": 9,
   "metadata": {},
   "outputs": [],
   "source": [
    "def get_metrics(G):\n",
    "    \n",
    "    metrics = []\n",
    "    metrics.append(nx.degree_centrality(G))\n",
    "    metrics.append(nx.closeness_centrality(G))\n",
    "    metrics.append(nx.betweenness_centrality(G))\n",
    "    metrics.append(nx.load_centrality(G))\n",
    "    metrics.append(nx.harmonic_centrality(G))\n",
    "        \n",
    "    return metrics"
   ]
  },
  {
   "cell_type": "code",
   "execution_count": 10,
   "metadata": {},
   "outputs": [],
   "source": [
    "def weighted_average(weights, x):\n",
    "    total = 0\n",
    "    for i in range(len(x)):\n",
    "        total += weights[i] * x[i]\n",
    "        \n",
    "    return total / sum(weights)"
   ]
  },
  {
   "cell_type": "code",
   "execution_count": 39,
   "metadata": {},
   "outputs": [],
   "source": [
    "def compute_average(player_metrics):\n",
    "    average = {}\n",
    "    \n",
    "    for player in player_metrics:\n",
    "        if len(player_metrics[player][0]) < 150:\n",
    "            continue\n",
    "        \n",
    "        weights = player_metrics[player][0]\n",
    "        \n",
    "        average[player] = []\n",
    "        for i in range(1, len(player_metrics[player])):\n",
    "            average[player].append(weighted_average(weights, player_metrics[player][i]))\n",
    "    \n",
    "    return average"
   ]
  },
  {
   "cell_type": "markdown",
   "metadata": {},
   "source": [
    "# Compute Network Metrics"
   ]
  },
  {
   "cell_type": "code",
   "execution_count": 12,
   "metadata": {},
   "outputs": [],
   "source": [
    "players = pd.read_hdf(spadl_h5,\"players\")\n",
    "teams = pd.read_hdf(spadl_h5,\"teams\")\n",
    "actiontypes = pd.read_hdf(spadl_h5, \"actiontypes\")\n",
    "bodyparts = pd.read_hdf(spadl_h5, \"bodyparts\")\n",
    "results = pd.read_hdf(spadl_h5, \"results\")"
   ]
  },
  {
   "cell_type": "code",
   "execution_count": 13,
   "metadata": {},
   "outputs": [
    {
     "name": "stderr",
     "output_type": "stream",
     "text": [
      "100%|████████████████████████████████████████████████████████████████████████████████████████████████████████████████████████████████████████████████████████████████████████████████████████| 348/348 [11:14<00:00,  1.82s/it]\n"
     ]
    }
   ],
   "source": [
    "pos_metrics = {}\n",
    "roster = {}\n",
    "\n",
    "for game in tqdm.tqdm(list(games.itertuples())):\n",
    "    actions = pd.read_hdf(spadl_h5,f\"actions/game_{game.game_id}\")\n",
    "    actions = (\n",
    "        actions.merge(actiontypes)\n",
    "        .merge(results)\n",
    "        .merge(bodyparts)\n",
    "        .merge(players,\"left\",on=\"player_id\")\n",
    "        .merge(teams,\"left\",on=\"team_id\")\n",
    "        .sort_values([\"period_id\", \"time_seconds\", \"timestamp\"])\n",
    "        .reset_index(drop=True)\n",
    "    )\n",
    "    \n",
    "    possessions, team1, team2, team1_name, team2_name = extract_possessions(actions)\n",
    "    \n",
    "    for player in team1:\n",
    "        if player not in roster:\n",
    "            roster[player] = team1_name\n",
    "    for player in team2:\n",
    "        if player not in roster:\n",
    "            roster[player] = team2_name\n",
    "    \n",
    "    for pos in possessions:\n",
    "        passes, mult = pos_pass_list(pos)\n",
    "        \n",
    "        if len(passes) < 3:\n",
    "            continue\n",
    "        \n",
    "        G = create_graph(passes)\n",
    "        \n",
    "        metrics = get_metrics(G)\n",
    "        \n",
    "        for player in metrics[0]:\n",
    "            if player in pos_metrics:\n",
    "                pos_metrics[player][0].append(mult)\n",
    "                for i in range(len(metrics)):\n",
    "                    pos_metrics[player][i+1].append(metrics[i][player]) \n",
    "            else:\n",
    "                pos_metrics[player] = []\n",
    "                pos_metrics[player].append([mult])\n",
    "                for i in range(len(metrics)):\n",
    "                    pos_metrics[player].append([metrics[i][player]]) "
   ]
  },
  {
   "cell_type": "code",
   "execution_count": 41,
   "metadata": {},
   "outputs": [],
   "source": [
    "player_avg = compute_average(pos_metrics)"
   ]
  },
  {
   "cell_type": "markdown",
   "metadata": {},
   "source": [
    "# Degree Centrality"
   ]
  },
  {
   "cell_type": "code",
   "execution_count": 42,
   "metadata": {},
   "outputs": [
    {
     "name": "stdout",
     "output_type": "stream",
     "text": [
      "Roberto Trashorras Gayoso (Rayo Vallecano) : 0.7110157290429403\n",
      "Éver Maximiliano David Banega (Valencia) : 0.646273520445706\n",
      "Xabier Prieto Argarate (Real Sociedad) : 0.6460569412950369\n",
      "Joan Verdú Fernández (Espanyol) : 0.6431884960556996\n",
      "Ander Herrera Agüera (Real Zaragoza) : 0.6402022152022153\n",
      "Jorge Resurrección Merodio (Atlético Madrid) : 0.6401840828924161\n",
      "Daniel Parejo Muñoz (Getafe) : 0.6356554095426498\n",
      "Simão Pedro Fonseca Sabrosa (Atlético Madrid) : 0.6351160684494018\n",
      "Marcos Antonio Senna da Silva (Villarreal) : 0.6287748643761301\n",
      "Xavier Hernández Creus (Barcelona) : 0.6270821278122394\n",
      "Juan Francisco Torres Belén (Osasuna) : 0.6203174603174603\n",
      "Thiago Motta (Barcelona) : 0.6136954080548733\n",
      "Bruno Soriano Llido (Villarreal) : 0.6128995756718527\n",
      "Andoni Iraola Sagarna (Athletic Bilbao) : 0.6124159268227067\n",
      "Markel Susaeta Laskurain (Athletic Bilbao) : 0.6069534827669318\n",
      "David Josué Jiménez Silva (Valencia) : 0.6054298747847138\n",
      "Óscar de Marcos Arana (Athletic Bilbao) : 0.605083470169677\n",
      "Rubén Gracia Calmache (Villarreal) : 0.6048966144058169\n",
      "Anderson Luís de Souza (Barcelona) : 0.6032574902637633\n",
      "Antoine Griezmann (Real Sociedad) : 0.6015632515632516\n"
     ]
    }
   ],
   "source": [
    "count = 20\n",
    "\n",
    "ordered_players = OrderedDict(sorted(player_avg.items(), key=lambda x: x[1][0], reverse=True))\n",
    "for player in ordered_players:\n",
    "    team = roster[player]\n",
    "    if count > 0:\n",
    "        print(player + \" (\" + team + \") : \" + str(ordered_players[player][0]))\n",
    "        count -= 1"
   ]
  },
  {
   "cell_type": "markdown",
   "metadata": {},
   "source": [
    "# Closeness Centrality"
   ]
  },
  {
   "cell_type": "code",
   "execution_count": 43,
   "metadata": {},
   "outputs": [
    {
     "name": "stdout",
     "output_type": "stream",
     "text": [
      "Roberto Trashorras Gayoso (Rayo Vallecano) : 0.4429158636781209\n",
      "Sergio García De La Fuente (Espanyol) : 0.4368603473321411\n",
      "Simão Pedro Fonseca Sabrosa (Atlético Madrid) : 0.4348115788453951\n",
      "Jesús Navas González (Sevilla) : 0.4324266993917919\n",
      "Xabier Prieto Argarate (Real Sociedad) : 0.42851614311278985\n",
      "Ander Herrera Agüera (Real Zaragoza) : 0.4278359477407634\n",
      "Frédéric Oumar Kanouté (Sevilla) : 0.4271428506051503\n",
      "Rubén Gracia Calmache (Villarreal) : 0.4230167395369556\n",
      "Joan Verdú Fernández (Espanyol) : 0.4223872294960343\n",
      "Anderson Luís de Souza (Barcelona) : 0.4210335279359014\n",
      "Xavier Hernández Creus (Barcelona) : 0.4190428754777612\n",
      "Markel Susaeta Laskurain (Athletic Bilbao) : 0.41858127549710433\n",
      "Lionel Andrés Messi Cuccittini (Barcelona) : 0.4183701926355994\n",
      "Juan Francisco Torres Belén (Osasuna) : 0.41253168435155796\n",
      "David Josué Jiménez Silva (Valencia) : 0.4113733945195537\n",
      "Ronaldo de Assis Moreira (Barcelona) : 0.41128446011389463\n",
      "Óscar de Marcos Arana (Athletic Bilbao) : 0.4092369283672527\n",
      "Éver Maximiliano David Banega (Valencia) : 0.4083461889363718\n",
      "Antoine Griezmann (Real Sociedad) : 0.40777241521156327\n",
      "Andrés Iniesta Luján (Barcelona) : 0.40514311320391977\n"
     ]
    }
   ],
   "source": [
    "count = 20\n",
    "ordered_players = OrderedDict(sorted(player_avg.items(), key=lambda x: x[1][1], reverse=True))\n",
    "for player in ordered_players:\n",
    "    team = roster[player]\n",
    "    if count > 0:\n",
    "        print(player + \" (\" + team + \") : \" + str(ordered_players[player][1]))\n",
    "        count -= 1"
   ]
  },
  {
   "cell_type": "markdown",
   "metadata": {},
   "source": [
    "# Betweenness Centrality"
   ]
  },
  {
   "cell_type": "code",
   "execution_count": 33,
   "metadata": {},
   "outputs": [
    {
     "name": "stdout",
     "output_type": "stream",
     "text": [
      "Roberto Trashorras Gayoso (Rayo Vallecano) : 0.2841269841269841\n",
      "Xavier Hernández Creus (Barcelona) : 0.27029966441507963\n",
      "Dmytro Chygrynskiy (Barcelona) : 0.2593239590522198\n",
      "Thiago Motta (Barcelona) : 0.25400543263831993\n",
      "Luka Modrić (Real Madrid) : 0.25151179019289255\n",
      "Daniel Parejo Muñoz (Getafe) : 0.24891079082473744\n",
      "Lilian Thuram (Barcelona) : 0.24830746948065407\n",
      "Tiago Cardoso Mendes (Atlético Madrid) : 0.2475227307751581\n",
      "Alexandre Dimitri Song-Billong (Barcelona) : 0.24235879049475584\n",
      "Thiago Alcântara do Nascimento (Barcelona) : 0.24143486781417803\n",
      "Éver Maximiliano David Banega (Valencia) : 0.23996022986089222\n",
      "Francisco Puñal Martínez (Osasuna) : 0.23559077809798262\n",
      "Gabriel Alejandro Milito (Barcelona) : 0.23039515178675163\n",
      "Rafael Márquez Álvarez (Barcelona) : 0.22979813844639452\n",
      "Thomas Vermaelen (Barcelona) : 0.227039293131583\n",
      "Javier Alejandro Mascherano (Barcelona) : 0.22697637709031815\n",
      "Gnégnéri Yaya Touré (Barcelona) : 0.22573898960765384\n",
      "Xabier Prieto Argarate (Real Sociedad) : 0.2257359116486101\n",
      "José Martín Cáceres Silva (Sevilla) : 0.2234723224306558\n",
      "Andrés Iniesta Luján (Barcelona) : 0.22308415257314101\n"
     ]
    }
   ],
   "source": [
    "count = 20\n",
    "\n",
    "ordered_players = OrderedDict(sorted(player_avg.items(), key=lambda x: x[1][2], reverse=True))\n",
    "for player in ordered_players:\n",
    "    team = roster[player]\n",
    "    if count > 0:\n",
    "        print(player + \" (\" + team + \") : \" + str(ordered_players[player][2]))\n",
    "        count -= 1"
   ]
  },
  {
   "cell_type": "markdown",
   "metadata": {},
   "source": [
    "# Load Centrality"
   ]
  },
  {
   "cell_type": "code",
   "execution_count": 34,
   "metadata": {},
   "outputs": [
    {
     "name": "stdout",
     "output_type": "stream",
     "text": [
      "Roberto Trashorras Gayoso (Rayo Vallecano) : 0.28415847820609724\n",
      "Xavier Hernández Creus (Barcelona) : 0.27028613212825997\n",
      "Dmytro Chygrynskiy (Barcelona) : 0.2593423805210488\n",
      "Thiago Motta (Barcelona) : 0.2540281950893806\n",
      "Luka Modrić (Real Madrid) : 0.2514180519101779\n",
      "Daniel Parejo Muñoz (Getafe) : 0.24891079082473744\n",
      "Lilian Thuram (Barcelona) : 0.2483046059826789\n",
      "Tiago Cardoso Mendes (Atlético Madrid) : 0.24748179611650498\n",
      "Alexandre Dimitri Song-Billong (Barcelona) : 0.2423326110414931\n",
      "Thiago Alcântara do Nascimento (Barcelona) : 0.2414301375508271\n",
      "Éver Maximiliano David Banega (Valencia) : 0.23996022986089222\n",
      "Francisco Puñal Martínez (Osasuna) : 0.23559077809798262\n",
      "Gabriel Alejandro Milito (Barcelona) : 0.23038836744178318\n",
      "Rafael Márquez Álvarez (Barcelona) : 0.22978223703514417\n",
      "Thomas Vermaelen (Barcelona) : 0.2270369752262277\n",
      "Javier Alejandro Mascherano (Barcelona) : 0.2269565634329252\n",
      "Gnégnéri Yaya Touré (Barcelona) : 0.2257423594351893\n",
      "Xabier Prieto Argarate (Real Sociedad) : 0.2257359116486101\n",
      "José Martín Cáceres Silva (Sevilla) : 0.2234723224306558\n",
      "Andrés Iniesta Luján (Barcelona) : 0.22308349601567087\n"
     ]
    }
   ],
   "source": [
    "count = 20\n",
    "\n",
    "ordered_players = OrderedDict(sorted(player_avg.items(), key=lambda x: x[1][3], reverse=True))\n",
    "for player in ordered_players:\n",
    "    team = roster[player]\n",
    "    if count > 0:\n",
    "        print(player + \" (\" + team + \") : \" + str(ordered_players[player][3]))\n",
    "        count -= 1"
   ]
  },
  {
   "cell_type": "markdown",
   "metadata": {},
   "source": [
    "# Harmonic Centrality"
   ]
  },
  {
   "cell_type": "code",
   "execution_count": 45,
   "metadata": {},
   "outputs": [
    {
     "name": "stdout",
     "output_type": "stream",
     "text": [
      "Ibrahim Afellay (Barcelona) : 2.6886855241264564\n",
      "Thiago Alcântara do Nascimento (Barcelona) : 2.582607048124287\n",
      "Francesc Fàbregas i Soler (Barcelona) : 2.532304116121403\n",
      "Juan Isaac Cuenca López (Barcelona) : 2.4843977278759897\n",
      "Thomas Vermaelen (Barcelona) : 2.4835354546803146\n",
      "Neymar da Silva Santos Junior (Barcelona) : 2.4780343570652943\n",
      "Xavier Hernández Creus (Barcelona) : 2.4711975453660733\n",
      "Lionel Andrés Messi Cuccittini (Barcelona) : 2.4612068284817132\n",
      "Andrés Iniesta Luján (Barcelona) : 2.4451436797279666\n",
      "Rafael Alcântara do Nascimento (Celta Vigo) : 2.4392169840138416\n",
      "Andreu Fontàs Prat (Barcelona) : 2.433168795973675\n",
      "Pedro Eliezer Rodríguez Ledesma (Barcelona) : 2.4191562210773645\n",
      "Alexis Alejandro Sánchez Sánchez (Barcelona) : 2.4079872291284605\n",
      "Dmytro Chygrynskiy (Barcelona) : 2.396619435817808\n",
      "Alexandre Dimitri Song-Billong (Barcelona) : 2.3947283573517106\n",
      "David Villa Sánchez (Barcelona) : 2.3894559958686745\n",
      "Arda Turan (Atlético Madrid) : 2.3748397664150396\n",
      "Seydou Kéita (Barcelona) : 2.366037867770441\n",
      "Cristian Tello Herrera (Barcelona) : 2.3599132589838883\n",
      "Ivan Rakitić (Sevilla) : 2.3581705027973654\n"
     ]
    }
   ],
   "source": [
    "count = 20\n",
    "\n",
    "ordered_players = OrderedDict(sorted(player_avg.items(), key=lambda x: x[1][4], reverse=True))\n",
    "for player in ordered_players:\n",
    "    team = roster[player]\n",
    "    if count > 0:\n",
    "        print(player + \" (\" + team + \") : \" + str(ordered_players[player][4]))\n",
    "        count -= 1"
   ]
  },
  {
   "cell_type": "code",
   "execution_count": null,
   "metadata": {},
   "outputs": [],
   "source": []
  }
 ],
 "metadata": {
  "kernelspec": {
   "display_name": "Python 3",
   "language": "python",
   "name": "python3"
  },
  "language_info": {
   "codemirror_mode": {
    "name": "ipython",
    "version": 3
   },
   "file_extension": ".py",
   "mimetype": "text/x-python",
   "name": "python",
   "nbconvert_exporter": "python",
   "pygments_lexer": "ipython3",
   "version": "3.7.1"
  }
 },
 "nbformat": 4,
 "nbformat_minor": 2
}
