{
 "cells": [
  {
   "cell_type": "markdown",
   "metadata": {},
   "source": [
    "# Load Data"
   ]
  },
  {
   "cell_type": "code",
   "execution_count": 1,
   "metadata": {},
   "outputs": [],
   "source": [
    "%load_ext autoreload\n",
    "%autoreload 2\n",
    "import os; import sys; sys.path.append('../')\n",
    "import pandas as pd\n",
    "import tqdm\n",
    "import warnings\n",
    "import copy\n",
    "warnings.simplefilter(action='ignore', category=pd.errors.PerformanceWarning)\n",
    "\n",
    "import networkx as nx\n",
    "import numpy as np\n",
    "from collections import Counter\n",
    "from collections import OrderedDict\n",
    "import matplotlib.pyplot as plt"
   ]
  },
  {
   "cell_type": "code",
   "execution_count": 2,
   "metadata": {},
   "outputs": [],
   "source": [
    "## Configure file and folder names\n",
    "datafolder = \"../data\"\n",
    "spadl_h5 = os.path.join(datafolder,\"spadl-statsbomb.h5\")"
   ]
  },
  {
   "cell_type": "code",
   "execution_count": 3,
   "metadata": {},
   "outputs": [
    {
     "name": "stdout",
     "output_type": "stream",
     "text": [
      "nb of games: 64\n"
     ]
    }
   ],
   "source": [
    "games = pd.read_hdf(spadl_h5,\"games\")\n",
    "games = games[games.competition_name == \"FIFA World Cup\"]\n",
    "print(\"nb of games:\", len(games))"
   ]
  },
  {
   "cell_type": "markdown",
   "metadata": {},
   "source": [
    "# Helper Functions"
   ]
  },
  {
   "cell_type": "code",
   "execution_count": 4,
   "metadata": {},
   "outputs": [],
   "source": [
    "def players_in_pos(pos):\n",
    "    contribution_action = ['pass', 'dribble', 'throw_in', 'corner_crossed', 'freekick_crossed', 'cross', 'shot', \n",
    "                  'freekick_short', 'goalkick', 'corner_short', 'shot_penalty']\n",
    "    \n",
    "    pos_players = []\n",
    "    team = None\n",
    "    \n",
    "    for play in pos:\n",
    "        player = play['player_name']\n",
    "        if play['type_name'] in contribution_action and play['result_name'] == 'success':\n",
    "            team = play['team_name']\n",
    "            if player not in pos_players:\n",
    "                pos_players.append(player)\n",
    "    \n",
    "    return pos_players, team"
   ]
  },
  {
   "cell_type": "code",
   "execution_count": 5,
   "metadata": {},
   "outputs": [],
   "source": [
    "def change_possession(action, action_team, possession_team, result):\n",
    "    end_pos = ['bad_touch', 'foul']\n",
    "    change_team = ['pass', 'dribble', 'throw_in', 'corner_crossed', 'freekick_crossed', 'cross', 'shot', \n",
    "                  'freekick_short', 'goalkick', 'corner_short', 'shot_penalty', 'keeper_pick_up']\n",
    "    success_change = ['tackle', 'interception', 'take_on', 'clearance', 'keeper_claim', 'keeper_save', \n",
    "                      'keeper_punch']\n",
    "    \n",
    "    if possession_team == None:\n",
    "        if result == 'success':\n",
    "            if action in change_team:\n",
    "                possession_team = action_team\n",
    "        else:\n",
    "            return False, None\n",
    "    \n",
    "    \n",
    "    if action in end_pos:\n",
    "        return True, None\n",
    "    \n",
    "    if action_team != possession_team:\n",
    "        if action in change_team:\n",
    "            return True, action_team\n",
    "        if result == 'success':\n",
    "            if action in success_change:\n",
    "                return True, action_team\n",
    "            \n",
    "    return False, possession_team"
   ]
  },
  {
   "cell_type": "code",
   "execution_count": 6,
   "metadata": {},
   "outputs": [],
   "source": [
    "def extract_possessions(actions):\n",
    "    all_possessions = []\n",
    "    curr_possession = []\n",
    "    team1 = []\n",
    "    team2 = []\n",
    "    \n",
    "    \n",
    "    possessing_team = actions.loc[0][\"team_name\"]\n",
    "    team1_name = actions.loc[0][\"team_name\"]\n",
    "    \n",
    "    for i in range(len(actions)):\n",
    "        # Extract possession\n",
    "        action = actions.loc[i][\"type_name\"]\n",
    "        action_team = actions.loc[i][\"team_name\"]\n",
    "        \n",
    "        if action_team != team1_name:\n",
    "            team2_name = action_team\n",
    "        \n",
    "        result = actions.loc[i][\"result_name\"]\n",
    "        end_pos, possessing_team = change_possession(action, action_team, possessing_team, result)\n",
    "        \n",
    "        if end_pos:\n",
    "            all_possessions.append(copy.deepcopy(curr_possession))\n",
    "            curr_possession = []\n",
    "\n",
    "        curr_possession.append(actions.loc[i])\n",
    "        \n",
    "        # Identify players\n",
    "        if (len(team1) == 14 and len(team2) == 14):\n",
    "            continue\n",
    "        \n",
    "        player = actions.loc[i][\"player_name\"]\n",
    "        if action_team == team1_name:\n",
    "            if player not in team1:\n",
    "                team1.append(player)\n",
    "        else:\n",
    "            if player not in team2:\n",
    "                team2.append(player)\n",
    "\n",
    "    return all_possessions, team1, team2, team1_name, team2_name"
   ]
  },
  {
   "cell_type": "code",
   "execution_count": 7,
   "metadata": {},
   "outputs": [],
   "source": [
    "def pos_pass_list(pos):\n",
    "    edges = []\n",
    "    pass_action = ['pass', 'throw_in', 'corner_crossed', 'freekick_crossed', 'cross', \n",
    "                  'freekick_short', 'goalkick', 'corner_short']\n",
    "    \n",
    "    for i in range(len(pos)):\n",
    "        action = pos[i]\n",
    "          \n",
    "        if action[\"type_name\"] in pass_action:\n",
    "            if action[\"result_name\"] == 'success':\n",
    "                passer = action[\"player_name\"]\n",
    "                team = action[\"team_name\"]\n",
    "                j = 1\n",
    "                while i+j < len(pos) and (pos[i+j][\"team_name\"] != team):\n",
    "                    j += 1\n",
    "                try:\n",
    "                    passer = action[\"player_name\"]\n",
    "                    receiver = pos[i+j][\"player_name\"]\n",
    "                    edges.append((passer, receiver))\n",
    "                except:\n",
    "                    continue\n",
    "                \n",
    "    return edges"
   ]
  },
  {
   "cell_type": "code",
   "execution_count": 8,
   "metadata": {},
   "outputs": [],
   "source": [
    "def create_graph(passes):\n",
    "    G = nx.DiGraph((x, y, {'weight': v}) for (x, y), v in Counter(passes).items())\n",
    "    return G"
   ]
  },
  {
   "cell_type": "code",
   "execution_count": 9,
   "metadata": {},
   "outputs": [],
   "source": [
    "def get_total_links(G):\n",
    "    DV = G.degree(weight='weight')\n",
    "    return sum(deg for n, deg in DV)/2.0"
   ]
  },
  {
   "cell_type": "code",
   "execution_count": 10,
   "metadata": {},
   "outputs": [],
   "source": [
    "def get_metrics(G):\n",
    "    total_links = get_total_links(G)\n",
    "    density = nx.density(G)\n",
    "    \n",
    "    return total_links, density"
   ]
  },
  {
   "cell_type": "code",
   "execution_count": 11,
   "metadata": {},
   "outputs": [],
   "source": [
    "def compute_average(player_metrics):\n",
    "    average = {}\n",
    "    \n",
    "    for player in player_metrics:\n",
    "        if len(player_metrics[player][0]) < 5:\n",
    "            continue\n",
    "        \n",
    "        average[player] = [np.mean(player_metrics[player][0]), np.mean(player_metrics[player][1])]\n",
    "    \n",
    "    return average"
   ]
  },
  {
   "cell_type": "code",
   "execution_count": 110,
   "metadata": {},
   "outputs": [],
   "source": [
    "def compute_difference(pos_metrics, team_props, roster):\n",
    "    difference = {}\n",
    "    \n",
    "    for player in pos_metrics:\n",
    "        if len(pos_metrics[player][0]) < 50:\n",
    "            continue\n",
    "            \n",
    "        try:\n",
    "            team = roster[player]\n",
    "            diff1 = np.mean(pos_metrics[player][0]) - np.mean(team_props[team][0])\n",
    "            diff2 = np.mean(pos_metrics[player][1]) - np.mean(team_props[team][1])\n",
    "            std1 = np.std(team_props[team][0])\n",
    "            std2 = np.std(team_props[team][1])\n",
    "            difference[player] = [diff1 / std1, diff2 / std2]\n",
    "            \n",
    "        except:\n",
    "            continue\n",
    "    \n",
    "    return difference"
   ]
  },
  {
   "cell_type": "code",
   "execution_count": 13,
   "metadata": {},
   "outputs": [],
   "source": [
    "def world_cup_team_placements():\n",
    "    placements = {}\n",
    "    placements['France'] = 1.5\n",
    "    placements['Croatia'] = 1.5\n",
    "    placements['Belgium'] = 3.5\n",
    "    placements['England'] = 3.5\n",
    "    placements['Uruguay'] = 6.5\n",
    "    placements['Brazil'] = 6.5\n",
    "    placements['Russia'] = 6.5\n",
    "    placements['Sweden'] = 6.5\n",
    "    placements['Portugal'] = 12.5\n",
    "    placements['Argentina'] = 12.5\n",
    "    placements['Mexico'] = 12.5\n",
    "    placements['Japan'] = 12.5\n",
    "    placements['Spain'] = 12.5\n",
    "    placements['Denmark'] = 12.5\n",
    "    placements['Switzerland'] = 12.5\n",
    "    placements['Colombia'] = 12.5\n",
    "    placements['Saudi Arabia'] = 24.5\n",
    "    placements['Iran'] = 24.5\n",
    "    placements['Peru'] = 24.5\n",
    "    placements['Nigeria'] = 24.5\n",
    "    placements['Serbia'] = 24.5\n",
    "    placements['South Korea'] = 24.5\n",
    "    placements['Tunisia'] = 24.5\n",
    "    placements['Senegal'] = 24.5\n",
    "    placements['Egypt'] = 24.5\n",
    "    placements['Morocco'] = 24.5\n",
    "    placements['Australia'] = 24.5\n",
    "    placements['Iceland'] = 24.5\n",
    "    placements['Costa Rica'] = 24.5\n",
    "    placements['Germany'] = 24.5\n",
    "    placements['Panama'] = 24.5\n",
    "    placements['Poland'] = 24.5\n",
    "    \n",
    "    return placements"
   ]
  },
  {
   "cell_type": "markdown",
   "metadata": {},
   "source": [
    "# Compute Network Metrics"
   ]
  },
  {
   "cell_type": "code",
   "execution_count": 14,
   "metadata": {},
   "outputs": [],
   "source": [
    "players = pd.read_hdf(spadl_h5,\"players\")\n",
    "teams = pd.read_hdf(spadl_h5,\"teams\")\n",
    "actiontypes = pd.read_hdf(spadl_h5, \"actiontypes\")\n",
    "bodyparts = pd.read_hdf(spadl_h5, \"bodyparts\")\n",
    "results = pd.read_hdf(spadl_h5, \"results\")"
   ]
  },
  {
   "cell_type": "code",
   "execution_count": 106,
   "metadata": {},
   "outputs": [
    {
     "name": "stderr",
     "output_type": "stream",
     "text": [
      "100%|██████████████████████████████████████████████████████████████████████████████████████████████████████████████████████████████████████████████████████████████████████████████████████████| 64/64 [01:39<00:00,  1.63s/it]\n"
     ]
    }
   ],
   "source": [
    "pos_metrics = {}\n",
    "not_pos_metrics = {}\n",
    "team_props = {}\n",
    "roster = {}\n",
    "\n",
    "for game in tqdm.tqdm(list(games.itertuples())):\n",
    "    actions = pd.read_hdf(spadl_h5,f\"actions/game_{game.game_id}\")\n",
    "    actions = (\n",
    "        actions.merge(actiontypes)\n",
    "        .merge(results)\n",
    "        .merge(bodyparts)\n",
    "        .merge(players,\"left\",on=\"player_id\")\n",
    "        .merge(teams,\"left\",on=\"team_id\")\n",
    "        .sort_values([\"period_id\", \"time_seconds\", \"timestamp\"])\n",
    "        .reset_index(drop=True)\n",
    "    )\n",
    "    \n",
    "    possessions, team1, team2, team1_name, team2_name = extract_possessions(actions)\n",
    "    \n",
    "    for player in team1:\n",
    "        if player not in roster:\n",
    "            roster[player] = team1_name\n",
    "    for player in team2:\n",
    "        if player not in roster:\n",
    "            roster[player] = team2_name\n",
    "           \n",
    "    for pos in possessions:\n",
    "        pos_players, pos_team = players_in_pos(pos)\n",
    "        \n",
    "        if pos_team is None:\n",
    "            continue\n",
    "        \n",
    "        passes = pos_pass_list(pos)\n",
    "        \n",
    "        if len(passes) < 7:\n",
    "            continue\n",
    "        \n",
    "        G = create_graph(passes)\n",
    "        \n",
    "        total_links, density = get_metrics(G)\n",
    "        \n",
    "        if pos_team in team_props:\n",
    "            team_props[pos_team][0].append(total_links)\n",
    "            team_props[pos_team][1].append(density)\n",
    "        else:\n",
    "            team_props[pos_team] = [[total_links], [density]]\n",
    "        \n",
    "        if pos_team == team1_name:\n",
    "            for player in team1:\n",
    "                if player in pos_players:\n",
    "                    if player in pos_metrics:\n",
    "                        pos_metrics[player][0].append(total_links)\n",
    "                        pos_metrics[player][1].append(density)\n",
    "                    else:\n",
    "                        pos_metrics[player] = [[total_links], [density]] \n",
    "                else:\n",
    "                    if player in not_pos_metrics:\n",
    "                        not_pos_metrics[player][0].append(total_links)\n",
    "                        not_pos_metrics[player][1].append(density)\n",
    "                    else:\n",
    "                        not_pos_metrics[player] = [[total_links], [density]] \n",
    "        else:\n",
    "            for player in team2:\n",
    "                if player in pos_players:\n",
    "                    if player in pos_metrics:\n",
    "                        pos_metrics[player][0].append(total_links)\n",
    "                        pos_metrics[player][1].append(density)\n",
    "                    else:\n",
    "                        pos_metrics[player] = [[total_links], [density]] \n",
    "                else:\n",
    "                    if player in not_pos_metrics:\n",
    "                        not_pos_metrics[player][0].append(total_links)\n",
    "                        not_pos_metrics[player][1].append(density)\n",
    "                    else:\n",
    "                        not_pos_metrics[player] = [[total_links], [density]] "
   ]
  },
  {
   "cell_type": "code",
   "execution_count": 111,
   "metadata": {},
   "outputs": [],
   "source": [
    "team_avg = compute_average(team_props)\n",
    "difference = compute_difference(pos_metrics, team_props, roster)\n",
    "placements = world_cup_team_placements()"
   ]
  },
  {
   "cell_type": "markdown",
   "metadata": {},
   "source": [
    "# Placements"
   ]
  },
  {
   "cell_type": "code",
   "execution_count": 112,
   "metadata": {},
   "outputs": [],
   "source": [
    "import scipy.stats as stats"
   ]
  },
  {
   "cell_type": "code",
   "execution_count": 113,
   "metadata": {},
   "outputs": [
    {
     "name": "stdout",
     "output_type": "stream",
     "text": [
      "Placement: 24.5\n",
      "Total Links: 10.968707482993198\n",
      "Density: 0.2500701868048807\n",
      "\n",
      "Placement: 12.5\n",
      "Total Links: 11.894805194805194\n",
      "Density: 0.24665195554805944\n",
      "\n",
      "Placement: 6.5\n",
      "Total Links: 11.056666666666667\n",
      "Density: 0.24624025974025973\n",
      "\n",
      "Placement: 3.5\n",
      "Total Links: 11.988919667590027\n",
      "Density: 0.2478111147086216\n",
      "\n",
      "Placement: 1.5\n",
      "Total Links: 10.85\n",
      "Density: 0.24431006493506494\n",
      "\n"
     ]
    }
   ],
   "source": [
    "place = [24.5, 12.5, 6.5, 3.5, 1.5]\n",
    "\n",
    "total_links = {}\n",
    "density = {}\n",
    "\n",
    "for p in place:\n",
    "    total_links[p] = []\n",
    "    density[p] = []\n",
    "    \n",
    "for team in team_props:\n",
    "    total_links[placements[team]] += team_props[team][0]\n",
    "    density[placements[team]] += team_props[team][1]\n",
    "    \n",
    "for p in place:\n",
    "    print(\"Placement:\", p)\n",
    "    print(\"Total Links:\", np.mean(total_links[p]))\n",
    "    print(\"Density:\", np.mean(density[p]))\n",
    "    print()"
   ]
  },
  {
   "cell_type": "markdown",
   "metadata": {},
   "source": [
    "# Group vs Knockout ANOVA Test"
   ]
  },
  {
   "cell_type": "code",
   "execution_count": 114,
   "metadata": {},
   "outputs": [
    {
     "name": "stdout",
     "output_type": "stream",
     "text": [
      "F_onewayResult(statistic=7.8563867893273835, pvalue=0.0051040953229766)\n",
      "F_onewayResult(statistic=1.001564167459519, pvalue=0.31703139415704923)\n"
     ]
    }
   ],
   "source": [
    "net1 = []\n",
    "net2 = []\n",
    "\n",
    "for i in range(1, len(place)):\n",
    "    net1 += total_links[place[i]]\n",
    "    net2 += density[place[i]]\n",
    "\n",
    "f_scores = []    \n",
    "\n",
    "f_scores.append(stats.f_oneway(total_links[24.5], net1))\n",
    "f_scores.append(stats.f_oneway(density[24.5], net2))\n",
    "\n",
    "for f in f_scores:\n",
    "    print(f)"
   ]
  },
  {
   "cell_type": "markdown",
   "metadata": {},
   "source": [
    "# Quarters vs Semis ANOVA Test "
   ]
  },
  {
   "cell_type": "code",
   "execution_count": 115,
   "metadata": {},
   "outputs": [
    {
     "name": "stdout",
     "output_type": "stream",
     "text": [
      "F_onewayResult(statistic=1.5492965438142214, pvalue=0.2135498852318521)\n",
      "F_onewayResult(statistic=5.3499388018310195e-05, pvalue=0.9941656165922687)\n"
     ]
    }
   ],
   "source": [
    "f_scores = []    \n",
    "\n",
    "f_scores.append(stats.f_oneway(total_links[6.5], total_links[3.5]+total_links[1.5]))\n",
    "f_scores.append(stats.f_oneway(density[6.5], density[3.5]+density[1.5]))\n",
    "\n",
    "for f in f_scores:\n",
    "    print(f)"
   ]
  },
  {
   "cell_type": "markdown",
   "metadata": {},
   "source": [
    "# Total Links "
   ]
  },
  {
   "cell_type": "code",
   "execution_count": 116,
   "metadata": {
    "scrolled": false
   },
   "outputs": [
    {
     "name": "stdout",
     "output_type": "stream",
     "text": [
      "Ruben Loftus-Cheek (England) : 0.3653559726903612\n",
      "Raheem Shaquille Sterling (England) : 0.3351490067069765\n",
      "Nacer Chadli (Belgium) : 0.328324919818889\n",
      "Ivan Perišić (Croatia) : 0.3185831765547338\n",
      "Marouane Fellaini-Bakkioui (Belgium) : 0.27595320203922724\n",
      "David Josué Jiménez Silva (Spain) : 0.2690360339255903\n",
      "Xherdan Shaqiri (Switzerland) : 0.2499793287119721\n",
      "Diego Roberto Godín Leal (Uruguay) : 0.23534010540575204\n",
      "Antoine Griezmann (France) : 0.21009595057714622\n",
      "Nicolás Alejandro Tagliafico (Argentina) : 0.18241763940192682\n",
      "Neymar da Silva Santos Junior (Brazil) : 0.17692269071579206\n",
      "José Martín Cáceres Silva (Uruguay) : 0.17174674047917005\n",
      "N\"Golo Kanté (France) : 0.16443712296940768\n",
      "Willian Borges da Silva (Brazil) : 0.16060934732915771\n",
      "Jorge Resurrección Merodio (Spain) : 0.16038995312652488\n",
      "Salman Mohammed Al Faraj (Saudi Arabia) : 0.15891621474853992\n",
      "Salem Mohammed Al Dawsari (Saudi Arabia) : 0.1462861275548739\n",
      "Johan Andrés Mojica Palacio (Colombia) : 0.12725578233616017\n",
      "Valon Behrami (Switzerland) : 0.12490353931219675\n",
      "Trent Sainsbury (Australia) : 0.12483109428974867\n",
      "Faustino Marcos Alberto Rojo (Argentina) : 0.12409899711890289\n",
      "William Silva de Carvalho (Portugal) : 0.11883042806116054\n",
      "Raphaël Adelino José Guerreiro (Portugal) : 0.11364723639445157\n",
      "Yuto Nagatomo (Japan) : 0.1133502383638958\n",
      "Ivan Strinić (Croatia) : 0.11250533018928398\n",
      "Thomas Delaney (Denmark) : 0.11088005002061661\n",
      "Ellyes Skhiri (Tunisia) : 0.108321986397559\n",
      "Joshua Kimmich (Germany) : 0.1057889702765864\n",
      "Santiago Arias Naranjo (Colombia) : 0.10510587267822107\n",
      "Hiroki Sakai (Japan) : 0.10413395738335803\n",
      "Carlos Joel Salcedo Hernández (Mexico) : 0.09298495685689388\n",
      "Simon Thorup Kjær (Denmark) : 0.08182057745174078\n",
      "Grzegorz Krychowiak (Poland) : 0.07970888430479862\n",
      "Héctor Miguel Herrera López (Mexico) : 0.07930830664709726\n",
      "Toni Kroos (Germany) : 0.06391670688596861\n",
      "Aziz Eraltay Behich (Australia) : 0.025861150786482053\n"
     ]
    }
   ],
   "source": [
    "count_teams = {}\n",
    "for team in placements:\n",
    "    count_teams[team] = 2\n",
    "\n",
    "ordered_players = OrderedDict(sorted(difference.items(), key=lambda x: x[1][0], reverse=True))\n",
    "for player in ordered_players:\n",
    "    team = roster[player]\n",
    "    if count_teams[team] > 0:\n",
    "        print(player + \" (\" + team + \") : \" + str(ordered_players[player][0]))\n",
    "        count_teams[team] -= 1"
   ]
  },
  {
   "cell_type": "markdown",
   "metadata": {},
   "source": [
    "# Density"
   ]
  },
  {
   "cell_type": "code",
   "execution_count": 117,
   "metadata": {},
   "outputs": [
    {
     "name": "stdout",
     "output_type": "stream",
     "text": [
      "Jordan Pickford (England) : -0.3113434445628661\n",
      "Johan Andrés Mojica Palacio (Colombia) : -0.30729164572292716\n",
      "Marouane Fellaini-Bakkioui (Belgium) : -0.28571022920577477\n",
      "Phil Jones (England) : -0.2624927502806859\n",
      "Hiroki Sakai (Japan) : -0.2539543262482179\n",
      "Antoine Griezmann (France) : -0.24847486823202206\n",
      "David Josué Jiménez Silva (Spain) : -0.24386096361149232\n",
      "José Paulo Bezzera Maciel Júnior (Brazil) : -0.24318402778946882\n",
      "Gaku Shibasaki (Japan) : -0.20848140243464341\n",
      "Thibaut Courtois (Belgium) : -0.2071433215277528\n",
      "Neymar da Silva Santos Junior (Brazil) : -0.19970093581877982\n",
      "Lucas Hernández Pi (France) : -0.19613900740212464\n",
      "Jérôme Boateng (Germany) : -0.19055107575228983\n",
      "Xherdan Shaqiri (Switzerland) : -0.18770329271022848\n",
      "Šime Vrsaljko (Croatia) : -0.1700968420427116\n",
      "Yasir Gharsan Al Shahrani (Saudi Arabia) : -0.16716877502227992\n",
      "José Martín Cáceres Silva (Uruguay) : -0.15372251264493547\n",
      "Marcelo Brozović (Croatia) : -0.1407410779566425\n",
      "Faustino Marcos Alberto Rojo (Argentina) : -0.13826031184673987\n",
      "Daniel Carvajal Ramos (Spain) : -0.13719424438213912\n",
      "Nicolás Alejandro Tagliafico (Argentina) : -0.12505528585440845\n",
      "Salem Mohammed Al Dawsari (Saudi Arabia) : -0.11916040627496229\n",
      "William Silva de Carvalho (Portugal) : -0.10185533109502891\n",
      "Ricardo Iván Rodríguez Araya (Switzerland) : -0.09910819007672256\n",
      "Carlos Joel Salcedo Hernández (Mexico) : -0.09594393958309055\n",
      "Thomas Delaney (Denmark) : -0.08081375118085322\n",
      "Ellyes Skhiri (Tunisia) : -0.07270734180496799\n",
      "Toni Kroos (Germany) : -0.0672912569340528\n",
      "Diego Roberto Godín Leal (Uruguay) : -0.0655913904456668\n",
      "Trent Sainsbury (Australia) : -0.06377363287430583\n",
      "Raphaël Adelino José Guerreiro (Portugal) : -0.056522512090393585\n",
      "Santiago Arias Naranjo (Colombia) : -0.03279875997377239\n",
      "Héctor Miguel Herrera López (Mexico) : -0.027028519840985726\n",
      "Aziz Eraltay Behich (Australia) : -0.019674903834761805\n",
      "Simon Thorup Kjær (Denmark) : 0.042405081475269994\n",
      "Grzegorz Krychowiak (Poland) : 0.058576766621912246\n"
     ]
    }
   ],
   "source": [
    "count_teams = {}\n",
    "for team in placements:\n",
    "    count_teams[team] = 2\n",
    "\n",
    "ordered_players = OrderedDict(sorted(difference.items(), key=lambda x: x[1][1], reverse=False))\n",
    "for player in ordered_players:\n",
    "    team = roster[player]\n",
    "    if count_teams[team] > 0:\n",
    "        print(player + \" (\" + team + \") : \" + str(ordered_players[player][1]))\n",
    "        count_teams[team] -= 1"
   ]
  },
  {
   "cell_type": "markdown",
   "metadata": {},
   "source": [
    "# World Cup Team Possession Regression "
   ]
  },
  {
   "cell_type": "code",
   "execution_count": 118,
   "metadata": {},
   "outputs": [],
   "source": [
    "from scipy import stats"
   ]
  },
  {
   "cell_type": "code",
   "execution_count": 119,
   "metadata": {},
   "outputs": [],
   "source": [
    "ordered_teams = OrderedDict(sorted(team_avg.items(), key=lambda x: x[1][0], reverse=True))\n",
    "metrics = [\"Total Links\", \"Density\"]"
   ]
  },
  {
   "cell_type": "code",
   "execution_count": 120,
   "metadata": {},
   "outputs": [
    {
     "data": {
      "image/png": "[encoded data removed]",
      "text/plain": [
       "<Figure size 432x288 with 1 Axes>"
      ]
     },
     "metadata": {
      "needs_background": "light"
     },
     "output_type": "display_data"
    },
    {
     "name": "stdout",
     "output_type": "stream",
     "text": [
      "slope: -1.6920794727104302\n",
      "r: -0.22884606855624628\n",
      "p: 0.2077261410432903\n",
      "std_err 1.314122812044137\n",
      "\n"
     ]
    },
    {
     "data": {
      "image/png": "[encoded data removed]",
      "text/plain": [
       "<Figure size 432x288 with 1 Axes>"
      ]
     },
     "metadata": {
      "needs_background": "light"
     },
     "output_type": "display_data"
    },
    {
     "name": "stdout",
     "output_type": "stream",
     "text": [
      "slope: 11.088685533481197\n",
      "r: 0.019063722028715528\n",
      "p: 0.9175190230204795\n",
      "std_err 106.17757738556831\n",
      "\n"
     ]
    }
   ],
   "source": [
    "for i in range(2):\n",
    "\n",
    "    X = []\n",
    "    y = []\n",
    "\n",
    "    for team in ordered_teams:\n",
    "        X.append(ordered_teams[team][i])\n",
    "        y.append(placements[team])\n",
    "\n",
    "    slope, intercept, r_value, p_value, std_err = stats.linregress(X,y)\n",
    "    \n",
    "    yPred1 = [intercept + slope * x for x in X]\n",
    "    plt.scatter(X, y,alpha=0.5)\n",
    "    plt.plot(X, yPred1, 'r', label=\"Linear\")\n",
    "    plt.title(metrics[i] + \" L2 Linear Regression\")\n",
    "    plt.ylabel(\"Placement\")\n",
    "    plt.xlabel(metrics[i])\n",
    "    plt.show()\n",
    "    \n",
    "    print(\"slope:\", slope)\n",
    "    print(\"r:\", r_value)\n",
    "    print(\"p:\", p_value)\n",
    "    print(\"std_err\", std_err)\n",
    "    print()"
   ]
  },
  {
   "cell_type": "code",
   "execution_count": null,
   "metadata": {},
   "outputs": [],
   "source": []
  }
 ],
 "metadata": {
  "kernelspec": {
   "display_name": "Python 3",
   "language": "python",
   "name": "python3"
  },
  "language_info": {
   "codemirror_mode": {
    "name": "ipython",
    "version": 3
   },
   "file_extension": ".py",
   "mimetype": "text/x-python",
   "name": "python",
   "nbconvert_exporter": "python",
   "pygments_lexer": "ipython3",
   "version": "3.7.1"
  }
 },
 "nbformat": 4,
 "nbformat_minor": 2
}
