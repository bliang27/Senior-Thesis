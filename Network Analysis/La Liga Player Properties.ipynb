{
 "cells": [
  {
   "cell_type": "markdown",
   "metadata": {},
   "source": [
    "# Load Data"
   ]
  },
  {
   "cell_type": "code",
   "execution_count": 1,
   "metadata": {},
   "outputs": [],
   "source": [
    "%load_ext autoreload\n",
    "%autoreload 2\n",
    "import os; import sys; sys.path.append('../')\n",
    "import pandas as pd\n",
    "import tqdm\n",
    "import warnings\n",
    "import copy\n",
    "warnings.simplefilter(action='ignore', category=pd.errors.PerformanceWarning)\n",
    "\n",
    "import networkx as nx\n",
    "import numpy as np\n",
    "from collections import Counter\n",
    "from collections import OrderedDict\n",
    "import matplotlib.pyplot as plt\n",
    "import csv"
   ]
  },
  {
   "cell_type": "code",
   "execution_count": 2,
   "metadata": {},
   "outputs": [],
   "source": [
    "## Configure file and folder names\n",
    "datafolder = \"../data\"\n",
    "spadl_h5 = os.path.join(datafolder,\"spadl-statsbomb.h5\")"
   ]
  },
  {
   "cell_type": "code",
   "execution_count": 3,
   "metadata": {},
   "outputs": [
    {
     "name": "stdout",
     "output_type": "stream",
     "text": [
      "nb of games: 348\n"
     ]
    }
   ],
   "source": [
    "games = pd.read_hdf(spadl_h5,\"games\")\n",
    "games = games[games.competition_name == \"La Liga\"]\n",
    "print(\"nb of games:\", len(games))"
   ]
  },
  {
   "cell_type": "markdown",
   "metadata": {},
   "source": [
    "# Helper Functions"
   ]
  },
  {
   "cell_type": "code",
   "execution_count": 4,
   "metadata": {},
   "outputs": [],
   "source": [
    "def players_in_pos(pos):\n",
    "    contribution_action = ['pass', 'dribble', 'throw_in', 'corner_crossed', 'freekick_crossed', 'cross', 'shot', \n",
    "                  'freekick_short', 'goalkick', 'corner_short', 'shot_penalty']\n",
    "    \n",
    "    pos_players = []\n",
    "    team = None\n",
    "    \n",
    "    for play in pos:\n",
    "        player = play['player_name']\n",
    "        if play['type_name'] in contribution_action and play['result_name'] == 'success':\n",
    "            team = play['team_name']\n",
    "            if player not in pos_players:\n",
    "                pos_players.append(player)\n",
    "    \n",
    "    return pos_players, team"
   ]
  },
  {
   "cell_type": "code",
   "execution_count": 5,
   "metadata": {},
   "outputs": [],
   "source": [
    "def change_possession(action, action_team, possession_team, result):\n",
    "    end_pos = ['bad_touch', 'foul']\n",
    "    change_team = ['pass', 'dribble', 'throw_in', 'corner_crossed', 'freekick_crossed', 'cross', 'shot', \n",
    "                  'freekick_short', 'goalkick', 'corner_short', 'shot_penalty', 'keeper_pick_up']\n",
    "    success_change = ['tackle', 'interception', 'take_on', 'clearance', 'keeper_claim', 'keeper_save', \n",
    "                      'keeper_punch']\n",
    "    \n",
    "    if possession_team == None:\n",
    "        if result == 'success':\n",
    "            if action in change_team:\n",
    "                possession_team = action_team\n",
    "        else:\n",
    "            return False, None\n",
    "    \n",
    "    \n",
    "    if action in end_pos:\n",
    "        return True, None\n",
    "    \n",
    "    if action_team != possession_team:\n",
    "        if action in change_team:\n",
    "            return True, action_team\n",
    "        if result == 'success':\n",
    "            if action in success_change:\n",
    "                return True, action_team\n",
    "            \n",
    "    return False, possession_team"
   ]
  },
  {
   "cell_type": "code",
   "execution_count": 6,
   "metadata": {},
   "outputs": [],
   "source": [
    "def extract_possessions(actions):\n",
    "    all_possessions = []\n",
    "    curr_possession = []\n",
    "    team1 = []\n",
    "    team2 = []\n",
    "    \n",
    "    \n",
    "    possessing_team = actions.loc[0][\"team_name\"]\n",
    "    team1_name = actions.loc[0][\"team_name\"]\n",
    "    \n",
    "    for i in range(len(actions)):\n",
    "        # Extract possession\n",
    "        action = actions.loc[i][\"type_name\"]\n",
    "        action_team = actions.loc[i][\"team_name\"]\n",
    "        \n",
    "        if action_team != team1_name:\n",
    "            team2_name = action_team\n",
    "        \n",
    "        result = actions.loc[i][\"result_name\"]\n",
    "        end_pos, possessing_team = change_possession(action, action_team, possessing_team, result)\n",
    "        \n",
    "        if end_pos:\n",
    "            all_possessions.append(copy.deepcopy(curr_possession))\n",
    "            curr_possession = []\n",
    "\n",
    "        curr_possession.append(actions.loc[i])\n",
    "        \n",
    "        # Identify players\n",
    "        if (len(team1) == 14 and len(team2) == 14):\n",
    "            continue\n",
    "        \n",
    "        player = actions.loc[i][\"player_name\"]\n",
    "        if action_team == team1_name:\n",
    "            if player not in team1:\n",
    "                team1.append(player)\n",
    "        else:\n",
    "            if player not in team2:\n",
    "                team2.append(player)\n",
    "\n",
    "    return all_possessions, team1, team2, team1_name, team2_name"
   ]
  },
  {
   "cell_type": "code",
   "execution_count": 7,
   "metadata": {},
   "outputs": [],
   "source": [
    "def pos_pass_list(pos):\n",
    "    edges = []\n",
    "    pass_action = ['pass', 'throw_in', 'corner_crossed', 'freekick_crossed', 'cross', \n",
    "                  'freekick_short', 'goalkick', 'corner_short']\n",
    "    \n",
    "    for i in range(len(pos)):\n",
    "        action = pos[i]\n",
    "          \n",
    "        if action[\"type_name\"] in pass_action:\n",
    "            if action[\"result_name\"] == 'success':\n",
    "                passer = action[\"player_name\"]\n",
    "                team = action[\"team_name\"]\n",
    "                j = 1\n",
    "                while i+j < len(pos) and (pos[i+j][\"team_name\"] != team):\n",
    "                    j += 1\n",
    "                try:\n",
    "                    passer = action[\"player_name\"]\n",
    "                    receiver = pos[i+j][\"player_name\"]\n",
    "                    edges.append((passer, receiver))\n",
    "                except:\n",
    "                    continue\n",
    "                \n",
    "    return edges"
   ]
  },
  {
   "cell_type": "code",
   "execution_count": 8,
   "metadata": {},
   "outputs": [],
   "source": [
    "def create_graph(passes):\n",
    "    G = nx.DiGraph((x, y, {'weight': v}) for (x, y), v in Counter(passes).items())\n",
    "    return G"
   ]
  },
  {
   "cell_type": "code",
   "execution_count": 9,
   "metadata": {},
   "outputs": [],
   "source": [
    "def get_total_links(G):\n",
    "    DV = G.degree(weight='weight')\n",
    "    return sum(deg for n, deg in DV)/2.0"
   ]
  },
  {
   "cell_type": "code",
   "execution_count": 10,
   "metadata": {},
   "outputs": [],
   "source": [
    "def get_metrics(G):\n",
    "    total_links = get_total_links(G)\n",
    "    density = nx.density(G)\n",
    "    \n",
    "    return total_links, density"
   ]
  },
  {
   "cell_type": "code",
   "execution_count": 11,
   "metadata": {},
   "outputs": [],
   "source": [
    "def compute_average(player_metrics):\n",
    "    average = {}\n",
    "    \n",
    "    for player in player_metrics:\n",
    "        if len(player_metrics[player][0]) < 5:\n",
    "            continue\n",
    "        \n",
    "        average[player] = [np.mean(player_metrics[player][0]), np.mean(player_metrics[player][1])]\n",
    "    \n",
    "    return average"
   ]
  },
  {
   "cell_type": "code",
   "execution_count": 52,
   "metadata": {},
   "outputs": [],
   "source": [
    "def compute_difference(pos_metrics, team_props, roster):\n",
    "    difference = {}\n",
    "    \n",
    "    for player in pos_metrics:\n",
    "        if len(pos_metrics[player][0]) < 150:\n",
    "            continue\n",
    "            \n",
    "        try:\n",
    "            team = roster[player]\n",
    "            diff1 = np.mean(pos_metrics[player][0]) - np.mean(team_props[team][0])\n",
    "            diff2 = np.mean(pos_metrics[player][1]) - np.mean(team_props[team][1])\n",
    "            norm1 = diff1 / np.std(team_props[team][0])\n",
    "            norm2 = diff2 / np.std(team_props[team][1])\n",
    "            \n",
    "            difference[player] = [norm1, norm2]\n",
    "            \n",
    "        except:\n",
    "            continue\n",
    "    \n",
    "    return difference"
   ]
  },
  {
   "cell_type": "code",
   "execution_count": 13,
   "metadata": {},
   "outputs": [
    {
     "data": {
      "text/plain": [
       "{'Barcelona': 1.416666667,\n",
       " 'Las Palmas': 11.0,\n",
       " 'Rayo Vallecano': 12.8,\n",
       " 'Real Madrid': 1.833333333,\n",
       " 'Real Murcia': 19.0,\n",
       " 'Valencia': 5.666666667,\n",
       " 'Celta Vigo': 10.66666667,\n",
       " 'Villarreal': 6.090909091,\n",
       " 'Sevilla': 5.666666667,\n",
       " 'Atlético Madrid': 5.5,\n",
       " 'Real Betis': 12.66666667,\n",
       " 'Athletic Bilbao': 9.583333333,\n",
       " 'Getafe': 12.91666667,\n",
       " 'Real Valladolid': 16.2,\n",
       " 'Deportivo La Coruna': 12.5,\n",
       " 'Real Zaragoza': 13.75,\n",
       " 'Recreativo Huelva': 14.66666667,\n",
       " 'Mallorca': 11.77777778,\n",
       " 'Deportivo Alavés': 18.0,\n",
       " 'Gimnàstic Tarragona': 20.0,\n",
       " 'Real Sociedad': 11.77777778,\n",
       " 'Elche': 14.5,\n",
       " 'Cádiz': 19.0,\n",
       " 'Eibar': 15.0,\n",
       " 'Albacete': 20.0,\n",
       " 'Espanyol': 11.33333333,\n",
       " 'Almería': 14.66666667,\n",
       " 'Málaga': 10.2,\n",
       " 'Racing Santander': 13.625,\n",
       " 'Hércules': 19.0,\n",
       " 'Córdoba': 20.0,\n",
       " 'Granada': 16.2,\n",
       " 'Osasuna': 12.6,\n",
       " 'Levante': 14.11111111,\n",
       " 'Tenerife': 19.0,\n",
       " 'Xerez': 20.0,\n",
       " 'Sporting Gijón': 15.4,\n",
       " 'Numancia': 19.0}"
      ]
     },
     "execution_count": 13,
     "metadata": {},
     "output_type": "execute_result"
    }
   ],
   "source": [
    "def la_liga_team_placements():\n",
    "    placements = {}\n",
    "    \n",
    "    with open('./Contributions/La_Liga_Standings.csv', newline='', encoding='utf-8') as f:\n",
    "        reader = csv.reader(f)\n",
    "        for row in reader:\n",
    "            if row[-1] != \"Average\":\n",
    "                placements[row[0]] = float(row[-1])\n",
    "                \n",
    "    return placements\n",
    "    \n",
    "la_liga_team_placements()"
   ]
  },
  {
   "cell_type": "markdown",
   "metadata": {},
   "source": [
    "# Compute Network Metrics"
   ]
  },
  {
   "cell_type": "code",
   "execution_count": 14,
   "metadata": {},
   "outputs": [],
   "source": [
    "players = pd.read_hdf(spadl_h5,\"players\")\n",
    "teams = pd.read_hdf(spadl_h5,\"teams\")\n",
    "actiontypes = pd.read_hdf(spadl_h5, \"actiontypes\")\n",
    "bodyparts = pd.read_hdf(spadl_h5, \"bodyparts\")\n",
    "results = pd.read_hdf(spadl_h5, \"results\")"
   ]
  },
  {
   "cell_type": "code",
   "execution_count": 19,
   "metadata": {},
   "outputs": [
    {
     "name": "stderr",
     "output_type": "stream",
     "text": [
      "100%|████████████████████████████████████████████████████████████████████████████████| 348/348 [12:07<00:00,  2.55s/it]\n"
     ]
    }
   ],
   "source": [
    "pos_metrics = {}\n",
    "not_pos_metrics = {}\n",
    "team_props = {}\n",
    "roster = {}\n",
    "\n",
    "for game in tqdm.tqdm(list(games.itertuples())):\n",
    "    actions = pd.read_hdf(spadl_h5,f\"actions/game_{game.game_id}\")\n",
    "    actions = (\n",
    "        actions.merge(actiontypes)\n",
    "        .merge(results)\n",
    "        .merge(bodyparts)\n",
    "        .merge(players,\"left\",on=\"player_id\")\n",
    "        .merge(teams,\"left\",on=\"team_id\")\n",
    "        .sort_values([\"period_id\", \"time_seconds\", \"timestamp\"])\n",
    "        .reset_index(drop=True)\n",
    "    )\n",
    "    \n",
    "    possessions, team1, team2, team1_name, team2_name = extract_possessions(actions)\n",
    "    \n",
    "    for player in team1:\n",
    "        roster[player] = team1_name\n",
    "    for player in team2:\n",
    "        roster[player] = team2_name\n",
    "           \n",
    "    for pos in possessions:\n",
    "        pos_players, pos_team = players_in_pos(pos)\n",
    "        \n",
    "        if pos_team is None:\n",
    "            continue\n",
    "        \n",
    "        passes = pos_pass_list(pos)\n",
    "        \n",
    "        if len(passes) < 3:\n",
    "            continue\n",
    "        \n",
    "        G = create_graph(passes)\n",
    "        \n",
    "        total_links, density = get_metrics(G)\n",
    "        \n",
    "        if pos_team in team_props:\n",
    "            team_props[pos_team][0].append(total_links)\n",
    "            team_props[pos_team][1].append(density)\n",
    "        else:\n",
    "            team_props[pos_team] = [[total_links], [density]]\n",
    "        \n",
    "        if pos_team == team1_name:\n",
    "            for player in team1:\n",
    "                if player in pos_players:\n",
    "                    if player in pos_metrics:\n",
    "                        pos_metrics[player][0].append(total_links)\n",
    "                        pos_metrics[player][1].append(density)\n",
    "                    else:\n",
    "                        pos_metrics[player] = [[total_links], [density]] \n",
    "                else:\n",
    "                    if player in not_pos_metrics:\n",
    "                        not_pos_metrics[player][0].append(total_links)\n",
    "                        not_pos_metrics[player][1].append(density)\n",
    "                    else:\n",
    "                        not_pos_metrics[player] = [[total_links], [density]] \n",
    "        else:\n",
    "            for player in team2:\n",
    "                if player in pos_players:\n",
    "                    if player in pos_metrics:\n",
    "                        pos_metrics[player][0].append(total_links)\n",
    "                        pos_metrics[player][1].append(density)\n",
    "                    else:\n",
    "                        pos_metrics[player] = [[total_links], [density]] \n",
    "                else:\n",
    "                    if player in not_pos_metrics:\n",
    "                        not_pos_metrics[player][0].append(total_links)\n",
    "                        not_pos_metrics[player][1].append(density)\n",
    "                    else:\n",
    "                        not_pos_metrics[player] = [[total_links], [density]] "
   ]
  },
  {
   "cell_type": "code",
   "execution_count": 57,
   "metadata": {},
   "outputs": [],
   "source": [
    "team_avg = compute_average(team_props)\n",
    "difference = compute_difference(pos_metrics, team_props, roster)\n",
    "placements = la_liga_team_placements()"
   ]
  },
  {
   "cell_type": "markdown",
   "metadata": {},
   "source": [
    "# Total Links"
   ]
  },
  {
   "cell_type": "code",
   "execution_count": 61,
   "metadata": {},
   "outputs": [
    {
     "name": "stdout",
     "output_type": "stream",
     "text": [
      "Andreu Fontàs Prat (Celta Vigo) : 2.2155685544675845\n",
      "Juan Isaac Cuenca López (Granada) : 2.0649445891702247\n",
      "Adriano Correia Claro (Sevilla) : 1.916933893042736\n",
      "David Villa Sánchez (Valencia) : 1.7458058380365242\n",
      "Martín Montoya Torralbo (Real Betis) : 1.5584519390093914\n",
      "Claudio Andrés Bravo Muñoz (Real Sociedad) : 1.3787242956237495\n",
      "Ibrahim Afellay (Barcelona) : 0.7701211242311883\n",
      "Thomas Vermaelen (Barcelona) : 0.6580363651843211\n",
      "Marc Bartra Aregall (Barcelona) : 0.5054098690548072\n",
      "Juan Francisco Torres Belén (Osasuna) : 0.480850096392671\n",
      "Fernando Navarro i Corbacho (Sevilla) : 0.4783256581652563\n",
      "Luka Modrić (Real Madrid) : 0.4714183881259725\n",
      "Thiago Alcântara do Nascimento (Barcelona) : 0.437881918297847\n",
      "Javier Alejandro Mascherano (Barcelona) : 0.43361432038041026\n",
      "Pedro Eliezer Rodríguez Ledesma (Barcelona) : 0.42477592040704787\n",
      "Sergi Roberto Carnicer (Barcelona) : 0.41569838302051515\n",
      "Jordi Alba Ramos (Barcelona) : 0.4121011504469722\n",
      "Rafael Alcântara do Nascimento (Barcelona) : 0.4052766940555768\n",
      "Víctor Ruíz Torre (Villarreal) : 0.4052451116406301\n",
      "Gorka Iraizoz Moreno (Athletic Bilbao) : 0.3947384049114669\n",
      "Alexandre Dimitri Song-Billong (Barcelona) : 0.389028922748187\n",
      "Gabriel Fernández Arenas (Real Zaragoza) : 0.38306734442362034\n",
      "Alexis Alejandro Sánchez Sánchez (Barcelona) : 0.37691455088139475\n",
      "Maxwell Scherrer Cabelino Andrade (Barcelona) : 0.374732331894703\n",
      "Gerard Piqué Bernabéu (Barcelona) : 0.371452955995816\n",
      "Munir El Haddadi Mohamed (Barcelona) : 0.3683782915153768\n",
      "Cristian Tello Herrera (Barcelona) : 0.3640504119712949\n",
      "Jorge Resurrección Merodio (Atlético Madrid) : 0.36215935827600787\n",
      "Kléper Laveran Lima Ferreira (Real Madrid) : 0.3621414673210969\n",
      "Seydou Kéita (Barcelona) : 0.3512905766881604\n",
      "Jérémy Mathieu (Barcelona) : 0.34934281680262635\n",
      "Jeffren Isaac Suárez Bermúdez (Barcelona) : 0.34727380025547183\n",
      "David Albelda Aliqués (Valencia) : 0.3389062710157323\n",
      "Marcelo Vieira da Silva Júnior (Real Madrid) : 0.3337601634691116\n",
      "Sergio Busquets i Burgos (Barcelona) : 0.33279728857842744\n",
      "Francesc Fàbregas i Soler (Barcelona) : 0.3242332470354592\n",
      "Daniel Parejo Muñoz (Valencia) : 0.3169073386088711\n",
      "Ivan Rakitić (Barcelona) : 0.31675766736923855\n",
      "Neymar da Silva Santos Junior (Barcelona) : 0.316382275309344\n",
      "Carlos Marchena López (Valencia) : 0.31312427775117746\n",
      "Tiago Cardoso Mendes (Atlético Madrid) : 0.3089338350937979\n",
      "Arda Turan (Barcelona) : 0.3029776397766654\n",
      "Aleix Vidal Parreu (Barcelona) : 0.2982614408511054\n",
      "Sergio Ramos García (Real Madrid) : 0.2916746050058941\n",
      "Joaquín Sánchez Rodríguez (Valencia) : 0.28386026979413986\n",
      "Antonio López Guerrero (Atlético Madrid) : 0.2806753769360472\n",
      "Rubén Gracia Calmache (Villarreal) : 0.2747309446771786\n",
      "Daniel Alves da Silva (Barcelona) : 0.2737024765390546\n",
      "Ander Herrera Agüera (Athletic Bilbao) : 0.26980732845909905\n",
      "Carles Puyol i Saforcada (Barcelona) : 0.26636001393926484\n",
      "Lionel Andrés Messi Cuccittini (Barcelona) : 0.2616434709758167\n",
      "Bruno Soriano Llido (Villarreal) : 0.25889282064043406\n",
      "Luis Alberto Suárez Díaz (Barcelona) : 0.257654854203333\n",
      "Luís Miguel Brito Garcia Monteiro (Valencia) : 0.2546706114508145\n",
      "Eric-Sylvain Bilal Abidal (Barcelona) : 0.24743792173803186\n",
      "Karim Benzema (Real Madrid) : 0.24401612750497034\n",
      "Dmytro Chygrynskiy (Barcelona) : 0.24356171300257015\n",
      "Markel Susaeta Laskurain (Athletic Bilbao) : 0.24129588829336793\n",
      "Mehdi Lacen (Racing Santander) : 0.24107803515456155\n",
      "Andrés Iniesta Luján (Barcelona) : 0.23323701310755324\n",
      "Jesús Navas González (Sevilla) : 0.23068989703780335\n",
      "Javier Martínez Aginaga (Athletic Bilbao) : 0.22877885692775185\n",
      "Marcos Antonio Senna da Silva (Villarreal) : 0.22386590679716242\n",
      "Lilian Thuram (Barcelona) : 0.21458710805023298\n",
      "Cristiano Ronaldo dos Santos Aveiro (Real Madrid) : 0.21211442503744493\n",
      "Francisco Puñal Martínez (Osasuna) : 0.2119558478556382\n",
      "Óscar de Marcos Arana (Athletic Bilbao) : 0.19972275865091474\n",
      "Víctor Valdés Arribas (Barcelona) : 0.19539178276303706\n",
      "Xavier Hernández Creus (Barcelona) : 0.19268021243628444\n",
      "David Josué Jiménez Silva (Valencia) : 0.19069142518393348\n",
      "José Manuel Pinto Colorado (Barcelona) : 0.18590342698113682\n",
      "Bojan Krkíc Pérez (Barcelona) : 0.1822953935165069\n",
      "Zlatan Ibrahimović (Barcelona) : 0.18208848343764555\n",
      "Gianluca Zambrotta (Barcelona) : 0.18053277540869248\n",
      "Roberto Trashorras Gayoso (Rayo Vallecano) : 0.16848507544354815\n",
      "Andoni Iraola Sagarna (Athletic Bilbao) : 0.15110548657937414\n",
      "Xabier Prieto Argarate (Real Sociedad) : 0.1369054056708884\n",
      "Gnégnéri Yaya Touré (Barcelona) : 0.10875980113283915\n",
      "Gabriel Alejandro Milito (Barcelona) : 0.10717316918654661\n",
      "Éver Maximiliano David Banega (Atlético Madrid) : 0.1012332895919412\n",
      "Giovanni van Bronckhorst (Barcelona) : 0.0870143852510159\n",
      "Joan Verdú Fernández (Deportivo La Coruna) : 0.08414788778428312\n",
      "Sylvio Mendes Campos Junior (Barcelona) : 0.07984434362368587\n",
      "Frédéric Oumar Kanouté (Sevilla) : 0.07493206009098208\n",
      "Raúl García Escudero (Atlético Madrid) : 0.07358537718881789\n",
      "Oleguer Presas Renom (Barcelona) : 0.05030897345497231\n",
      "Rafael Márquez Álvarez (Barcelona) : 0.04551277632948183\n",
      "Thiago Motta (Barcelona) : 0.036892740856643964\n",
      "Eiður Smári Guðjohnsen (Barcelona) : 0.023875522141944588\n",
      "Juan Francisco García García (Real Zaragoza) : 0.015554131147982122\n",
      "Samuel Eto\"o Fils (Barcelona) : -0.008620552936099802\n",
      "Thierry Henry (Barcelona) : -0.011040117835384439\n",
      "José Martín Cáceres Silva (Barcelona) : -0.025257858131625094\n",
      "Ludovic Giuly (Barcelona) : -0.028364261633817153\n",
      "Simão Pedro Fonseca Sabrosa (Atlético Madrid) : -0.029191910305635314\n",
      "Ronaldo de Assis Moreira (Barcelona) : -0.030369570130217162\n",
      "José Edmílson Gomes de Moraes (Barcelona) : -0.034496234785600696\n",
      "Anderson Luís de Souza (Barcelona) : -0.05369640501515415\n",
      "Xabier Alonso Olano (Real Madrid) : -0.05573290678591975\n",
      "Sergio García De La Fuente (Real Betis) : -0.059007877686288214\n",
      "Giovani dos Santos Ramírez (Barcelona) : -0.07391667868967745\n",
      "Juliano Haus Belletti (Barcelona) : -0.10417842921098239\n",
      "Mark van Bommel (Barcelona) : -0.1916791029036273\n"
     ]
    }
   ],
   "source": [
    "count = 21\n",
    "\n",
    "ordered_players = OrderedDict(sorted(difference.items(), key=lambda x: x[1][0], reverse=True))\n",
    "for player in ordered_players:\n",
    "    team = roster[player]\n",
    "    if count > 0:\n",
    "        print(player + \" (\" + team + \") : \" + str(ordered_players[player][0]))\n",
    "        #count -= 1"
   ]
  },
  {
   "cell_type": "markdown",
   "metadata": {},
   "source": [
    "# Density"
   ]
  },
  {
   "cell_type": "code",
   "execution_count": 60,
   "metadata": {},
   "outputs": [
    {
     "name": "stdout",
     "output_type": "stream",
     "text": [
      "Claudio Andrés Bravo Muñoz (Real Sociedad) : -0.4664342437352757\n",
      "Juan Isaac Cuenca López (Granada) : -0.44938667699608775\n",
      "Adriano Correia Claro (Sevilla) : -0.41209687825727154\n",
      "Andreu Fontàs Prat (Celta Vigo) : -0.37873677210108664\n",
      "Víctor Ruíz Torre (Villarreal) : -0.36743426840030435\n",
      "David Villa Sánchez (Valencia) : -0.3592681274530591\n",
      "Martín Montoya Torralbo (Real Betis) : -0.3492346343112816\n",
      "Jeffren Isaac Suárez Bermúdez (Barcelona) : -0.34633625761940884\n",
      "Gorka Iraizoz Moreno (Athletic Bilbao) : -0.333864183390192\n",
      "Marc Bartra Aregall (Barcelona) : -0.31305997047820855\n",
      "Luis Alberto Suárez Díaz (Barcelona) : -0.30736491248025394\n",
      "Munir El Haddadi Mohamed (Barcelona) : -0.2997958274945992\n",
      "José Manuel Pinto Colorado (Barcelona) : -0.2968336909473386\n",
      "Javier Alejandro Mascherano (Barcelona) : -0.2962098370551698\n",
      "Víctor Valdés Arribas (Barcelona) : -0.2938993799748879\n",
      "Rafael Alcântara do Nascimento (Barcelona) : -0.2868586412853839\n",
      "Sergio Ramos García (Real Madrid) : -0.2861570440779701\n",
      "Alexandre Dimitri Song-Billong (Barcelona) : -0.28110989295122685\n",
      "Thomas Vermaelen (Barcelona) : -0.2751279234541338\n",
      "Jérémy Mathieu (Barcelona) : -0.27484639864536375\n",
      "Neymar da Silva Santos Junior (Barcelona) : -0.27143176287001763\n"
     ]
    }
   ],
   "source": [
    "count = 21\n",
    "\n",
    "ordered_players = OrderedDict(sorted(difference.items(), key=lambda x: x[1][1], reverse=False))\n",
    "for player in ordered_players:\n",
    "    team = roster[player]\n",
    "    if count > 0:\n",
    "        print(player + \" (\" + team + \") : \" + str(ordered_players[player][1]))\n",
    "        count -= 1"
   ]
  },
  {
   "cell_type": "markdown",
   "metadata": {},
   "source": [
    "# La Liga Team Possession Regression "
   ]
  },
  {
   "cell_type": "code",
   "execution_count": 40,
   "metadata": {},
   "outputs": [],
   "source": [
    "from scipy import stats"
   ]
  },
  {
   "cell_type": "code",
   "execution_count": 43,
   "metadata": {},
   "outputs": [],
   "source": [
    "ordered_teams = OrderedDict(sorted(team_avg.items(), key=lambda x: x[1][0], reverse=True))\n",
    "metrics = [\"Total Links\", \"Density\"]"
   ]
  },
  {
   "cell_type": "code",
   "execution_count": 46,
   "metadata": {},
   "outputs": [
    {
     "data": {
      "image/png": "[encoded data removed]",
      "text/plain": [
       "<Figure size 432x288 with 1 Axes>"
      ]
     },
     "metadata": {
      "needs_background": "light"
     },
     "output_type": "display_data"
    },
    {
     "name": "stdout",
     "output_type": "stream",
     "text": [
      "slope: -4.700932140330345\n",
      "r: -0.5922252305118628\n",
      "p: 8.970007390280536e-05\n",
      "std_err 1.0660025711571395\n",
      "\n"
     ]
    },
    {
     "data": {
      "image/png": "[encoded data removed]",
      "text/plain": [
       "<Figure size 432x288 with 1 Axes>"
      ]
     },
     "metadata": {
      "needs_background": "light"
     },
     "output_type": "display_data"
    },
    {
     "name": "stdout",
     "output_type": "stream",
     "text": [
      "slope: 73.04211661257081\n",
      "r: 0.24830250928089306\n",
      "p: 0.13279740064441628\n",
      "std_err 47.49221911756587\n",
      "\n"
     ]
    }
   ],
   "source": [
    "for i in range(2):\n",
    "\n",
    "    X = []\n",
    "    y = []\n",
    "\n",
    "    for team in ordered_teams:\n",
    "        X.append(ordered_teams[team][i])\n",
    "        y.append(placements[team])\n",
    "\n",
    "    slope, intercept, r_value, p_value, std_err = stats.linregress(X,y)\n",
    "    \n",
    "    yPred1 = [intercept + slope * x for x in X]\n",
    "    plt.scatter(X, y,alpha=0.5)\n",
    "    plt.plot(X, yPred1, 'r', label=\"Linear\")\n",
    "    plt.title(\"L2 Linear Regression: \" + metrics[i])\n",
    "    plt.ylabel(\"Average Placement\")\n",
    "    plt.xlabel(metrics[i])\n",
    "    plt.show()\n",
    "    \n",
    "    print(\"slope:\", slope)\n",
    "    print(\"r:\", r_value)\n",
    "    print(\"p:\", p_value)\n",
    "    print(\"std_err\", std_err)\n",
    "    print()"
   ]
  },
  {
   "cell_type": "code",
   "execution_count": null,
   "metadata": {},
   "outputs": [],
   "source": []
  }
 ],
 "metadata": {
  "kernelspec": {
   "display_name": "Python 3",
   "language": "python",
   "name": "python3"
  },
  "language_info": {
   "codemirror_mode": {
    "name": "ipython",
    "version": 3
   },
   "file_extension": ".py",
   "mimetype": "text/x-python",
   "name": "python",
   "nbconvert_exporter": "python",
   "pygments_lexer": "ipython3",
   "version": "3.7.1"
  }
 },
 "nbformat": 4,
 "nbformat_minor": 2
}
