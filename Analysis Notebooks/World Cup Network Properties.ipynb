{
 "cells": [
  {
   "cell_type": "markdown",
   "metadata": {},
   "source": [
    "# Load Data"
   ]
  },
  {
   "cell_type": "code",
   "execution_count": 1,
   "metadata": {},
   "outputs": [],
   "source": [
    "%load_ext autoreload\n",
    "%autoreload 2\n",
    "import os; import sys; sys.path.append('../')\n",
    "import pandas as pd\n",
    "import tqdm\n",
    "import warnings\n",
    "import copy\n",
    "warnings.simplefilter(action='ignore', category=pd.errors.PerformanceWarning)\n",
    "\n",
    "import networkx as nx\n",
    "import numpy as np\n",
    "from collections import Counter\n",
    "from collections import OrderedDict\n",
    "import matplotlib.pyplot as plt"
   ]
  },
  {
   "cell_type": "code",
   "execution_count": 2,
   "metadata": {},
   "outputs": [],
   "source": [
    "## Configure file and folder names\n",
    "datafolder = \"../data\"\n",
    "spadl_h5 = os.path.join(datafolder,\"spadl-statsbomb.h5\")"
   ]
  },
  {
   "cell_type": "code",
   "execution_count": 3,
   "metadata": {},
   "outputs": [
    {
     "name": "stdout",
     "output_type": "stream",
     "text": [
      "nb of games: 64\n"
     ]
    }
   ],
   "source": [
    "games = pd.read_hdf(spadl_h5,\"games\")\n",
    "games = games[games.competition_name == \"FIFA World Cup\"]\n",
    "print(\"nb of games:\", len(games))"
   ]
  },
  {
   "cell_type": "markdown",
   "metadata": {},
   "source": [
    "# Helper Functions"
   ]
  },
  {
   "cell_type": "code",
   "execution_count": 4,
   "metadata": {},
   "outputs": [],
   "source": [
    "def teams_in_game(actions):\n",
    "    team1 = actions.loc[0][\"team_name\"]\n",
    "    for i in range(1, len(actions)):\n",
    "        team2 = actions.loc[i][\"team_name\"]\n",
    "        if (team2 != team1):\n",
    "            return team1, team2"
   ]
  },
  {
   "cell_type": "code",
   "execution_count": 5,
   "metadata": {},
   "outputs": [],
   "source": [
    "def game_pass_list(actions, team1):\n",
    "    edges1 = []\n",
    "    edges2 = []\n",
    "    pass_action = ['pass', 'throw_in', 'corner_crossed', 'freekick_crossed', 'cross', \n",
    "                  'freekick_short', 'goalkick', 'corner_short']\n",
    "    \n",
    "    for i in range(len(actions)):\n",
    "        action = actions.loc[i][\"type_name\"]\n",
    "          \n",
    "        if action in pass_action:\n",
    "            if actions.loc[i][\"result_name\"] == 'success':\n",
    "                passer = actions.loc[i][\"player_name\"]\n",
    "                team = actions.loc[i][\"team_name\"]\n",
    "                j = 1\n",
    "                while i+j < len(actions) and (actions.loc[i+j][\"team_name\"] != team):\n",
    "                    j += 1\n",
    "                try:\n",
    "                    passer = actions.loc[i][\"player_name\"]\n",
    "                    receiver = actions.loc[i+j][\"player_name\"]\n",
    "                    if team == team1:\n",
    "                        edges1.append((passer, receiver))\n",
    "                    else:\n",
    "                        edges2.append((passer, receiver))\n",
    "                except:\n",
    "                    continue\n",
    "                \n",
    "    return edges1, edges2"
   ]
  },
  {
   "cell_type": "code",
   "execution_count": 6,
   "metadata": {},
   "outputs": [],
   "source": [
    "def create_graph(passes):\n",
    "    G = nx.DiGraph((x, y, {'weight': v}) for (x, y), v in Counter(passes).items())\n",
    "    return G"
   ]
  },
  {
   "cell_type": "code",
   "execution_count": 7,
   "metadata": {},
   "outputs": [],
   "source": [
    "def get_total_links(G):\n",
    "    DV = G.degree(weight='weight')\n",
    "    return sum(deg for n, deg in DV)/2"
   ]
  },
  {
   "cell_type": "code",
   "execution_count": 8,
   "metadata": {},
   "outputs": [],
   "source": [
    "def get_metrics(G):\n",
    "    total_links = get_total_links(G)\n",
    "    density = nx.density(G)\n",
    "    diameter = nx.diameter(G.to_undirected())\n",
    "    average_clustering = nx.average_clustering(G)\n",
    "    \n",
    "    return total_links, density, diameter, average_clustering"
   ]
  },
  {
   "cell_type": "code",
   "execution_count": 48,
   "metadata": {},
   "outputs": [],
   "source": [
    "def compute_average(team_props):\n",
    "    average = {}\n",
    "    \n",
    "    for team in team_props:\n",
    "        average[team] = [np.mean(team_props[team][0]), np.mean(team_props[team][1]), \n",
    "                         np.mean(team_props[team][2]), np.mean(team_props[team][3])]\n",
    "    \n",
    "    return average"
   ]
  },
  {
   "cell_type": "code",
   "execution_count": 66,
   "metadata": {},
   "outputs": [],
   "source": [
    "def world_cup_team_placements():\n",
    "    placements = {}\n",
    "    placements['France'] = 1.5\n",
    "    placements['Croatia'] = 1.5\n",
    "    placements['Belgium'] = 3.5\n",
    "    placements['England'] = 3.5\n",
    "    placements['Uruguay'] = 6.5\n",
    "    placements['Brazil'] = 6.5\n",
    "    placements['Russia'] = 6.5\n",
    "    placements['Sweden'] = 6.5\n",
    "    placements['Portugal'] = 12.5\n",
    "    placements['Argentina'] = 12.5\n",
    "    placements['Mexico'] = 12.5\n",
    "    placements['Japan'] = 12.5\n",
    "    placements['Spain'] = 12.5\n",
    "    placements['Denmark'] = 12.5\n",
    "    placements['Switzerland'] = 12.5\n",
    "    placements['Colombia'] = 12.5\n",
    "    placements['Saudi Arabia'] = 24.5\n",
    "    placements['Iran'] = 24.5\n",
    "    placements['Peru'] = 24.5\n",
    "    placements['Nigeria'] = 24.5\n",
    "    placements['Serbia'] = 24.5\n",
    "    placements['South Korea'] = 24.5\n",
    "    placements['Tunisia'] = 24.5\n",
    "    placements['Senegal'] = 24.5\n",
    "    placements['Egypt'] = 24.5\n",
    "    placements['Morocco'] = 24.5\n",
    "    placements['Australia'] = 24.5\n",
    "    placements['Iceland'] = 24.5\n",
    "    placements['Costa Rica'] = 24.5\n",
    "    placements['Germany'] = 24.5\n",
    "    placements['Panama'] = 24.5\n",
    "    placements['Poland'] = 24.5\n",
    "    \n",
    "    return placements"
   ]
  },
  {
   "cell_type": "markdown",
   "metadata": {},
   "source": [
    "# Compute Network Metrics"
   ]
  },
  {
   "cell_type": "code",
   "execution_count": 67,
   "metadata": {},
   "outputs": [],
   "source": [
    "players = pd.read_hdf(spadl_h5,\"players\")\n",
    "teams = pd.read_hdf(spadl_h5,\"teams\")\n",
    "actiontypes = pd.read_hdf(spadl_h5, \"actiontypes\")\n",
    "bodyparts = pd.read_hdf(spadl_h5, \"bodyparts\")\n",
    "results = pd.read_hdf(spadl_h5, \"results\")"
   ]
  },
  {
   "cell_type": "code",
   "execution_count": 68,
   "metadata": {},
   "outputs": [
    {
     "name": "stderr",
     "output_type": "stream",
     "text": [
      "100%|██████████████████████████████████████████████████████████████████████████████████████████████████████████████████████████████████████████████████████████████████████████████████████████| 64/64 [01:08<00:00,  1.06s/it]\n"
     ]
    }
   ],
   "source": [
    "team_props = {}\n",
    "\n",
    "for game in tqdm.tqdm(list(games.itertuples())):\n",
    "    actions = pd.read_hdf(spadl_h5,f\"actions/game_{game.game_id}\")\n",
    "    actions = (\n",
    "        actions.merge(actiontypes)\n",
    "        .merge(results)\n",
    "        .merge(bodyparts)\n",
    "        .merge(players,\"left\",on=\"player_id\")\n",
    "        .merge(teams,\"left\",on=\"team_id\")\n",
    "        .sort_values([\"period_id\", \"time_seconds\", \"timestamp\"])\n",
    "        .reset_index(drop=True)\n",
    "    )\n",
    "    \n",
    "    team1, team2 = teams_in_game(actions)\n",
    "    \n",
    "    if team1 is np.nan or team2 is np.nan:\n",
    "        continue\n",
    "    \n",
    "    passes1, passes2 = game_pass_list(actions, team1)\n",
    "    G1 = create_graph(passes1)\n",
    "    G2 = create_graph(passes2)\n",
    "    \n",
    "    total_links1, density1, diameter1, avg_clustering1 = get_metrics(G1)\n",
    "    total_links2, density2, diameter2, avg_clustering2 = get_metrics(G2)\n",
    "\n",
    "    if team1 in team_props:\n",
    "        team_props[team1][0].append(total_links1)\n",
    "        team_props[team1][1].append(density1)\n",
    "        team_props[team1][2].append(diameter1)\n",
    "        team_props[team1][3].append(avg_clustering1)\n",
    "    else:\n",
    "        team_props[team1] = [[total_links1], [density1], [diameter1], [avg_clustering1]]\n",
    "        \n",
    "    if team2 in team_props:\n",
    "        team_props[team2][0].append(total_links2)\n",
    "        team_props[team2][1].append(density2)\n",
    "        team_props[team2][2].append(diameter2)\n",
    "        team_props[team2][3].append(avg_clustering2)\n",
    "    else:\n",
    "        team_props[team2] = [[total_links2], [density2], [diameter2], [avg_clustering2]]   "
   ]
  },
  {
   "cell_type": "code",
   "execution_count": 69,
   "metadata": {},
   "outputs": [],
   "source": [
    "average = compute_average(team_props)\n",
    "placements = world_cup_team_placements()"
   ]
  },
  {
   "cell_type": "code",
   "execution_count": 70,
   "metadata": {},
   "outputs": [
    {
     "name": "stdout",
     "output_type": "stream",
     "text": [
      "Spain (12.5) : [786.0, 0.6552197802197802, 2.0, 0.785654480098664]\n",
      "Germany (24.5) : [593.6666666666666, 0.6593406593406593, 2.0, 0.7889003350525345]\n",
      "Saudi Arabia (24.5) : [517.0, 0.6120268620268621, 2.3333333333333335, 0.7443915208806587]\n",
      "Argentina (12.5) : [512.75, 0.6673534798534799, 2.0, 0.7570395346429591]\n",
      "Brazil (6.5) : [497.8, 0.6472527472527473, 2.0, 0.7465819832397076]\n",
      "England (3.5) : [489.0, 0.6595499738356881, 2.2857142857142856, 0.7760790014603869]\n",
      "Switzerland (12.5) : [462.5, 0.6298076923076923, 2.25, 0.7554852317895516]\n",
      "Belgium (3.5) : [461.0, 0.641156462585034, 2.142857142857143, 0.7461537669158632]\n",
      "Croatia (1.5) : [458.0, 0.5968079539508111, 2.142857142857143, 0.7119460227003334]\n",
      "Japan (12.5) : [440.75, 0.6009615384615384, 2.5, 0.7129468375689421]\n",
      "Australia (24.5) : [426.6666666666667, 0.5732600732600733, 2.0, 0.7137396237322484]\n",
      "Poland (24.5) : [412.6666666666667, 0.6105006105006104, 2.0, 0.7257510048489794]\n",
      "Portugal (12.5) : [407.5, 0.6002747252747254, 2.5, 0.7351710641052069]\n",
      "Tunisia (24.5) : [406.0, 0.6043956043956044, 2.3333333333333335, 0.7269556955603731]\n",
      "Colombia (12.5) : [385.25, 0.6005494505494506, 2.0, 0.7462410611805583]\n",
      "Peru (24.5) : [378.0, 0.6062271062271062, 2.0, 0.7241878518194805]\n",
      "France (1.5) : [377.42857142857144, 0.5800627943485086, 2.2857142857142856, 0.6956762518365495]\n",
      "Uruguay (6.5) : [362.0, 0.59010989010989, 2.2, 0.6752298852818245]\n",
      "Mexico (12.5) : [360.5, 0.6057692307692307, 2.0, 0.7131854424279647]\n",
      "Denmark (12.5) : [348.0, 0.614514652014652, 2.0, 0.6960750380018763]\n",
      "Egypt (24.5) : [333.0, 0.5824175824175825, 2.0, 0.7035498647391627]\n",
      "Morocco (24.5) : [326.3333333333333, 0.576923076923077, 2.3333333333333335, 0.7245625763838791]\n",
      "Nigeria (24.5) : [318.6666666666667, 0.561965811965812, 2.6666666666666665, 0.6975373546645214]\n",
      "Serbia (24.5) : [315.6666666666667, 0.5830280830280831, 2.3333333333333335, 0.7016708619911914]\n",
      "Costa Rica (24.5) : [293.0, 0.564102564102564, 2.6666666666666665, 0.6655326243952369]\n",
      "Panama (24.5) : [281.0, 0.5476190476190476, 2.3333333333333335, 0.6861437670392284]\n",
      "Russia (6.5) : [277.6, 0.5728205128205129, 2.2, 0.6825070972043414]\n",
      "Senegal (24.5) : [272.3333333333333, 0.5091575091575091, 2.6666666666666665, 0.675562697474006]\n",
      "South Korea (24.5) : [255.0, 0.5824175824175825, 2.3333333333333335, 0.6990508141022027]\n",
      "Sweden (6.5) : [241.0, 0.48571428571428565, 2.2, 0.6260520315675765]\n",
      "Iceland (24.5) : [199.0, 0.4926739926739927, 2.6666666666666665, 0.6387103021825647]\n",
      "Iran (24.5) : [156.66666666666666, 0.4597069597069597, 3.0, 0.563359127600224]\n"
     ]
    }
   ],
   "source": [
    "ordered_teams = OrderedDict(sorted(average.items(), key=lambda x: x[1][0], reverse=True))\n",
    "for team in ordered_teams:\n",
    "    print(team + \" (\" + str(placements[team]) + \") : \" + str(ordered_teams[team]))"
   ]
  },
  {
   "cell_type": "markdown",
   "metadata": {},
   "source": [
    "# Placements"
   ]
  },
  {
   "cell_type": "code",
   "execution_count": 71,
   "metadata": {},
   "outputs": [],
   "source": [
    "import scipy.stats as stats"
   ]
  },
  {
   "cell_type": "code",
   "execution_count": 79,
   "metadata": {},
   "outputs": [
    {
     "name": "stdout",
     "output_type": "stream",
     "text": [
      "Placement: 24.5\n",
      "Total Links: 342.7916666666667\n",
      "Density: 0.5703601953601954\n",
      "Diameter: 2.3541666666666665\n",
      "Clustering Coefficient: 0.6987253764041558\n",
      "\n",
      "Placement: 12.5\n",
      "Total Links: 462.90625\n",
      "Density: 0.6218063186813187\n",
      "Diameter: 2.15625\n",
      "Clustering Coefficient: 0.7377248362269654\n",
      "\n",
      "Placement: 6.5\n",
      "Total Links: 344.6\n",
      "Density: 0.5739743589743589\n",
      "Diameter: 2.15\n",
      "Clustering Coefficient: 0.6825927493233626\n",
      "\n",
      "Placement: 3.5\n",
      "Total Links: 475.0\n",
      "Density: 0.6503532182103611\n",
      "Diameter: 2.2142857142857144\n",
      "Clustering Coefficient: 0.7611163841881252\n",
      "\n",
      "Placement: 1.5\n",
      "Total Links: 417.7142857142857\n",
      "Density: 0.5884353741496599\n",
      "Diameter: 2.2142857142857144\n",
      "Clustering Coefficient: 0.7038111372684414\n",
      "\n"
     ]
    }
   ],
   "source": [
    "place = [24.5, 12.5, 6.5, 3.5, 1.5]\n",
    "\n",
    "total_links = {}\n",
    "density = {}\n",
    "diameter = {}\n",
    "clustering_coefficient = {}\n",
    "\n",
    "for p in place:\n",
    "    total_links[p] = []\n",
    "    density[p] = []\n",
    "    diameter[p] = []\n",
    "    clustering_coefficient[p] = []\n",
    "    \n",
    "for team in team_props:\n",
    "    total_links[placements[team]] += team_props[team][0]\n",
    "    density[placements[team]] += team_props[team][1]\n",
    "    diameter[placements[team]] += team_props[team][2]\n",
    "    clustering_coefficient[placements[team]] += team_props[team][3]\n",
    "    \n",
    "for p in place:\n",
    "    print(\"Placement:\", p)\n",
    "    print(\"Total Links:\", np.mean(total_links[p]))\n",
    "    print(\"Density:\", np.mean(density[p]))\n",
    "    print(\"Diameter:\", np.mean(diameter[p]))\n",
    "    print(\"Clustering Coefficient:\", np.mean(clustering_coefficient[p]))\n",
    "    print()"
   ]
  },
  {
   "cell_type": "markdown",
   "metadata": {},
   "source": [
    "# Group vs Knockout ANOVA Test"
   ]
  },
  {
   "cell_type": "code",
   "execution_count": 102,
   "metadata": {},
   "outputs": [
    {
     "name": "stdout",
     "output_type": "stream",
     "text": [
      "F_onewayResult(statistic=11.208317356248294, pvalue=0.001074080419304197)\n",
      "F_onewayResult(statistic=10.358496012695651, pvalue=0.0016388990566032627)\n",
      "F_onewayResult(statistic=5.385934899204735, pvalue=0.021906607577012526)\n",
      "F_onewayResult(statistic=4.217350345894587, pvalue=0.042081490091037094)\n"
     ]
    }
   ],
   "source": [
    "net1 = []\n",
    "net2 = []\n",
    "net3 = []\n",
    "net4 = []\n",
    "for i in range(1, len(place)):\n",
    "    net1 += total_links[place[i]]\n",
    "    net2 += density[place[i]]\n",
    "    net3 += diameter[place[i]]\n",
    "    net4 += clustering_coefficient[place[i]]\n",
    "\n",
    "f_scores = []    \n",
    "\n",
    "f_scores.append(stats.f_oneway(total_links[24.5], net1))\n",
    "f_scores.append(stats.f_oneway(density[24.5], net2))\n",
    "f_scores.append(stats.f_oneway(diameter[24.5], net3))\n",
    "f_scores.append(stats.f_oneway(clustering_coefficient[24.5], net4))\n",
    "\n",
    "for f in f_scores:\n",
    "    print(f)"
   ]
  },
  {
   "cell_type": "markdown",
   "metadata": {},
   "source": [
    "# Quarters vs Semifinals ANOVA Test"
   ]
  },
  {
   "cell_type": "code",
   "execution_count": 103,
   "metadata": {},
   "outputs": [
    {
     "name": "stdout",
     "output_type": "stream",
     "text": [
      "F_onewayResult(statistic=8.23741914710647, pvalue=0.006180933702802763)\n",
      "F_onewayResult(statistic=4.728067985406065, pvalue=0.0348543753170518)\n",
      "F_onewayResult(statistic=0.3053097345132743, pvalue=0.5832478241464716)\n",
      "F_onewayResult(statistic=7.808965996018717, pvalue=0.007556010307061757)\n"
     ]
    }
   ],
   "source": [
    "f_scores = []    \n",
    "\n",
    "f_scores.append(stats.f_oneway(total_links[6.5], total_links[3.5]+total_links[1.5]))\n",
    "f_scores.append(stats.f_oneway(density[6.5], density[3.5]+density[1.5]))\n",
    "f_scores.append(stats.f_oneway(diameter[6.5], diameter[3.5]+diameter[1.5]))\n",
    "f_scores.append(stats.f_oneway(clustering_coefficient[6.5], clustering_coefficient[3.5]+clustering_coefficient[1.5]))\n",
    "\n",
    "for f in f_scores:\n",
    "    print(f)"
   ]
  },
  {
   "cell_type": "markdown",
   "metadata": {},
   "source": [
    "# World Cup Regression "
   ]
  },
  {
   "cell_type": "code",
   "execution_count": 75,
   "metadata": {},
   "outputs": [],
   "source": [
    "from scipy import stats"
   ]
  },
  {
   "cell_type": "code",
   "execution_count": 76,
   "metadata": {},
   "outputs": [
    {
     "data": {
      "image/png": "[encoded data removed]",
      "text/plain": [
       "<Figure size 432x288 with 1 Axes>"
      ]
     },
     "metadata": {
      "needs_background": "light"
     },
     "output_type": "display_data"
    },
    {
     "name": "stdout",
     "output_type": "stream",
     "text": [
      "slope: -0.020380268049560026\n",
      "r: -0.2891727772366525\n",
      "p: 0.10844215155018194\n",
      "std_err 0.012317695030015839\n",
      "\n"
     ]
    },
    {
     "data": {
      "image/png": "[encoded data removed]",
      "text/plain": [
       "<Figure size 432x288 with 1 Axes>"
      ]
     },
     "metadata": {
      "needs_background": "light"
     },
     "output_type": "display_data"
    },
    {
     "name": "stdout",
     "output_type": "stream",
     "text": [
      "slope: -56.51000305208243\n",
      "r: -0.3264506886629396\n",
      "p: 0.0682222868031707\n",
      "std_err 29.87289877615414\n",
      "\n"
     ]
    },
    {
     "data": {
      "image/png": "[encoded data removed]",
      "text/plain": [
       "<Figure size 432x288 with 1 Axes>"
      ]
     },
     "metadata": {
      "needs_background": "light"
     },
     "output_type": "display_data"
    },
    {
     "name": "stdout",
     "output_type": "stream",
     "text": [
      "slope: 10.437333748837915\n",
      "r: 0.3156193570023073\n",
      "p: 0.07846369403954354\n",
      "std_err 5.729006287691948\n",
      "\n"
     ]
    },
    {
     "data": {
      "image/png": "[encoded data removed]",
      "text/plain": [
       "<Figure size 432x288 with 1 Axes>"
      ]
     },
     "metadata": {
      "needs_background": "light"
     },
     "output_type": "display_data"
    },
    {
     "name": "stdout",
     "output_type": "stream",
     "text": [
      "slope: -35.2426733065353\n",
      "r: -0.1892252746000871\n",
      "p: 0.29962388024147735\n",
      "std_err 33.389601727743276\n",
      "\n"
     ]
    }
   ],
   "source": [
    "metrics = [\"Total Links\", \"Density\", \"Diameter\", \"Clustering\"]\n",
    "\n",
    "for i in range(4):\n",
    "\n",
    "    X = []\n",
    "    y = []\n",
    "\n",
    "    for team in ordered_teams:\n",
    "        X.append(ordered_teams[team][i])\n",
    "        y.append(placements[team])\n",
    "\n",
    "    slope, intercept, r_value, p_value, std_err = stats.linregress(X,y)\n",
    "    \n",
    "    yPred1 = [intercept + slope * x for x in X]\n",
    "    plt.scatter(X, y,alpha=0.5)\n",
    "    plt.plot(X, yPred1, 'r', label=\"Linear\")\n",
    "    plt.title(metrics[i] + \" L2 Linear Regression\")\n",
    "    plt.ylabel(\"Placement\")\n",
    "    plt.xlabel(metrics[i])\n",
    "    plt.show()\n",
    "    \n",
    "    print(\"slope:\", slope)\n",
    "    print(\"r:\", r_value)\n",
    "    print(\"p:\", p_value)\n",
    "    print(\"std_err\", std_err)\n",
    "    print()"
   ]
  },
  {
   "cell_type": "code",
   "execution_count": null,
   "metadata": {},
   "outputs": [],
   "source": []
  }
 ],
 "metadata": {
  "kernelspec": {
   "display_name": "Python 3",
   "language": "python",
   "name": "python3"
  },
  "language_info": {
   "codemirror_mode": {
    "name": "ipython",
    "version": 3
   },
   "file_extension": ".py",
   "mimetype": "text/x-python",
   "name": "python",
   "nbconvert_exporter": "python",
   "pygments_lexer": "ipython3",
   "version": "3.7.1"
  }
 },
 "nbformat": 4,
 "nbformat_minor": 2
}
